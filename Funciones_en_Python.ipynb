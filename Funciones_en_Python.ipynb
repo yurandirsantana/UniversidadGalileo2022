{
  "nbformat": 4,
  "nbformat_minor": 0,
  "metadata": {
    "colab": {
      "name": "Funciones en Python.ipynb",
      "provenance": [],
      "collapsed_sections": []
    },
    "kernelspec": {
      "name": "python3",
      "display_name": "Python 3"
    },
    "language_info": {
      "name": "python"
    }
  },
  "cells": [
    {
      "cell_type": "markdown",
      "source": [
        "# Funciones en Pyhton"
      ],
      "metadata": {
        "id": "6CHDXzHAt1tC"
      }
    },
    {
      "cell_type": "markdown",
      "source": [
        "Una función en python tal como sucede en otras herramientas como Microsoft Excel es un bloque de código (instrucciones) que realiza una determinada tarea.\n",
        "\n",
        "Estas funciones pueden ser adaptadas a diversas tareas a través de sus parametros que si bien son muy flexibles están regidos por determinadas reglas.\n",
        "\n",
        "La **sintaxis** de las funciones es relativamente simple y puede ser descrita de la siguiente manera:"
      ],
      "metadata": {
        "id": "XD-mSNXRt4RJ"
      }
    },
    {
      "cell_type": "code",
      "execution_count": 2,
      "metadata": {
        "id": "9m82SAn6tyMN"
      },
      "outputs": [],
      "source": [
        "# En este ejemplo se utiliza la palabra def para iniciar el proceso de creación de la función\n",
        "\n",
        "# Posteriormente se le asigna el nombre, el cual en este caso es sumar y esta función se define como la suma de  19 + 97\n",
        "\n",
        "def suma():\n",
        "\n",
        "  19 + 97"
      ]
    },
    {
      "cell_type": "markdown",
      "source": [
        "## Parametros posicionales\n",
        "\n",
        "Un parametro es una característica que permite definir la formación de una función, es un elemento útil y crítico para el funcionamiento de esta."
      ],
      "metadata": {
        "id": "ia0qnYr5vd-w"
      }
    },
    {
      "cell_type": "code",
      "source": [
        "def registroacademico(first_name, last_name):\n",
        "    print(\"Mi nombre es %s %s\" %(first_name, last_name));\n",
        "    \n",
        "registroacademico(\"Yurandir\",\"Santana\")\n",
        "\n",
        "\n",
        "# En este ejemplo se puede observar que la asignación de enteros a las variables sigue el mismo orden de ejecución que la función definida previamente, por lo que\n",
        "# cumple con los parametros posicionales de definir de manera explícita la asignación del valor a cada variable."
      ],
      "metadata": {
        "colab": {
          "base_uri": "https://localhost:8080/"
        },
        "id": "cvhNswjYwli0",
        "outputId": "bd9e3fec-f965-4608-ba81-60d923cd390c"
      },
      "execution_count": 31,
      "outputs": [
        {
          "output_type": "stream",
          "name": "stdout",
          "text": [
            "Mi nombre es Yurandir Santana\n"
          ]
        }
      ]
    },
    {
      "cell_type": "markdown",
      "source": [
        "## Parametros nombrados\n",
        "\n",
        "Este tipo de parametro hace alusión a que si un valor está correctamente asignado a una variable, su orden de asignación no modifica el resultado final. "
      ],
      "metadata": {
        "id": "qycwdy0A0RxJ"
      }
    },
    {
      "cell_type": "code",
      "source": [
        "# Utilizando el código del ejemplo anterior acá las variables son asignadas a un tipo de datos strings, pero en orden inverso, sin embargo, \n",
        "# al ejecutar el código este no presenta fallas y muestra el mismo resultado que el ejemplo previo.\n",
        "\n",
        "registroacademico(last_name=\"Santana\",first_name=\"Yurandir\")"
      ],
      "metadata": {
        "colab": {
          "base_uri": "https://localhost:8080/"
        },
        "id": "0B8AxyAc0agW",
        "outputId": "b1510dc5-665d-40c5-8dd1-ff7ef17ca7ff"
      },
      "execution_count": 32,
      "outputs": [
        {
          "output_type": "stream",
          "name": "stdout",
          "text": [
            "Mi nombre es Yurandir Santana\n"
          ]
        }
      ]
    },
    {
      "cell_type": "markdown",
      "source": [
        "## Retorno de múltiples variables\n",
        "\n",
        "Las funciones de Python según sean definidas pueden o no retornar valores. Este tipo de retornos pueden ser de tipo indivicual - una variable - o de tipo conjunta - n variables -."
      ],
      "metadata": {
        "id": "4legV5Ww1UkW"
      }
    },
    {
      "cell_type": "code",
      "source": [
        "peso = 180\n",
        "altura = 165\n",
        "\n",
        "def medidascorporales(peso,altura):\n",
        "  return (peso,altura)\n",
        "\n",
        "print('Peso: %f' %(peso))\n",
        "print('Altura: %f' %(altura))"
      ],
      "metadata": {
        "colab": {
          "base_uri": "https://localhost:8080/"
        },
        "id": "0oWeNCrD11Wt",
        "outputId": "6af75b3b-6b25-4aa4-b4e8-60f08e80216d"
      },
      "execution_count": 37,
      "outputs": [
        {
          "output_type": "stream",
          "name": "stdout",
          "text": [
            "Peso: 180.000000\n",
            "Altura: 165.000000\n"
          ]
        }
      ]
    },
    {
      "cell_type": "markdown",
      "source": [
        "## Funciones anónimas o lambda\n",
        "\n",
        "Una función anónima como se puede intuir es aquelle que carece de nombre, es decir, una función que no necesita ser definida (def).\n",
        "\n",
        "La principal diferencia es que esta **solo puede estar compuesta de una expresión** y no de un bloque de expresiones como suele estar compuesta una función tradicional.\n",
        "\n",
        "Estas funciones son utilizadas para agilizar el tiempo de desarrollo de código y permiten realizar tareas sencillas para las cuales no se necesita un nivel de estructura y diseño tan sofisticado como lo requiere una función tradicional."
      ],
      "metadata": {
        "id": "RqFgGkBr2_kK"
      }
    },
    {
      "cell_type": "code",
      "source": [
        "multiplicacion = lambda num: num*2\n",
        "\n",
        "multiplicacion(1997)"
      ],
      "metadata": {
        "colab": {
          "base_uri": "https://localhost:8080/"
        },
        "id": "TN7zDP9s4D_m",
        "outputId": "5475ba4e-ca93-49e5-e84b-39dd5f80de3d"
      },
      "execution_count": 38,
      "outputs": [
        {
          "output_type": "execute_result",
          "data": {
            "text/plain": [
              "3994"
            ]
          },
          "metadata": {},
          "execution_count": 38
        }
      ]
    }
  ]
}