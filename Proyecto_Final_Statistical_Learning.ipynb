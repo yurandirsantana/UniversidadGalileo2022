{
  "nbformat": 4,
  "nbformat_minor": 0,
  "metadata": {
    "colab": {
      "name": "Proyecto Final - Statistical Learning.ipynb",
      "provenance": [],
      "collapsed_sections": []
    },
    "kernelspec": {
      "name": "python3",
      "display_name": "Python 3"
    },
    "language_info": {
      "name": "python"
    }
  },
  "cells": [
    {
      "cell_type": "markdown",
      "source": [
        "# Statistical Learning - Pryecto Final\n",
        "\n",
        "\n",
        "### Realizado por Yurandir Santa Maria Santana Sandoval"
      ],
      "metadata": {
        "id": "CRX0XKjqWCof"
      }
    },
    {
      "cell_type": "markdown",
      "source": [
        "El proyecto consiste en hacer clasificación binaria  para determinar si una persona sobrevive (y=1) o no (y=0) del hundimiento del Titanic.\n",
        "\n",
        "En este proyecto se busca crear un modelo con un nivel de exactitud de al menos el 80%.\n",
        "\n",
        "El proyecto está dividido en 2 partes de manera similar a como se divide o se trabaja un proyecto de ML real, es decir.\n",
        "\n",
        "### Entrenamiento,selección y validación.\n",
        "\n",
        "En esta parte se busca realizar el entrenamiento de los modelos  y todo lo que esto conlleva:\n",
        "\n",
        "* Selección y transformación de features (feature eng.) utilizando características generales, no específicas como identificadores o nombres.\n",
        "\n",
        "* Realizar las validaciones correspondientes (usando métricas de evaluación) y selección de hyper-parámetros y modelos.\n",
        "\n",
        "### Inferencia, predicción y despliegue de modelos\n",
        "\n",
        "En ML una vez entrenado el modelo (o modelos) estos son usados para predicción (etapa de inferencia) sobre nuevas observaciones, comúnmente integrandolos a una aplicación de software (por ejemplo, mobile o web) a través de un proceso conocido como “despliegue o deployment de ML”."
      ],
      "metadata": {
        "id": "fzKuqHWnWGrz"
      }
    },
    {
      "cell_type": "markdown",
      "source": [
        "## Importación de librerías"
      ],
      "metadata": {
        "id": "U_UhnEpRchbB"
      }
    },
    {
      "cell_type": "code",
      "source": [
        "import pandas as pd\n",
        "import numpy as np\n",
        "import matplotlib.pyplot as plt\n",
        "import sklearn.metrics as mt\n",
        "import tensorflow as tf\n",
        "import random\n",
        "from google.colab import drive \n",
        "from sklearn.model_selection import train_test_split"
      ],
      "metadata": {
        "id": "cybcyn1_XlFD"
      },
      "execution_count": null,
      "outputs": []
    },
    {
      "cell_type": "code",
      "source": [
        "import sklearn.metrics as metrics\n",
        "import joblib"
      ],
      "metadata": {
        "id": "A4iPB0S02cI_"
      },
      "execution_count": null,
      "outputs": []
    },
    {
      "cell_type": "markdown",
      "source": [
        "## Base de Datos"
      ],
      "metadata": {
        "id": "Dy4kK1MbXZT9"
      }
    },
    {
      "cell_type": "code",
      "source": [
        "# Autorización para Google Drive donde está cargado el archivo\n",
        "\n",
        "drive.mount('/content/gdrive')"
      ],
      "metadata": {
        "colab": {
          "base_uri": "https://localhost:8080/"
        },
        "id": "BxE1YWjsYhA-",
        "outputId": "8293b78a-2cc9-40d7-9249-1a4da5fbd6e5"
      },
      "execution_count": null,
      "outputs": [
        {
          "output_type": "stream",
          "name": "stdout",
          "text": [
            "Mounted at /content/gdrive\n"
          ]
        }
      ]
    },
    {
      "cell_type": "code",
      "source": [
        "DatabaseTitanic = pd.read_csv(\"/content/gdrive/My Drive/data_titanic_proyecto.csv\")\n",
        "DatabaseTitanic.head()"
      ],
      "metadata": {
        "colab": {
          "base_uri": "https://localhost:8080/",
          "height": 206
        },
        "id": "1AyQYjYaXjFp",
        "outputId": "46ebc0a2-d006-410a-a121-ba2851bdfb30"
      },
      "execution_count": null,
      "outputs": [
        {
          "output_type": "execute_result",
          "data": {
            "text/plain": [
              "   PassengerId                                               Name   Age  \\\n",
              "0            1                            Braund, Mr. Owen Harris  22.0   \n",
              "1            2  Cumings, Mrs. John Bradley (Florence Briggs Th...  38.0   \n",
              "2            3                             Heikkinen, Miss. Laina  26.0   \n",
              "3            4       Futrelle, Mrs. Jacques Heath (Lily May Peel)  35.0   \n",
              "4            5                           Allen, Mr. William Henry  35.0   \n",
              "\n",
              "   SibSp  Parch            Ticket     Fare Cabin Embarked passenger_class  \\\n",
              "0      1      0         A/5 21171   7.2500   NaN        S           Lower   \n",
              "1      1      0          PC 17599  71.2833   C85        C           Upper   \n",
              "2      0      0  STON/O2. 3101282   7.9250   NaN        S           Lower   \n",
              "3      1      0            113803  53.1000  C123        S           Upper   \n",
              "4      0      0            373450   8.0500   NaN        S           Lower   \n",
              "\n",
              "  passenger_sex passenger_survived  \n",
              "0             M                  N  \n",
              "1             F                  Y  \n",
              "2             F                  Y  \n",
              "3             F                  Y  \n",
              "4             M                  N  "
            ],
            "text/html": [
              "\n",
              "  <div id=\"df-9f48d35c-3863-4526-a245-fc570e1d5caa\">\n",
              "    <div class=\"colab-df-container\">\n",
              "      <div>\n",
              "<style scoped>\n",
              "    .dataframe tbody tr th:only-of-type {\n",
              "        vertical-align: middle;\n",
              "    }\n",
              "\n",
              "    .dataframe tbody tr th {\n",
              "        vertical-align: top;\n",
              "    }\n",
              "\n",
              "    .dataframe thead th {\n",
              "        text-align: right;\n",
              "    }\n",
              "</style>\n",
              "<table border=\"1\" class=\"dataframe\">\n",
              "  <thead>\n",
              "    <tr style=\"text-align: right;\">\n",
              "      <th></th>\n",
              "      <th>PassengerId</th>\n",
              "      <th>Name</th>\n",
              "      <th>Age</th>\n",
              "      <th>SibSp</th>\n",
              "      <th>Parch</th>\n",
              "      <th>Ticket</th>\n",
              "      <th>Fare</th>\n",
              "      <th>Cabin</th>\n",
              "      <th>Embarked</th>\n",
              "      <th>passenger_class</th>\n",
              "      <th>passenger_sex</th>\n",
              "      <th>passenger_survived</th>\n",
              "    </tr>\n",
              "  </thead>\n",
              "  <tbody>\n",
              "    <tr>\n",
              "      <th>0</th>\n",
              "      <td>1</td>\n",
              "      <td>Braund, Mr. Owen Harris</td>\n",
              "      <td>22.0</td>\n",
              "      <td>1</td>\n",
              "      <td>0</td>\n",
              "      <td>A/5 21171</td>\n",
              "      <td>7.2500</td>\n",
              "      <td>NaN</td>\n",
              "      <td>S</td>\n",
              "      <td>Lower</td>\n",
              "      <td>M</td>\n",
              "      <td>N</td>\n",
              "    </tr>\n",
              "    <tr>\n",
              "      <th>1</th>\n",
              "      <td>2</td>\n",
              "      <td>Cumings, Mrs. John Bradley (Florence Briggs Th...</td>\n",
              "      <td>38.0</td>\n",
              "      <td>1</td>\n",
              "      <td>0</td>\n",
              "      <td>PC 17599</td>\n",
              "      <td>71.2833</td>\n",
              "      <td>C85</td>\n",
              "      <td>C</td>\n",
              "      <td>Upper</td>\n",
              "      <td>F</td>\n",
              "      <td>Y</td>\n",
              "    </tr>\n",
              "    <tr>\n",
              "      <th>2</th>\n",
              "      <td>3</td>\n",
              "      <td>Heikkinen, Miss. Laina</td>\n",
              "      <td>26.0</td>\n",
              "      <td>0</td>\n",
              "      <td>0</td>\n",
              "      <td>STON/O2. 3101282</td>\n",
              "      <td>7.9250</td>\n",
              "      <td>NaN</td>\n",
              "      <td>S</td>\n",
              "      <td>Lower</td>\n",
              "      <td>F</td>\n",
              "      <td>Y</td>\n",
              "    </tr>\n",
              "    <tr>\n",
              "      <th>3</th>\n",
              "      <td>4</td>\n",
              "      <td>Futrelle, Mrs. Jacques Heath (Lily May Peel)</td>\n",
              "      <td>35.0</td>\n",
              "      <td>1</td>\n",
              "      <td>0</td>\n",
              "      <td>113803</td>\n",
              "      <td>53.1000</td>\n",
              "      <td>C123</td>\n",
              "      <td>S</td>\n",
              "      <td>Upper</td>\n",
              "      <td>F</td>\n",
              "      <td>Y</td>\n",
              "    </tr>\n",
              "    <tr>\n",
              "      <th>4</th>\n",
              "      <td>5</td>\n",
              "      <td>Allen, Mr. William Henry</td>\n",
              "      <td>35.0</td>\n",
              "      <td>0</td>\n",
              "      <td>0</td>\n",
              "      <td>373450</td>\n",
              "      <td>8.0500</td>\n",
              "      <td>NaN</td>\n",
              "      <td>S</td>\n",
              "      <td>Lower</td>\n",
              "      <td>M</td>\n",
              "      <td>N</td>\n",
              "    </tr>\n",
              "  </tbody>\n",
              "</table>\n",
              "</div>\n",
              "      <button class=\"colab-df-convert\" onclick=\"convertToInteractive('df-9f48d35c-3863-4526-a245-fc570e1d5caa')\"\n",
              "              title=\"Convert this dataframe to an interactive table.\"\n",
              "              style=\"display:none;\">\n",
              "        \n",
              "  <svg xmlns=\"http://www.w3.org/2000/svg\" height=\"24px\"viewBox=\"0 0 24 24\"\n",
              "       width=\"24px\">\n",
              "    <path d=\"M0 0h24v24H0V0z\" fill=\"none\"/>\n",
              "    <path d=\"M18.56 5.44l.94 2.06.94-2.06 2.06-.94-2.06-.94-.94-2.06-.94 2.06-2.06.94zm-11 1L8.5 8.5l.94-2.06 2.06-.94-2.06-.94L8.5 2.5l-.94 2.06-2.06.94zm10 10l.94 2.06.94-2.06 2.06-.94-2.06-.94-.94-2.06-.94 2.06-2.06.94z\"/><path d=\"M17.41 7.96l-1.37-1.37c-.4-.4-.92-.59-1.43-.59-.52 0-1.04.2-1.43.59L10.3 9.45l-7.72 7.72c-.78.78-.78 2.05 0 2.83L4 21.41c.39.39.9.59 1.41.59.51 0 1.02-.2 1.41-.59l7.78-7.78 2.81-2.81c.8-.78.8-2.07 0-2.86zM5.41 20L4 18.59l7.72-7.72 1.47 1.35L5.41 20z\"/>\n",
              "  </svg>\n",
              "      </button>\n",
              "      \n",
              "  <style>\n",
              "    .colab-df-container {\n",
              "      display:flex;\n",
              "      flex-wrap:wrap;\n",
              "      gap: 12px;\n",
              "    }\n",
              "\n",
              "    .colab-df-convert {\n",
              "      background-color: #E8F0FE;\n",
              "      border: none;\n",
              "      border-radius: 50%;\n",
              "      cursor: pointer;\n",
              "      display: none;\n",
              "      fill: #1967D2;\n",
              "      height: 32px;\n",
              "      padding: 0 0 0 0;\n",
              "      width: 32px;\n",
              "    }\n",
              "\n",
              "    .colab-df-convert:hover {\n",
              "      background-color: #E2EBFA;\n",
              "      box-shadow: 0px 1px 2px rgba(60, 64, 67, 0.3), 0px 1px 3px 1px rgba(60, 64, 67, 0.15);\n",
              "      fill: #174EA6;\n",
              "    }\n",
              "\n",
              "    [theme=dark] .colab-df-convert {\n",
              "      background-color: #3B4455;\n",
              "      fill: #D2E3FC;\n",
              "    }\n",
              "\n",
              "    [theme=dark] .colab-df-convert:hover {\n",
              "      background-color: #434B5C;\n",
              "      box-shadow: 0px 1px 3px 1px rgba(0, 0, 0, 0.15);\n",
              "      filter: drop-shadow(0px 1px 2px rgba(0, 0, 0, 0.3));\n",
              "      fill: #FFFFFF;\n",
              "    }\n",
              "  </style>\n",
              "\n",
              "      <script>\n",
              "        const buttonEl =\n",
              "          document.querySelector('#df-9f48d35c-3863-4526-a245-fc570e1d5caa button.colab-df-convert');\n",
              "        buttonEl.style.display =\n",
              "          google.colab.kernel.accessAllowed ? 'block' : 'none';\n",
              "\n",
              "        async function convertToInteractive(key) {\n",
              "          const element = document.querySelector('#df-9f48d35c-3863-4526-a245-fc570e1d5caa');\n",
              "          const dataTable =\n",
              "            await google.colab.kernel.invokeFunction('convertToInteractive',\n",
              "                                                     [key], {});\n",
              "          if (!dataTable) return;\n",
              "\n",
              "          const docLinkHtml = 'Like what you see? Visit the ' +\n",
              "            '<a target=\"_blank\" href=https://colab.research.google.com/notebooks/data_table.ipynb>data table notebook</a>'\n",
              "            + ' to learn more about interactive tables.';\n",
              "          element.innerHTML = '';\n",
              "          dataTable['output_type'] = 'display_data';\n",
              "          await google.colab.output.renderOutput(dataTable, element);\n",
              "          const docLink = document.createElement('div');\n",
              "          docLink.innerHTML = docLinkHtml;\n",
              "          element.appendChild(docLink);\n",
              "        }\n",
              "      </script>\n",
              "    </div>\n",
              "  </div>\n",
              "  "
            ]
          },
          "metadata": {},
          "execution_count": 7
        }
      ]
    },
    {
      "cell_type": "code",
      "source": [
        "# Creación de atributo Passenger_survived_code para facilitar los cálculos de los modelos\n",
        "# Passenger Survived = N = 0.0\n",
        "# Passenger_Survived = Y = 1.0\n",
        "\n",
        "DatabaseTitanic[\"Passenger_survived_code\"] = (DatabaseTitanic[\"passenger_survived\"].values == 'Y').astype(np.float32)"
      ],
      "metadata": {
        "id": "y2HxdOEwe01J"
      },
      "execution_count": null,
      "outputs": []
    },
    {
      "cell_type": "code",
      "source": [
        "# Completar los valores faltantes de Age con la mediana de los datos disponibles\n",
        "DatabaseTitanic[\"Age\"] = DatabaseTitanic[\"Age\"].fillna(DatabaseTitanic[\"Age\"].median());\n",
        "DatabaseTitanic[\"Age\"].isnull().sum()"
      ],
      "metadata": {
        "colab": {
          "base_uri": "https://localhost:8080/"
        },
        "id": "Xz4k_sBWzwlK",
        "outputId": "ecac474a-4437-412c-ea63-fc5883d75328"
      },
      "execution_count": null,
      "outputs": [
        {
          "output_type": "execute_result",
          "data": {
            "text/plain": [
              "0"
            ]
          },
          "metadata": {},
          "execution_count": 45
        }
      ]
    },
    {
      "cell_type": "code",
      "source": [
        "DatabaseTitanic.head()"
      ],
      "metadata": {
        "colab": {
          "base_uri": "https://localhost:8080/",
          "height": 206
        },
        "id": "OXubCPTDfA2O",
        "outputId": "b51f9260-4a27-418a-fbff-60cbe72e0613"
      },
      "execution_count": null,
      "outputs": [
        {
          "output_type": "execute_result",
          "data": {
            "text/plain": [
              "   PassengerId                                               Name   Age  \\\n",
              "0            1                            Braund, Mr. Owen Harris  22.0   \n",
              "1            2  Cumings, Mrs. John Bradley (Florence Briggs Th...  38.0   \n",
              "2            3                             Heikkinen, Miss. Laina  26.0   \n",
              "3            4       Futrelle, Mrs. Jacques Heath (Lily May Peel)  35.0   \n",
              "4            5                           Allen, Mr. William Henry  35.0   \n",
              "\n",
              "   SibSp  Parch            Ticket     Fare Cabin Embarked passenger_class  \\\n",
              "0      1      0         A/5 21171   7.2500   NaN        S           Lower   \n",
              "1      1      0          PC 17599  71.2833   C85        C           Upper   \n",
              "2      0      0  STON/O2. 3101282   7.9250   NaN        S           Lower   \n",
              "3      1      0            113803  53.1000  C123        S           Upper   \n",
              "4      0      0            373450   8.0500   NaN        S           Lower   \n",
              "\n",
              "  passenger_sex passenger_survived  Passenger_survived_code  \n",
              "0             M                  N                      0.0  \n",
              "1             F                  Y                      1.0  \n",
              "2             F                  Y                      1.0  \n",
              "3             F                  Y                      1.0  \n",
              "4             M                  N                      0.0  "
            ],
            "text/html": [
              "\n",
              "  <div id=\"df-cae1f793-40bd-4030-8983-ee0245727bb2\">\n",
              "    <div class=\"colab-df-container\">\n",
              "      <div>\n",
              "<style scoped>\n",
              "    .dataframe tbody tr th:only-of-type {\n",
              "        vertical-align: middle;\n",
              "    }\n",
              "\n",
              "    .dataframe tbody tr th {\n",
              "        vertical-align: top;\n",
              "    }\n",
              "\n",
              "    .dataframe thead th {\n",
              "        text-align: right;\n",
              "    }\n",
              "</style>\n",
              "<table border=\"1\" class=\"dataframe\">\n",
              "  <thead>\n",
              "    <tr style=\"text-align: right;\">\n",
              "      <th></th>\n",
              "      <th>PassengerId</th>\n",
              "      <th>Name</th>\n",
              "      <th>Age</th>\n",
              "      <th>SibSp</th>\n",
              "      <th>Parch</th>\n",
              "      <th>Ticket</th>\n",
              "      <th>Fare</th>\n",
              "      <th>Cabin</th>\n",
              "      <th>Embarked</th>\n",
              "      <th>passenger_class</th>\n",
              "      <th>passenger_sex</th>\n",
              "      <th>passenger_survived</th>\n",
              "      <th>Passenger_survived_code</th>\n",
              "    </tr>\n",
              "  </thead>\n",
              "  <tbody>\n",
              "    <tr>\n",
              "      <th>0</th>\n",
              "      <td>1</td>\n",
              "      <td>Braund, Mr. Owen Harris</td>\n",
              "      <td>22.0</td>\n",
              "      <td>1</td>\n",
              "      <td>0</td>\n",
              "      <td>A/5 21171</td>\n",
              "      <td>7.2500</td>\n",
              "      <td>NaN</td>\n",
              "      <td>S</td>\n",
              "      <td>Lower</td>\n",
              "      <td>M</td>\n",
              "      <td>N</td>\n",
              "      <td>0.0</td>\n",
              "    </tr>\n",
              "    <tr>\n",
              "      <th>1</th>\n",
              "      <td>2</td>\n",
              "      <td>Cumings, Mrs. John Bradley (Florence Briggs Th...</td>\n",
              "      <td>38.0</td>\n",
              "      <td>1</td>\n",
              "      <td>0</td>\n",
              "      <td>PC 17599</td>\n",
              "      <td>71.2833</td>\n",
              "      <td>C85</td>\n",
              "      <td>C</td>\n",
              "      <td>Upper</td>\n",
              "      <td>F</td>\n",
              "      <td>Y</td>\n",
              "      <td>1.0</td>\n",
              "    </tr>\n",
              "    <tr>\n",
              "      <th>2</th>\n",
              "      <td>3</td>\n",
              "      <td>Heikkinen, Miss. Laina</td>\n",
              "      <td>26.0</td>\n",
              "      <td>0</td>\n",
              "      <td>0</td>\n",
              "      <td>STON/O2. 3101282</td>\n",
              "      <td>7.9250</td>\n",
              "      <td>NaN</td>\n",
              "      <td>S</td>\n",
              "      <td>Lower</td>\n",
              "      <td>F</td>\n",
              "      <td>Y</td>\n",
              "      <td>1.0</td>\n",
              "    </tr>\n",
              "    <tr>\n",
              "      <th>3</th>\n",
              "      <td>4</td>\n",
              "      <td>Futrelle, Mrs. Jacques Heath (Lily May Peel)</td>\n",
              "      <td>35.0</td>\n",
              "      <td>1</td>\n",
              "      <td>0</td>\n",
              "      <td>113803</td>\n",
              "      <td>53.1000</td>\n",
              "      <td>C123</td>\n",
              "      <td>S</td>\n",
              "      <td>Upper</td>\n",
              "      <td>F</td>\n",
              "      <td>Y</td>\n",
              "      <td>1.0</td>\n",
              "    </tr>\n",
              "    <tr>\n",
              "      <th>4</th>\n",
              "      <td>5</td>\n",
              "      <td>Allen, Mr. William Henry</td>\n",
              "      <td>35.0</td>\n",
              "      <td>0</td>\n",
              "      <td>0</td>\n",
              "      <td>373450</td>\n",
              "      <td>8.0500</td>\n",
              "      <td>NaN</td>\n",
              "      <td>S</td>\n",
              "      <td>Lower</td>\n",
              "      <td>M</td>\n",
              "      <td>N</td>\n",
              "      <td>0.0</td>\n",
              "    </tr>\n",
              "  </tbody>\n",
              "</table>\n",
              "</div>\n",
              "      <button class=\"colab-df-convert\" onclick=\"convertToInteractive('df-cae1f793-40bd-4030-8983-ee0245727bb2')\"\n",
              "              title=\"Convert this dataframe to an interactive table.\"\n",
              "              style=\"display:none;\">\n",
              "        \n",
              "  <svg xmlns=\"http://www.w3.org/2000/svg\" height=\"24px\"viewBox=\"0 0 24 24\"\n",
              "       width=\"24px\">\n",
              "    <path d=\"M0 0h24v24H0V0z\" fill=\"none\"/>\n",
              "    <path d=\"M18.56 5.44l.94 2.06.94-2.06 2.06-.94-2.06-.94-.94-2.06-.94 2.06-2.06.94zm-11 1L8.5 8.5l.94-2.06 2.06-.94-2.06-.94L8.5 2.5l-.94 2.06-2.06.94zm10 10l.94 2.06.94-2.06 2.06-.94-2.06-.94-.94-2.06-.94 2.06-2.06.94z\"/><path d=\"M17.41 7.96l-1.37-1.37c-.4-.4-.92-.59-1.43-.59-.52 0-1.04.2-1.43.59L10.3 9.45l-7.72 7.72c-.78.78-.78 2.05 0 2.83L4 21.41c.39.39.9.59 1.41.59.51 0 1.02-.2 1.41-.59l7.78-7.78 2.81-2.81c.8-.78.8-2.07 0-2.86zM5.41 20L4 18.59l7.72-7.72 1.47 1.35L5.41 20z\"/>\n",
              "  </svg>\n",
              "      </button>\n",
              "      \n",
              "  <style>\n",
              "    .colab-df-container {\n",
              "      display:flex;\n",
              "      flex-wrap:wrap;\n",
              "      gap: 12px;\n",
              "    }\n",
              "\n",
              "    .colab-df-convert {\n",
              "      background-color: #E8F0FE;\n",
              "      border: none;\n",
              "      border-radius: 50%;\n",
              "      cursor: pointer;\n",
              "      display: none;\n",
              "      fill: #1967D2;\n",
              "      height: 32px;\n",
              "      padding: 0 0 0 0;\n",
              "      width: 32px;\n",
              "    }\n",
              "\n",
              "    .colab-df-convert:hover {\n",
              "      background-color: #E2EBFA;\n",
              "      box-shadow: 0px 1px 2px rgba(60, 64, 67, 0.3), 0px 1px 3px 1px rgba(60, 64, 67, 0.15);\n",
              "      fill: #174EA6;\n",
              "    }\n",
              "\n",
              "    [theme=dark] .colab-df-convert {\n",
              "      background-color: #3B4455;\n",
              "      fill: #D2E3FC;\n",
              "    }\n",
              "\n",
              "    [theme=dark] .colab-df-convert:hover {\n",
              "      background-color: #434B5C;\n",
              "      box-shadow: 0px 1px 3px 1px rgba(0, 0, 0, 0.15);\n",
              "      filter: drop-shadow(0px 1px 2px rgba(0, 0, 0, 0.3));\n",
              "      fill: #FFFFFF;\n",
              "    }\n",
              "  </style>\n",
              "\n",
              "      <script>\n",
              "        const buttonEl =\n",
              "          document.querySelector('#df-cae1f793-40bd-4030-8983-ee0245727bb2 button.colab-df-convert');\n",
              "        buttonEl.style.display =\n",
              "          google.colab.kernel.accessAllowed ? 'block' : 'none';\n",
              "\n",
              "        async function convertToInteractive(key) {\n",
              "          const element = document.querySelector('#df-cae1f793-40bd-4030-8983-ee0245727bb2');\n",
              "          const dataTable =\n",
              "            await google.colab.kernel.invokeFunction('convertToInteractive',\n",
              "                                                     [key], {});\n",
              "          if (!dataTable) return;\n",
              "\n",
              "          const docLinkHtml = 'Like what you see? Visit the ' +\n",
              "            '<a target=\"_blank\" href=https://colab.research.google.com/notebooks/data_table.ipynb>data table notebook</a>'\n",
              "            + ' to learn more about interactive tables.';\n",
              "          element.innerHTML = '';\n",
              "          dataTable['output_type'] = 'display_data';\n",
              "          await google.colab.output.renderOutput(dataTable, element);\n",
              "          const docLink = document.createElement('div');\n",
              "          docLink.innerHTML = docLinkHtml;\n",
              "          element.appendChild(docLink);\n",
              "        }\n",
              "      </script>\n",
              "    </div>\n",
              "  </div>\n",
              "  "
            ]
          },
          "metadata": {},
          "execution_count": 47
        }
      ]
    },
    {
      "cell_type": "markdown",
      "source": [
        "## Parte 1: Entrenamiento y validación y selección"
      ],
      "metadata": {
        "id": "rOnzUOIOcVru"
      }
    },
    {
      "cell_type": "markdown",
      "source": [
        "### Train-val-test split \n",
        "\n",
        "El primer paso es separar los datos en entrenamiento, validación y pruebas.\n",
        "\n",
        "Alineado a los proyectos previos se extraerá el 20% para datos de pruebas, y del 80% restante se extraerá un nuevo segmento del 20% para datos de validación.\n"
      ],
      "metadata": {
        "id": "QTk-5XTpcnlD"
      }
    },
    {
      "cell_type": "code",
      "source": [
        "# Adaptación de la base de datos para la segmentación (inclusión solo de datos numéricos):\n",
        "\n",
        "Fields = [\"PassengerId\", \"Age\", \"SibSp\", \"Parch\", \"Fare\"]\n",
        "\n",
        "Y = DatabaseTitanic[\"Passenger_survived_code\"].values\n",
        "X = DatabaseTitanic[Fields].values"
      ],
      "metadata": {
        "id": "qDfQ27WBcF9L"
      },
      "execution_count": null,
      "outputs": []
    },
    {
      "cell_type": "code",
      "source": [
        "# Eligiendo un número aleatorio para asignar al random_state:\n",
        "\n",
        "Shuffle = random.randint(0,100)\n",
        "\n",
        "# Segmentación de datos de entrenamiento:\n",
        "\n",
        "X_train, X_test, Y_train, Y_test = train_test_split(X, Y, test_size = 0.2, random_state = Shuffle)\n",
        "\n",
        "# Segmentación de datos de validación; esta segmentación se realiza partiendo de los datos de entrenamiento resultantes de la segmentación anterior:\n",
        "\n",
        "X_train, X_val, Y_train, Y_val = train_test_split(X_train, Y_train, test_size = 0.2, random_state = Shuffle)\n",
        "\n",
        "Shuffle"
      ],
      "metadata": {
        "colab": {
          "base_uri": "https://localhost:8080/"
        },
        "id": "-emIzg30hDfn",
        "outputId": "17edb48c-f681-4d0b-f66b-52982472aba0"
      },
      "execution_count": null,
      "outputs": [
        {
          "output_type": "execute_result",
          "data": {
            "text/plain": [
              "24"
            ]
          },
          "metadata": {},
          "execution_count": 88
        }
      ]
    },
    {
      "cell_type": "markdown",
      "source": [
        "### Árbol de decisión con SK Learn"
      ],
      "metadata": {
        "id": "movrPUvGm9jo"
      }
    },
    {
      "cell_type": "code",
      "source": [
        "from sklearn.tree import DecisionTreeClassifier\n",
        "from sklearn import tree"
      ],
      "metadata": {
        "id": "P4YLFGNhoKmN"
      },
      "execution_count": null,
      "outputs": []
    },
    {
      "cell_type": "code",
      "source": [
        "tree_model = tree.DecisionTreeClassifier(max_depth = 2)\n",
        "\n",
        "# Entrenamiento del modelo\n",
        "\n",
        "tree_model.fit(X_train, Y_train)"
      ],
      "metadata": {
        "colab": {
          "base_uri": "https://localhost:8080/"
        },
        "id": "PCN_Z8bv0NLV",
        "outputId": "e4eb703e-2b3e-4d97-f2a5-e261af8503ee"
      },
      "execution_count": null,
      "outputs": [
        {
          "output_type": "execute_result",
          "data": {
            "text/plain": [
              "DecisionTreeClassifier(max_depth=2)"
            ]
          },
          "metadata": {},
          "execution_count": 321
        }
      ]
    },
    {
      "cell_type": "code",
      "source": [
        "y_pred = tree_model.predict(X_val)"
      ],
      "metadata": {
        "id": "G5_TzsKGaGh5"
      },
      "execution_count": null,
      "outputs": []
    },
    {
      "cell_type": "markdown",
      "source": [
        "**Métricas de evaluación**"
      ],
      "metadata": {
        "id": "nezROxNnaUST"
      }
    },
    {
      "cell_type": "code",
      "source": [
        "print(\"Accuracy Score:\",round(metrics.accuracy_score(Y_val, y_pred),2))\n",
        "print(\"Error:\",round((metrics.mean_squared_error(Y_val, y_pred)),2))\n",
        "print(\"Precision Score:\",round((metrics.precision_score(Y_val, y_pred)),2))\n",
        "print(\"Recall:\",round((metrics.f1_score(Y_val, y_pred, average='weighted')),2))\n",
        "print(\"F1 Score:\",round((metrics.f1_score(Y_val, y_pred)),2))"
      ],
      "metadata": {
        "colab": {
          "base_uri": "https://localhost:8080/"
        },
        "id": "73LX4GdDYMTs",
        "outputId": "b29a042e-027b-4f95-c5e3-b55dcbf26fcc"
      },
      "execution_count": null,
      "outputs": [
        {
          "output_type": "stream",
          "name": "stdout",
          "text": [
            "Accuracy Score: 0.71\n",
            "Error: 0.29\n",
            "Precision Score: 0.76\n",
            "Recall: 0.69\n",
            "F1 Score: 0.52\n"
          ]
        }
      ]
    },
    {
      "cell_type": "markdown",
      "source": [
        "## SVM con sklearn"
      ],
      "metadata": {
        "id": "Qo4M2VsZCJMv"
      }
    },
    {
      "cell_type": "code",
      "source": [
        "from sklearn import svm"
      ],
      "metadata": {
        "id": "TDdsdGmMBQbB"
      },
      "execution_count": null,
      "outputs": []
    },
    {
      "cell_type": "code",
      "source": [
        "# Creación del classifier:\n",
        "\n",
        "clf = svm.SVC(C=100, tol=0.001)\n",
        "\n",
        "# Entrenamiento del modelo\n",
        "\n",
        "clf.fit(X_train, Y_train)"
      ],
      "metadata": {
        "colab": {
          "base_uri": "https://localhost:8080/"
        },
        "id": "r9q3mXOdLw_S",
        "outputId": "e8922f12-f420-4cad-8f65-4b3d901e04aa"
      },
      "execution_count": null,
      "outputs": [
        {
          "output_type": "execute_result",
          "data": {
            "text/plain": [
              "SVC(C=100)"
            ]
          },
          "metadata": {},
          "execution_count": 298
        }
      ]
    },
    {
      "cell_type": "code",
      "source": [
        "# Predicción del modelo\n",
        "\n",
        "y_pred = clf.predict(X_val)"
      ],
      "metadata": {
        "id": "3WBsz-30Mq2J"
      },
      "execution_count": null,
      "outputs": []
    },
    {
      "cell_type": "markdown",
      "source": [
        "**Métricas de evaluación**"
      ],
      "metadata": {
        "id": "t-DTwNN5PMjT"
      }
    },
    {
      "cell_type": "code",
      "source": [
        "print(\"Accuracy Score:\",round(metrics.accuracy_score(Y_val, y_pred),2))\n",
        "print(\"Error:\",round((metrics.mean_squared_error(Y_val, y_pred)),2))\n",
        "print(\"Precision Score:\",round((metrics.precision_score(Y_val, y_pred)),2))\n",
        "print(\"Recall:\",round((metrics.f1_score(Y_val, y_pred, average='weighted')),2))\n",
        "print(\"F1 Score:\",round((metrics.f1_score(Y_val, y_pred)),2))"
      ],
      "metadata": {
        "colab": {
          "base_uri": "https://localhost:8080/"
        },
        "id": "BT3frrAAMrw7",
        "outputId": "25b3d04e-ab68-4c80-800e-5285ff2d892c"
      },
      "execution_count": null,
      "outputs": [
        {
          "output_type": "stream",
          "name": "stdout",
          "text": [
            "Accuracy Score: 0.69\n",
            "Error: 0.31\n",
            "Precision Score: 0.7\n",
            "Recall: 0.67\n",
            "F1 Score: 0.49\n"
          ]
        }
      ]
    },
    {
      "cell_type": "markdown",
      "source": [
        "## Naive bayes con numpy y/o pandas"
      ],
      "metadata": {
        "id": "77HvoGrUUi2J"
      }
    },
    {
      "cell_type": "code",
      "source": [
        ""
      ],
      "metadata": {
        "id": "Pho1bTRdUoeH"
      },
      "execution_count": null,
      "outputs": []
    },
    {
      "cell_type": "markdown",
      "source": [
        "## Regresión logística binaria en tensorflow con regularización"
      ],
      "metadata": {
        "id": "cZ9ilhETatta"
      }
    },
    {
      "cell_type": "code",
      "source": [
        "from sklearn.preprocessing import OneHotEncoder"
      ],
      "metadata": {
        "id": "nBmkUpz9a1jA"
      },
      "execution_count": null,
      "outputs": []
    },
    {
      "cell_type": "markdown",
      "source": [
        "## Investigación\n",
        "\n",
        "**K-fold cross validation**"
      ],
      "metadata": {
        "id": "O9PbK6bGcjau"
      }
    },
    {
      "cell_type": "markdown",
      "source": [
        "Esta técnica parte de la necesidad de validar que un modelo cumplirá con el nivel de precisión necesaria o mínima cuando este sea puesto en producción y se enfrente a datos desconocidos o que puedan variar a los utilizados en la creación del modelo.\n",
        "\n",
        "> **K-Folds Cross Validation**\n",
        "\n",
        "> Es una de las técnicas que se considera tienen un menor nivel de sesgo. El procedimiento tiene un solo parámetro llamado K que se refiere al número de grupos en los que se dividirá una muestra de datos determinada, generando así un proceso iterativo generando variaciones entre los datos que componen los set de pruebas y de entrenamiento. \n",
        "\n",
        "> Es uno de los dos métodos de validación más reconocidos, dado que es simple de entender y porque generalmente da como resultado una estimación menos sesgada o menos optimista de la habilidad del modelo que otros métodos, como el utilizado para este proyecto que fue el método test/split en una propoción de 80/20.\n",
        "\n",
        "> En este proyecto se pudo haber aplicado en orden de comparar de manera más exacta los diferentes métodos utilizados e incluso evaluar la combinación de parámetros más optima para cada experimento. \n",
        "\n",
        "\n",
        "\n"
      ],
      "metadata": {
        "id": "pn2QVQ3Tcrlx"
      }
    }
  ]
}