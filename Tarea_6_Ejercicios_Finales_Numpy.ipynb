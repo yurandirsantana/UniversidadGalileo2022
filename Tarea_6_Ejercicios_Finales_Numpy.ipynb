{
  "nbformat": 4,
  "nbformat_minor": 0,
  "metadata": {
    "colab": {
      "name": "Tarea 6 - Ejercicios Finales Numpy.ipynb",
      "provenance": [],
      "collapsed_sections": []
    },
    "kernelspec": {
      "name": "python3",
      "display_name": "Python 3"
    },
    "language_info": {
      "name": "python"
    }
  },
  "cells": [
    {
      "cell_type": "markdown",
      "source": [
        "# Clase 07 - Ejercicios"
      ],
      "metadata": {
        "id": "smupX0puqivN"
      }
    },
    {
      "cell_type": "markdown",
      "source": [
        "**Ejercicio**: Investigar y ejemplificar diferencias entre np.array y np.matrix"
      ],
      "metadata": {
        "id": "BSv0yyDkoUmN"
      }
    },
    {
      "cell_type": "markdown",
      "source": [
        "La diferencia entre estas dos funciones es que las matrices deben contener dos dimensiones, mientras que los array son n-dimensionales, es decir, pueden ser adapdadas a las características de una serie de datos.\n",
        "\n",
        "Esto también indica que las matrices funcionan como subclase de los array heredando sus propiedades.\n",
        "\n",
        "La notación también permite diferenciar ambas funciones entre sí como lo vemos en los siguientes ejemplos:"
      ],
      "metadata": {
        "id": "U_9Omp1AoV4P"
      }
    },
    {
      "cell_type": "code",
      "source": [
        "import numpy as np\n",
        "\n",
        "## Ejemplo de np.array\n",
        "\n",
        "y = np.array([1, 9, 9, 7])\n",
        "\n",
        "print(y)\n",
        "\n",
        "type(y)"
      ],
      "metadata": {
        "colab": {
          "base_uri": "https://localhost:8080/"
        },
        "id": "zTpWHF3Jp5-U",
        "outputId": "2af55828-c8f8-4af3-d5ca-bd96579ba06e"
      },
      "execution_count": 3,
      "outputs": [
        {
          "output_type": "stream",
          "name": "stdout",
          "text": [
            "[1 9 9 7]\n"
          ]
        },
        {
          "output_type": "execute_result",
          "data": {
            "text/plain": [
              "numpy.ndarray"
            ]
          },
          "metadata": {},
          "execution_count": 3
        }
      ]
    },
    {
      "cell_type": "code",
      "source": [
        "## Ejemplo de np.matrix\n",
        "\n",
        "s = np.matrix([[1, 2, 3, 4], [5, 6, 7, 8]])\n",
        "\n",
        "print(y)\n",
        "\n",
        "type(s)"
      ],
      "metadata": {
        "colab": {
          "base_uri": "https://localhost:8080/"
        },
        "id": "hiyBoP_5qRWC",
        "outputId": "e11cee46-23bc-48f8-e6c4-1f9872df4ed5"
      },
      "execution_count": 4,
      "outputs": [
        {
          "output_type": "stream",
          "name": "stdout",
          "text": [
            "[1 9 9 7]\n"
          ]
        },
        {
          "output_type": "execute_result",
          "data": {
            "text/plain": [
              "numpy.matrix"
            ]
          },
          "metadata": {},
          "execution_count": 4
        }
      ]
    },
    {
      "cell_type": "markdown",
      "source": [
        "# Clase 08 - Ejercicios"
      ],
      "metadata": {
        "id": "db8xmD5Fqvlv"
      }
    },
    {
      "cell_type": "markdown",
      "source": [
        "**Ejercicio aplicado en DS**\n",
        "Se tiene una red neuronal sencilla(y simplificada) como la de la siguiente imagen:\n",
        "<img src=\"https://www.oreilly.com/library/view/practical-convolutional-neural/9781788392303/assets/246151fb-7893-448d-b9bb-7a87b387a24b.png\">\n",
        "\n",
        "Donde:\n",
        "* INPUT LAYER: un vector X de tamaño = 2 que representa los datos de entrada\n",
        "* HIDDEN_LAYER :capa oculta con 2 neuronas definidas por los vectores:\n",
        "    * HL1 = [0.25,0.37]\n",
        "    * HL2 = [-8,14]\n",
        "* OUTPUT_LAYER = capa de salida definida por el vector [4,9]\n",
        "\n",
        "Crear una funcion neural_network(X) para calcular:\n",
        "* Calcule la salida de cada neurona en la capa intermedia aplicada a la capa de entrada.\n",
        "* Use el resultado del paso anterior como entrada para la neurona en la capa de salida\n",
        "\n",
        "Utilizando multiplicación de matrices se debe calcular para cada fila de la matriz de entrada X el valor de las neuronas de la capa intermedia, esto producirá una nueva matriz con el mismo número de filas que X y 2 columnas(1 para cada neurona) , a  los valores de esta matriz se les debe aplicar la función \"sigmoid\"(descrita a continuación) para limitarlos al intervalo de 0 a 1, esto produce una matriz del mismo tamaño pero con valores entre 0 a 1, esta matriz se multiplica matricialmente por la matriz que representa los pesos de la capa de salida  y este proceso produce un nuevo tensor al cual se debe aplicar nuevamente la función sigmoid. El resultado debe ser un tensor con el mismo número de filas que la matriz X y una sola columna(una predicción para cada fila de X.\n",
        "\n",
        "<img src=\"https://cdn-images-1.medium.com/max/1600/1*Xu7B5y9gp0iL5ooBj7LtWw.png\">"
      ],
      "metadata": {
        "id": "26cmiitPqxjw"
      }
    },
    {
      "cell_type": "code",
      "source": [
        "def sigmoid(x): #convertir los valores de x al rango de 0 a 1\n",
        "    \n",
        "    return 1/(1+np.exp(-x))"
      ],
      "metadata": {
        "id": "7n1X_P_4rlgA"
      },
      "execution_count": 5,
      "outputs": []
    },
    {
      "cell_type": "code",
      "source": [
        "H1_W = np.array([[0.25,-8],\n",
        "                 [0.37,14]])\n",
        "OL_W = np.array([[4],[9]])\n",
        "\n",
        "X =  np.array([[0.1,0.2],\n",
        "               [1,2]])\n",
        "\n",
        "H1 = np.matmul(X,H1_W)\n",
        "H1 = sigmoid(H1)  # funcion de activacion: convertir a valores en el intervalo de 0 a 1\n",
        "OL = np.matmul(H1,OL_W)\n",
        "OL = sigmoid(OL)  # funcion de activacion: convertir a valores en el intervalo de 0 a 1\n",
        "\n",
        "\n",
        "print(OL)"
      ],
      "metadata": {
        "colab": {
          "base_uri": "https://localhost:8080/"
        },
        "id": "7IcuMG36ronl",
        "outputId": "62e1eba8-b84d-4961-a6ed-8ef49dcdf8ed"
      },
      "execution_count": 6,
      "outputs": [
        {
          "output_type": "stream",
          "name": "stdout",
          "text": [
            "[[0.99995577]\n",
            " [0.99999332]]\n"
          ]
        }
      ]
    },
    {
      "cell_type": "markdown",
      "source": [
        "**Ejercicio** \n",
        "\n",
        "Implementar en una funcion neural_network(X) la red neuronal definida por la siguiente arquitectura:\n",
        "\n",
        "<img src=\"http://i.imgur.com/UNlffE1.png\">\n",
        "\n",
        "Podemos validar si fue correctamente implementada si usamos como entrada el vector x=[1,1] . Debemos obtener el resultado mostrado en la imagen.\n",
        "\n",
        "Una vez tenemos la implementacion correcta, cambiar la funcion de activacion de la capa de salida por la funcion de activacion ReLu(https://en.wikipedia.org/wiki/Rectifier_(neural_networks)):\n",
        "\n",
        "<img src=\"https://cdn-images-1.medium.com/max/1600/1*DfMRHwxY1gyyDmrIAd-gjQ.png\">\n",
        "\n",
        "Luego evaluar la red neuronal sobre la matriz de datos X(de manera vectorizada):"
      ],
      "metadata": {
        "id": "rygLIEUNrss0"
      }
    },
    {
      "cell_type": "code",
      "source": [
        "X = np.array([\n",
        "    [0.1,2],\n",
        "    [0.3,0.45],\n",
        "    [5,9],\n",
        "    [12,6],\n",
        "    [7,5],\n",
        "    [0.3,0.8],\n",
        "    [12,5],\n",
        "    [100,200],\n",
        "    [7,8],\n",
        "    [300,1500]])"
      ],
      "metadata": {
        "id": "1ZaFn8TtrzfB"
      },
      "execution_count": null,
      "outputs": []
    },
    {
      "cell_type": "code",
      "source": [
        "y = np.array([100,200,300,800])\n",
        "x = np.array([1,2,3,8])\n",
        "unos = np.array([1,1,1,1])\n",
        "\n",
        "\n",
        "#y_aprox = mx + b*(1)\n",
        "\n",
        "parametros = np.array([100,0.01])\n",
        "x_modificado = np.vstack((x,unos)).T\n",
        "y_aprox = np.matmul(x_modificado,parametros)\n",
        "\n",
        "print(y_aprox -y)\n"
      ],
      "metadata": {
        "id": "nRNK_06Br1RG"
      },
      "execution_count": null,
      "outputs": []
    }
  ]
}