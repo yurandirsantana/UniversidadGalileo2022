{
 "cells": [
  {
   "cell_type": "markdown",
   "id": "27dce738",
   "metadata": {},
   "source": [
    "#  Práctica 1 - Clustering"
   ]
  },
  {
   "cell_type": "markdown",
   "id": "150ca2f6",
   "metadata": {},
   "source": [
    "Elaborado por: Yurandir Santa María Santana Sandoval - Carné no. 18001546."
   ]
  },
  {
   "cell_type": "markdown",
   "id": "6aba7455",
   "metadata": {},
   "source": [
    "## Librerías"
   ]
  },
  {
   "cell_type": "code",
   "execution_count": 59,
   "id": "ae16b3a1",
   "metadata": {},
   "outputs": [],
   "source": [
    "import numpy as np\n",
    "import pandas as pd \n",
    "import matplotlib.pyplot as plt\n",
    "from matplotlib.colors import ListedColormap"
   ]
  },
  {
   "cell_type": "markdown",
   "id": "09a5cbc7",
   "metadata": {},
   "source": [
    "## Base de Datos"
   ]
  },
  {
   "cell_type": "code",
   "execution_count": 159,
   "id": "c890e3d7",
   "metadata": {},
   "outputs": [],
   "source": [
    "BBDD = pd.read_csv(\"Estaturas.csv\",encoding='latin-1')"
   ]
  },
  {
   "cell_type": "code",
   "execution_count": 160,
   "id": "586b362d",
   "metadata": {},
   "outputs": [
    {
     "data": {
      "text/html": [
       "<div>\n",
       "<style scoped>\n",
       "    .dataframe tbody tr th:only-of-type {\n",
       "        vertical-align: middle;\n",
       "    }\n",
       "\n",
       "    .dataframe tbody tr th {\n",
       "        vertical-align: top;\n",
       "    }\n",
       "\n",
       "    .dataframe thead th {\n",
       "        text-align: right;\n",
       "    }\n",
       "</style>\n",
       "<table border=\"1\" class=\"dataframe\">\n",
       "  <thead>\n",
       "    <tr style=\"text-align: right;\">\n",
       "      <th></th>\n",
       "      <th>Estatura(metros)</th>\n",
       "      <th>Edad(Años)</th>\n",
       "    </tr>\n",
       "  </thead>\n",
       "  <tbody>\n",
       "    <tr>\n",
       "      <th>0</th>\n",
       "      <td>1.77</td>\n",
       "      <td>26</td>\n",
       "    </tr>\n",
       "    <tr>\n",
       "      <th>1</th>\n",
       "      <td>1.74</td>\n",
       "      <td>31</td>\n",
       "    </tr>\n",
       "    <tr>\n",
       "      <th>2</th>\n",
       "      <td>1.72</td>\n",
       "      <td>24</td>\n",
       "    </tr>\n",
       "    <tr>\n",
       "      <th>3</th>\n",
       "      <td>1.78</td>\n",
       "      <td>34</td>\n",
       "    </tr>\n",
       "    <tr>\n",
       "      <th>4</th>\n",
       "      <td>1.65</td>\n",
       "      <td>32</td>\n",
       "    </tr>\n",
       "    <tr>\n",
       "      <th>5</th>\n",
       "      <td>1.66</td>\n",
       "      <td>29</td>\n",
       "    </tr>\n",
       "    <tr>\n",
       "      <th>6</th>\n",
       "      <td>1.64</td>\n",
       "      <td>27</td>\n",
       "    </tr>\n",
       "    <tr>\n",
       "      <th>7</th>\n",
       "      <td>1.85</td>\n",
       "      <td>34</td>\n",
       "    </tr>\n",
       "    <tr>\n",
       "      <th>8</th>\n",
       "      <td>1.85</td>\n",
       "      <td>26</td>\n",
       "    </tr>\n",
       "    <tr>\n",
       "      <th>9</th>\n",
       "      <td>1.75</td>\n",
       "      <td>21</td>\n",
       "    </tr>\n",
       "    <tr>\n",
       "      <th>10</th>\n",
       "      <td>1.73</td>\n",
       "      <td>23</td>\n",
       "    </tr>\n",
       "    <tr>\n",
       "      <th>11</th>\n",
       "      <td>1.79</td>\n",
       "      <td>25</td>\n",
       "    </tr>\n",
       "    <tr>\n",
       "      <th>12</th>\n",
       "      <td>1.82</td>\n",
       "      <td>24</td>\n",
       "    </tr>\n",
       "    <tr>\n",
       "      <th>13</th>\n",
       "      <td>1.65</td>\n",
       "      <td>25</td>\n",
       "    </tr>\n",
       "    <tr>\n",
       "      <th>14</th>\n",
       "      <td>1.79</td>\n",
       "      <td>25</td>\n",
       "    </tr>\n",
       "    <tr>\n",
       "      <th>15</th>\n",
       "      <td>1.72</td>\n",
       "      <td>34</td>\n",
       "    </tr>\n",
       "    <tr>\n",
       "      <th>16</th>\n",
       "      <td>1.70</td>\n",
       "      <td>26</td>\n",
       "    </tr>\n",
       "    <tr>\n",
       "      <th>17</th>\n",
       "      <td>1.57</td>\n",
       "      <td>25</td>\n",
       "    </tr>\n",
       "    <tr>\n",
       "      <th>18</th>\n",
       "      <td>1.66</td>\n",
       "      <td>26</td>\n",
       "    </tr>\n",
       "    <tr>\n",
       "      <th>19</th>\n",
       "      <td>1.75</td>\n",
       "      <td>27</td>\n",
       "    </tr>\n",
       "    <tr>\n",
       "      <th>20</th>\n",
       "      <td>1.77</td>\n",
       "      <td>32</td>\n",
       "    </tr>\n",
       "    <tr>\n",
       "      <th>21</th>\n",
       "      <td>1.80</td>\n",
       "      <td>40</td>\n",
       "    </tr>\n",
       "    <tr>\n",
       "      <th>22</th>\n",
       "      <td>1.85</td>\n",
       "      <td>25</td>\n",
       "    </tr>\n",
       "    <tr>\n",
       "      <th>23</th>\n",
       "      <td>1.82</td>\n",
       "      <td>24</td>\n",
       "    </tr>\n",
       "    <tr>\n",
       "      <th>24</th>\n",
       "      <td>1.75</td>\n",
       "      <td>38</td>\n",
       "    </tr>\n",
       "    <tr>\n",
       "      <th>25</th>\n",
       "      <td>1.73</td>\n",
       "      <td>34</td>\n",
       "    </tr>\n",
       "    <tr>\n",
       "      <th>26</th>\n",
       "      <td>1.55</td>\n",
       "      <td>29</td>\n",
       "    </tr>\n",
       "    <tr>\n",
       "      <th>27</th>\n",
       "      <td>1.76</td>\n",
       "      <td>28</td>\n",
       "    </tr>\n",
       "    <tr>\n",
       "      <th>28</th>\n",
       "      <td>1.68</td>\n",
       "      <td>27</td>\n",
       "    </tr>\n",
       "    <tr>\n",
       "      <th>29</th>\n",
       "      <td>1.65</td>\n",
       "      <td>30</td>\n",
       "    </tr>\n",
       "    <tr>\n",
       "      <th>30</th>\n",
       "      <td>1.72</td>\n",
       "      <td>26</td>\n",
       "    </tr>\n",
       "    <tr>\n",
       "      <th>31</th>\n",
       "      <td>1.90</td>\n",
       "      <td>24</td>\n",
       "    </tr>\n",
       "    <tr>\n",
       "      <th>32</th>\n",
       "      <td>1.74</td>\n",
       "      <td>34</td>\n",
       "    </tr>\n",
       "    <tr>\n",
       "      <th>33</th>\n",
       "      <td>1.73</td>\n",
       "      <td>33</td>\n",
       "    </tr>\n",
       "    <tr>\n",
       "      <th>34</th>\n",
       "      <td>1.83</td>\n",
       "      <td>53</td>\n",
       "    </tr>\n",
       "    <tr>\n",
       "      <th>35</th>\n",
       "      <td>1.65</td>\n",
       "      <td>28</td>\n",
       "    </tr>\n",
       "    <tr>\n",
       "      <th>36</th>\n",
       "      <td>1.73</td>\n",
       "      <td>24</td>\n",
       "    </tr>\n",
       "    <tr>\n",
       "      <th>37</th>\n",
       "      <td>1.73</td>\n",
       "      <td>22</td>\n",
       "    </tr>\n",
       "    <tr>\n",
       "      <th>38</th>\n",
       "      <td>1.73</td>\n",
       "      <td>23</td>\n",
       "    </tr>\n",
       "    <tr>\n",
       "      <th>39</th>\n",
       "      <td>1.65</td>\n",
       "      <td>43</td>\n",
       "    </tr>\n",
       "    <tr>\n",
       "      <th>40</th>\n",
       "      <td>1.72</td>\n",
       "      <td>26</td>\n",
       "    </tr>\n",
       "    <tr>\n",
       "      <th>41</th>\n",
       "      <td>1.63</td>\n",
       "      <td>31</td>\n",
       "    </tr>\n",
       "    <tr>\n",
       "      <th>42</th>\n",
       "      <td>1.73</td>\n",
       "      <td>35</td>\n",
       "    </tr>\n",
       "    <tr>\n",
       "      <th>43</th>\n",
       "      <td>1.85</td>\n",
       "      <td>49</td>\n",
       "    </tr>\n",
       "    <tr>\n",
       "      <th>44</th>\n",
       "      <td>1.71</td>\n",
       "      <td>28</td>\n",
       "    </tr>\n",
       "    <tr>\n",
       "      <th>45</th>\n",
       "      <td>1.70</td>\n",
       "      <td>28</td>\n",
       "    </tr>\n",
       "    <tr>\n",
       "      <th>46</th>\n",
       "      <td>1.68</td>\n",
       "      <td>35</td>\n",
       "    </tr>\n",
       "    <tr>\n",
       "      <th>47</th>\n",
       "      <td>1.63</td>\n",
       "      <td>25</td>\n",
       "    </tr>\n",
       "    <tr>\n",
       "      <th>48</th>\n",
       "      <td>1.64</td>\n",
       "      <td>39</td>\n",
       "    </tr>\n",
       "    <tr>\n",
       "      <th>49</th>\n",
       "      <td>1.70</td>\n",
       "      <td>33</td>\n",
       "    </tr>\n",
       "    <tr>\n",
       "      <th>50</th>\n",
       "      <td>1.65</td>\n",
       "      <td>31</td>\n",
       "    </tr>\n",
       "    <tr>\n",
       "      <th>51</th>\n",
       "      <td>1.68</td>\n",
       "      <td>34</td>\n",
       "    </tr>\n",
       "    <tr>\n",
       "      <th>52</th>\n",
       "      <td>1.71</td>\n",
       "      <td>29</td>\n",
       "    </tr>\n",
       "  </tbody>\n",
       "</table>\n",
       "</div>"
      ],
      "text/plain": [
       "    Estatura(metros)  Edad(Años)\n",
       "0               1.77          26\n",
       "1               1.74          31\n",
       "2               1.72          24\n",
       "3               1.78          34\n",
       "4               1.65          32\n",
       "5               1.66          29\n",
       "6               1.64          27\n",
       "7               1.85          34\n",
       "8               1.85          26\n",
       "9               1.75          21\n",
       "10              1.73          23\n",
       "11              1.79          25\n",
       "12              1.82          24\n",
       "13              1.65          25\n",
       "14              1.79          25\n",
       "15              1.72          34\n",
       "16              1.70          26\n",
       "17              1.57          25\n",
       "18              1.66          26\n",
       "19              1.75          27\n",
       "20              1.77          32\n",
       "21              1.80          40\n",
       "22              1.85          25\n",
       "23              1.82          24\n",
       "24              1.75          38\n",
       "25              1.73          34\n",
       "26              1.55          29\n",
       "27              1.76          28\n",
       "28              1.68          27\n",
       "29              1.65          30\n",
       "30              1.72          26\n",
       "31              1.90          24\n",
       "32              1.74          34\n",
       "33              1.73          33\n",
       "34              1.83          53\n",
       "35              1.65          28\n",
       "36              1.73          24\n",
       "37              1.73          22\n",
       "38              1.73          23\n",
       "39              1.65          43\n",
       "40              1.72          26\n",
       "41              1.63          31\n",
       "42              1.73          35\n",
       "43              1.85          49\n",
       "44              1.71          28\n",
       "45              1.70          28\n",
       "46              1.68          35\n",
       "47              1.63          25\n",
       "48              1.64          39\n",
       "49              1.70          33\n",
       "50              1.65          31\n",
       "51              1.68          34\n",
       "52              1.71          29"
      ]
     },
     "execution_count": 160,
     "metadata": {},
     "output_type": "execute_result"
    }
   ],
   "source": [
    "BBDD"
   ]
  },
  {
   "cell_type": "markdown",
   "id": "46559d09",
   "metadata": {},
   "source": [
    "## K-Means"
   ]
  },
  {
   "cell_type": "code",
   "execution_count": 62,
   "id": "0587180c",
   "metadata": {},
   "outputs": [
    {
     "data": {
      "text/html": [
       "<div>\n",
       "<style scoped>\n",
       "    .dataframe tbody tr th:only-of-type {\n",
       "        vertical-align: middle;\n",
       "    }\n",
       "\n",
       "    .dataframe tbody tr th {\n",
       "        vertical-align: top;\n",
       "    }\n",
       "\n",
       "    .dataframe thead th {\n",
       "        text-align: right;\n",
       "    }\n",
       "</style>\n",
       "<table border=\"1\" class=\"dataframe\">\n",
       "  <thead>\n",
       "    <tr style=\"text-align: right;\">\n",
       "      <th></th>\n",
       "      <th>Estatura(metros)</th>\n",
       "      <th>Edad(Años)</th>\n",
       "    </tr>\n",
       "  </thead>\n",
       "  <tbody>\n",
       "    <tr>\n",
       "      <th>0</th>\n",
       "      <td>1.77</td>\n",
       "      <td>26</td>\n",
       "    </tr>\n",
       "    <tr>\n",
       "      <th>1</th>\n",
       "      <td>1.74</td>\n",
       "      <td>31</td>\n",
       "    </tr>\n",
       "    <tr>\n",
       "      <th>2</th>\n",
       "      <td>1.72</td>\n",
       "      <td>24</td>\n",
       "    </tr>\n",
       "    <tr>\n",
       "      <th>3</th>\n",
       "      <td>1.78</td>\n",
       "      <td>34</td>\n",
       "    </tr>\n",
       "    <tr>\n",
       "      <th>4</th>\n",
       "      <td>1.65</td>\n",
       "      <td>32</td>\n",
       "    </tr>\n",
       "  </tbody>\n",
       "</table>\n",
       "</div>"
      ],
      "text/plain": [
       "   Estatura(metros)  Edad(Años)\n",
       "0              1.77          26\n",
       "1              1.74          31\n",
       "2              1.72          24\n",
       "3              1.78          34\n",
       "4              1.65          32"
      ]
     },
     "execution_count": 62,
     "metadata": {},
     "output_type": "execute_result"
    }
   ],
   "source": [
    "colnames = list(BBDD.columns[1:-1])\n",
    "BBDD.head()"
   ]
  },
  {
   "cell_type": "code",
   "execution_count": 118,
   "id": "2536c0c8",
   "metadata": {},
   "outputs": [
    {
     "data": {
      "image/png": "[encoded data removed]",
      "text/plain": [
       "<Figure size 576x432 with 1 Axes>"
      ]
     },
     "metadata": {
      "needs_background": "light"
     },
     "output_type": "display_data"
    }
   ],
   "source": [
    "fig, ax = plt.subplots(figsize=(8, 6))\n",
    "\n",
    "plt.scatter(x=BBDD['Estatura(metros)'], y=BBDD['Edad(Años)'], alpha=0.5)\n",
    "\n",
    "ax.set_xlabel(r'Estatura (metros)', fontsize=14)\n",
    "ax.set_ylabel(r'Edad (Años)', fontsize=14)\n",
    "plt.xticks(fontsize=12)\n",
    "plt.yticks(fontsize=12)\n",
    "plt.show()x=BBDD['Estatura(metros)'], y=BBDD['Edad(Años)']"
   ]
  },
  {
   "cell_type": "code",
   "execution_count": 119,
   "id": "32f7a107",
   "metadata": {},
   "outputs": [
    {
     "data": {
      "text/html": [
       "<div>\n",
       "<style scoped>\n",
       "    .dataframe tbody tr th:only-of-type {\n",
       "        vertical-align: middle;\n",
       "    }\n",
       "\n",
       "    .dataframe tbody tr th {\n",
       "        vertical-align: top;\n",
       "    }\n",
       "\n",
       "    .dataframe thead th {\n",
       "        text-align: right;\n",
       "    }\n",
       "</style>\n",
       "<table border=\"1\" class=\"dataframe\">\n",
       "  <thead>\n",
       "    <tr style=\"text-align: right;\">\n",
       "      <th></th>\n",
       "      <th>Estatura(metros)</th>\n",
       "      <th>Edad(Años)</th>\n",
       "    </tr>\n",
       "  </thead>\n",
       "  <tbody>\n",
       "    <tr>\n",
       "      <th>19</th>\n",
       "      <td>1.75</td>\n",
       "      <td>27</td>\n",
       "    </tr>\n",
       "    <tr>\n",
       "      <th>41</th>\n",
       "      <td>1.63</td>\n",
       "      <td>31</td>\n",
       "    </tr>\n",
       "    <tr>\n",
       "      <th>47</th>\n",
       "      <td>1.63</td>\n",
       "      <td>25</td>\n",
       "    </tr>\n",
       "  </tbody>\n",
       "</table>\n",
       "</div>"
      ],
      "text/plain": [
       "    Estatura(metros)  Edad(Años)\n",
       "19              1.75          27\n",
       "41              1.63          31\n",
       "47              1.63          25"
      ]
     },
     "execution_count": 119,
     "metadata": {},
     "output_type": "execute_result"
    }
   ],
   "source": [
    "def initiate_centroids(k, dset):\n",
    "\n",
    "    centroids = dset.sample(k)\n",
    "    return centroids\n",
    "\n",
    "np.random.seed(42)\n",
    "k=3\n",
    "df = BBDD[['Estatura(metros)','Edad(Años)']]\n",
    "centroids = initiate_centroids(k, df)\n",
    "centroids"
   ]
  },
  {
   "cell_type": "code",
   "execution_count": 120,
   "id": "dab3d7ae",
   "metadata": {},
   "outputs": [],
   "source": [
    "def rsserr(a,b):\n",
    "\n",
    "    return np.square(np.sum((a-b)**2)) "
   ]
  },
  {
   "cell_type": "code",
   "execution_count": 121,
   "id": "a7da0f64",
   "metadata": {},
   "outputs": [
    {
     "name": "stdout",
     "output_type": "stream",
     "text": [
      "Error del Centroide 0: 81.01\n",
      "Error del Centroide 1: 2401.98\n",
      "Error del Centroide 2: 1.02\n"
     ]
    }
   ],
   "source": [
    "for i, centroid in enumerate(range(centroids.shape[0])):\n",
    "    err = rsserr(centroids.iloc[centroid,:], df.iloc[36,:])\n",
    "    print('Error del Centroide {0}: {1:.2f}'.format(i, err))"
   ]
  },
  {
   "cell_type": "code",
   "execution_count": 122,
   "id": "e9fad9d1",
   "metadata": {},
   "outputs": [],
   "source": [
    "def centroid_assignation(dset, centroids):\n",
    "\n",
    "    k = centroids.shape[0]\n",
    "    n = dset.shape[0]\n",
    "    assignation = []\n",
    "    assign_errors = []\n",
    "\n",
    "    for obs in range(n):\n",
    " \n",
    "        all_errors = np.array([])\n",
    "        for centroid in range(k):\n",
    "            err = rsserr(centroids.iloc[centroid, :], dset.iloc[obs,:])\n",
    "            all_errors = np.append(all_errors, err)\n",
    "       \n",
    "        nearest_centroid =  np.where(all_errors==np.amin(all_errors))[0].tolist()[0]\n",
    "        nearest_centroid_error = np.amin(all_errors)\n",
    "\n",
    "        assignation.append(nearest_centroid)\n",
    "        assign_errors.append(nearest_centroid_error)\n",
    "\n",
    "    return assignation, assign_errors"
   ]
  },
  {
   "cell_type": "code",
   "execution_count": 123,
   "id": "d87e84b9",
   "metadata": {},
   "outputs": [
    {
     "data": {
      "text/html": [
       "<div>\n",
       "<style scoped>\n",
       "    .dataframe tbody tr th:only-of-type {\n",
       "        vertical-align: middle;\n",
       "    }\n",
       "\n",
       "    .dataframe tbody tr th {\n",
       "        vertical-align: top;\n",
       "    }\n",
       "\n",
       "    .dataframe thead th {\n",
       "        text-align: right;\n",
       "    }\n",
       "</style>\n",
       "<table border=\"1\" class=\"dataframe\">\n",
       "  <thead>\n",
       "    <tr style=\"text-align: right;\">\n",
       "      <th></th>\n",
       "      <th>Estatura(metros)</th>\n",
       "      <th>Edad(Años)</th>\n",
       "      <th>centroid</th>\n",
       "      <th>error</th>\n",
       "    </tr>\n",
       "  </thead>\n",
       "  <tbody>\n",
       "    <tr>\n",
       "      <th>0</th>\n",
       "      <td>1.77</td>\n",
       "      <td>26</td>\n",
       "      <td>0</td>\n",
       "      <td>1.000800</td>\n",
       "    </tr>\n",
       "    <tr>\n",
       "      <th>1</th>\n",
       "      <td>1.74</td>\n",
       "      <td>31</td>\n",
       "      <td>1</td>\n",
       "      <td>0.000146</td>\n",
       "    </tr>\n",
       "    <tr>\n",
       "      <th>2</th>\n",
       "      <td>1.72</td>\n",
       "      <td>24</td>\n",
       "      <td>2</td>\n",
       "      <td>1.016266</td>\n",
       "    </tr>\n",
       "    <tr>\n",
       "      <th>3</th>\n",
       "      <td>1.78</td>\n",
       "      <td>34</td>\n",
       "      <td>1</td>\n",
       "      <td>81.405506</td>\n",
       "    </tr>\n",
       "    <tr>\n",
       "      <th>4</th>\n",
       "      <td>1.65</td>\n",
       "      <td>32</td>\n",
       "      <td>1</td>\n",
       "      <td>1.000800</td>\n",
       "    </tr>\n",
       "  </tbody>\n",
       "</table>\n",
       "</div>"
      ],
      "text/plain": [
       "   Estatura(metros)  Edad(Años)  centroid      error\n",
       "0              1.77          26         0   1.000800\n",
       "1              1.74          31         1   0.000146\n",
       "2              1.72          24         2   1.016266\n",
       "3              1.78          34         1  81.405506\n",
       "4              1.65          32         1   1.000800"
      ]
     },
     "execution_count": 123,
     "metadata": {},
     "output_type": "execute_result"
    }
   ],
   "source": [
    "df['centroid'], df['error'] = centroid_assignation(df, centroids)\n",
    "df.head()"
   ]
  },
  {
   "cell_type": "code",
   "execution_count": 124,
   "id": "87d89510",
   "metadata": {},
   "outputs": [
    {
     "data": {
      "text/html": [
       "<div>\n",
       "<style scoped>\n",
       "    .dataframe tbody tr th:only-of-type {\n",
       "        vertical-align: middle;\n",
       "    }\n",
       "\n",
       "    .dataframe tbody tr th {\n",
       "        vertical-align: top;\n",
       "    }\n",
       "\n",
       "    .dataframe thead th {\n",
       "        text-align: right;\n",
       "    }\n",
       "</style>\n",
       "<table border=\"1\" class=\"dataframe\">\n",
       "  <thead>\n",
       "    <tr style=\"text-align: right;\">\n",
       "      <th></th>\n",
       "    </tr>\n",
       "  </thead>\n",
       "  <tbody>\n",
       "    <tr>\n",
       "      <th>0</th>\n",
       "    </tr>\n",
       "    <tr>\n",
       "      <th>1</th>\n",
       "    </tr>\n",
       "    <tr>\n",
       "      <th>2</th>\n",
       "    </tr>\n",
       "  </tbody>\n",
       "</table>\n",
       "</div>"
      ],
      "text/plain": [
       "Empty DataFrame\n",
       "Columns: []\n",
       "Index: [0, 1, 2]"
      ]
     },
     "execution_count": 124,
     "metadata": {},
     "output_type": "execute_result"
    }
   ],
   "source": [
    "centroids = df.groupby('centroid').agg('mean').loc[:, colnames].reset_index(drop = True)\n",
    "centroids"
   ]
  },
  {
   "cell_type": "code",
   "execution_count": 125,
   "id": "4ab907f8",
   "metadata": {},
   "outputs": [],
   "source": [
    "def kmeans(dset, k=2, tol=1e-4):\n",
    "\n",
    "    working_dset = dset.copy()\n",
    "\n",
    "    err = []\n",
    "    goahead = True\n",
    "    j = 0\n",
    "    \n",
    "    centroids = initiate_centroids(k, dset)\n",
    "\n",
    "    while(goahead):\n",
    "\n",
    "        working_dset['centroid'], j_err = centroid_assignation(working_dset, centroids) \n",
    "        err.append(sum(j_err))\n",
    "        \n",
    "        centroids = working_dset.groupby('centroid').agg('mean').reset_index(drop = True)\n",
    "\n",
    "        if j>0:\n",
    "            \n",
    "            if err[j-1]-err[j]<=tol:\n",
    "                goahead = False\n",
    "        j+=1\n",
    "\n",
    "    working_dset['centroid'], j_err = centroid_assignation(working_dset, centroids)\n",
    "    centroids = working_dset.groupby('centroid').agg('mean').reset_index(drop = True)\n",
    "    return working_dset['centroid'], j_err, centroids"
   ]
  },
  {
   "cell_type": "markdown",
   "id": "3bb25797",
   "metadata": {},
   "source": [
    "### Experimentos"
   ]
  },
  {
   "cell_type": "markdown",
   "id": "3686d90c",
   "metadata": {},
   "source": [
    "#### Experimento 1 - K = 1"
   ]
  },
  {
   "cell_type": "code",
   "execution_count": 126,
   "id": "bfb68827",
   "metadata": {},
   "outputs": [
    {
     "data": {
      "text/html": [
       "<div>\n",
       "<style scoped>\n",
       "    .dataframe tbody tr th:only-of-type {\n",
       "        vertical-align: middle;\n",
       "    }\n",
       "\n",
       "    .dataframe tbody tr th {\n",
       "        vertical-align: top;\n",
       "    }\n",
       "\n",
       "    .dataframe thead th {\n",
       "        text-align: right;\n",
       "    }\n",
       "</style>\n",
       "<table border=\"1\" class=\"dataframe\">\n",
       "  <thead>\n",
       "    <tr style=\"text-align: right;\">\n",
       "      <th></th>\n",
       "      <th>Estatura(metros)</th>\n",
       "      <th>Edad(Años)</th>\n",
       "      <th>centroid</th>\n",
       "      <th>error</th>\n",
       "    </tr>\n",
       "  </thead>\n",
       "  <tbody>\n",
       "    <tr>\n",
       "      <th>0</th>\n",
       "      <td>1.77</td>\n",
       "      <td>26</td>\n",
       "      <td>0</td>\n",
       "      <td>228.289147</td>\n",
       "    </tr>\n",
       "    <tr>\n",
       "      <th>1</th>\n",
       "      <td>1.74</td>\n",
       "      <td>31</td>\n",
       "      <td>0</td>\n",
       "      <td>1.536301</td>\n",
       "    </tr>\n",
       "    <tr>\n",
       "      <th>2</th>\n",
       "      <td>1.72</td>\n",
       "      <td>24</td>\n",
       "      <td>0</td>\n",
       "      <td>1200.923573</td>\n",
       "    </tr>\n",
       "    <tr>\n",
       "      <th>3</th>\n",
       "      <td>1.78</td>\n",
       "      <td>34</td>\n",
       "      <td>0</td>\n",
       "      <td>286.339680</td>\n",
       "    </tr>\n",
       "    <tr>\n",
       "      <th>4</th>\n",
       "      <td>1.65</td>\n",
       "      <td>32</td>\n",
       "      <td>0</td>\n",
       "      <td>19.991384</td>\n",
       "    </tr>\n",
       "  </tbody>\n",
       "</table>\n",
       "</div>"
      ],
      "text/plain": [
       "   Estatura(metros)  Edad(Años)  centroid        error\n",
       "0              1.77          26         0   228.289147\n",
       "1              1.74          31         0     1.536301\n",
       "2              1.72          24         0  1200.923573\n",
       "3              1.78          34         0   286.339680\n",
       "4              1.65          32         0    19.991384"
      ]
     },
     "execution_count": 126,
     "metadata": {},
     "output_type": "execute_result"
    }
   ],
   "source": [
    "np.random.seed(42)\n",
    "df['centroid'], df['error'], centroids =  kmeans(df[['Estatura(metros)','Edad(Años)']], 1)\n",
    "df.head()"
   ]
  },
  {
   "cell_type": "code",
   "execution_count": 127,
   "id": "e5fc7321",
   "metadata": {},
   "outputs": [
    {
     "data": {
      "image/png": "[encoded data removed]",
      "text/plain": [
       "<Figure size 576x432 with 1 Axes>"
      ]
     },
     "metadata": {
      "needs_background": "light"
     },
     "output_type": "display_data"
    }
   ],
   "source": [
    "fig, ax = plt.subplots(figsize=(8, 6))\n",
    "plt.scatter(df.iloc[:,0], df.iloc[:,1],  marker = 'o', \n",
    "            c=df['centroid'].astype('category'), \n",
    "            cmap = customcmap, s=80, alpha=0.5)\n",
    "plt.scatter(centroids.iloc[:,0], centroids.iloc[:,1],  \n",
    "            marker = 's', s=200, c=[0], \n",
    "            cmap = customcmap)\n",
    "ax.set_xlabel(r'Estatura (metros)', fontsize=14)\n",
    "ax.set_ylabel(r'Edad(Años)', fontsize=14)\n",
    "plt.xticks(fontsize=12)\n",
    "plt.yticks(fontsize=12)\n",
    "plt.show()"
   ]
  },
  {
   "cell_type": "markdown",
   "id": "3c338560",
   "metadata": {},
   "source": [
    "#### Experimento 1 - K = 2"
   ]
  },
  {
   "cell_type": "code",
   "execution_count": 128,
   "id": "4bc93f7a",
   "metadata": {},
   "outputs": [
    {
     "data": {
      "text/html": [
       "<div>\n",
       "<style scoped>\n",
       "    .dataframe tbody tr th:only-of-type {\n",
       "        vertical-align: middle;\n",
       "    }\n",
       "\n",
       "    .dataframe tbody tr th {\n",
       "        vertical-align: top;\n",
       "    }\n",
       "\n",
       "    .dataframe thead th {\n",
       "        text-align: right;\n",
       "    }\n",
       "</style>\n",
       "<table border=\"1\" class=\"dataframe\">\n",
       "  <thead>\n",
       "    <tr style=\"text-align: right;\">\n",
       "      <th></th>\n",
       "      <th>Estatura(metros)</th>\n",
       "      <th>Edad(Años)</th>\n",
       "      <th>centroid</th>\n",
       "      <th>error</th>\n",
       "    </tr>\n",
       "  </thead>\n",
       "  <tbody>\n",
       "    <tr>\n",
       "      <th>0</th>\n",
       "      <td>1.77</td>\n",
       "      <td>26</td>\n",
       "      <td>0</td>\n",
       "      <td>0.002520</td>\n",
       "    </tr>\n",
       "    <tr>\n",
       "      <th>1</th>\n",
       "      <td>1.74</td>\n",
       "      <td>31</td>\n",
       "      <td>1</td>\n",
       "      <td>699.555431</td>\n",
       "    </tr>\n",
       "    <tr>\n",
       "      <th>2</th>\n",
       "      <td>1.72</td>\n",
       "      <td>24</td>\n",
       "      <td>0</td>\n",
       "      <td>10.067003</td>\n",
       "    </tr>\n",
       "    <tr>\n",
       "      <th>3</th>\n",
       "      <td>1.78</td>\n",
       "      <td>34</td>\n",
       "      <td>1</td>\n",
       "      <td>21.109261</td>\n",
       "    </tr>\n",
       "    <tr>\n",
       "      <th>4</th>\n",
       "      <td>1.65</td>\n",
       "      <td>32</td>\n",
       "      <td>1</td>\n",
       "      <td>294.789628</td>\n",
       "    </tr>\n",
       "  </tbody>\n",
       "</table>\n",
       "</div>"
      ],
      "text/plain": [
       "   Estatura(metros)  Edad(Años)  centroid       error\n",
       "0              1.77          26         0    0.002520\n",
       "1              1.74          31         1  699.555431\n",
       "2              1.72          24         0   10.067003\n",
       "3              1.78          34         1   21.109261\n",
       "4              1.65          32         1  294.789628"
      ]
     },
     "execution_count": 128,
     "metadata": {},
     "output_type": "execute_result"
    }
   ],
   "source": [
    "np.random.seed(42)\n",
    "df['centroid'], df['error'], centroids =  kmeans(df[['Estatura(metros)','Edad(Años)']], 2)\n",
    "df.head()"
   ]
  },
  {
   "cell_type": "code",
   "execution_count": 129,
   "id": "e4238316",
   "metadata": {},
   "outputs": [
    {
     "data": {
      "image/png": "[encoded data removed]",
      "text/plain": [
       "<Figure size 576x432 with 1 Axes>"
      ]
     },
     "metadata": {
      "needs_background": "light"
     },
     "output_type": "display_data"
    }
   ],
   "source": [
    "fig, ax = plt.subplots(figsize=(8, 6))\n",
    "plt.scatter(df.iloc[:,0], df.iloc[:,1],  marker = 'o', \n",
    "            c=df['centroid'].astype('category'), \n",
    "            cmap = customcmap, s=80, alpha=0.5)\n",
    "plt.scatter(centroids.iloc[:,0], centroids.iloc[:,1],  \n",
    "            marker = 's', s=200, c=[0, 1], \n",
    "            cmap = customcmap)\n",
    "ax.set_xlabel(r'Estatura (metros)', fontsize=14)\n",
    "ax.set_ylabel(r'Edad(Años)', fontsize=14)\n",
    "plt.xticks(fontsize=12)\n",
    "plt.yticks(fontsize=12)\n",
    "plt.show()"
   ]
  },
  {
   "cell_type": "markdown",
   "id": "670b8ec2",
   "metadata": {},
   "source": [
    "#### Experimento 1 - K = 3"
   ]
  },
  {
   "cell_type": "code",
   "execution_count": 130,
   "id": "f533fe7a",
   "metadata": {
    "scrolled": true
   },
   "outputs": [
    {
     "data": {
      "text/html": [
       "<div>\n",
       "<style scoped>\n",
       "    .dataframe tbody tr th:only-of-type {\n",
       "        vertical-align: middle;\n",
       "    }\n",
       "\n",
       "    .dataframe tbody tr th {\n",
       "        vertical-align: top;\n",
       "    }\n",
       "\n",
       "    .dataframe thead th {\n",
       "        text-align: right;\n",
       "    }\n",
       "</style>\n",
       "<table border=\"1\" class=\"dataframe\">\n",
       "  <thead>\n",
       "    <tr style=\"text-align: right;\">\n",
       "      <th></th>\n",
       "      <th>Estatura(metros)</th>\n",
       "      <th>Edad(Años)</th>\n",
       "      <th>centroid</th>\n",
       "      <th>error</th>\n",
       "    </tr>\n",
       "  </thead>\n",
       "  <tbody>\n",
       "    <tr>\n",
       "      <th>0</th>\n",
       "      <td>1.77</td>\n",
       "      <td>26</td>\n",
       "      <td>2</td>\n",
       "      <td>0.261718</td>\n",
       "    </tr>\n",
       "    <tr>\n",
       "      <th>1</th>\n",
       "      <td>1.74</td>\n",
       "      <td>31</td>\n",
       "      <td>0</td>\n",
       "      <td>3.002244</td>\n",
       "    </tr>\n",
       "    <tr>\n",
       "      <th>2</th>\n",
       "      <td>1.72</td>\n",
       "      <td>24</td>\n",
       "      <td>2</td>\n",
       "      <td>2.733158</td>\n",
       "    </tr>\n",
       "    <tr>\n",
       "      <th>3</th>\n",
       "      <td>1.78</td>\n",
       "      <td>34</td>\n",
       "      <td>0</td>\n",
       "      <td>8.080096</td>\n",
       "    </tr>\n",
       "    <tr>\n",
       "      <th>4</th>\n",
       "      <td>1.65</td>\n",
       "      <td>32</td>\n",
       "      <td>0</td>\n",
       "      <td>0.010505</td>\n",
       "    </tr>\n",
       "  </tbody>\n",
       "</table>\n",
       "</div>"
      ],
      "text/plain": [
       "   Estatura(metros)  Edad(Años)  centroid     error\n",
       "0              1.77          26         2  0.261718\n",
       "1              1.74          31         0  3.002244\n",
       "2              1.72          24         2  2.733158\n",
       "3              1.78          34         0  8.080096\n",
       "4              1.65          32         0  0.010505"
      ]
     },
     "execution_count": 130,
     "metadata": {},
     "output_type": "execute_result"
    }
   ],
   "source": [
    "np.random.seed(42)\n",
    "df['centroid'], df['error'], centroids =  kmeans(df[['Estatura(metros)','Edad(Años)']], 3)\n",
    "df.head()"
   ]
  },
  {
   "cell_type": "code",
   "execution_count": 131,
   "id": "6632b095",
   "metadata": {},
   "outputs": [
    {
     "data": {
      "image/png": "[encoded data removed]",
      "text/plain": [
       "<Figure size 576x432 with 1 Axes>"
      ]
     },
     "metadata": {
      "needs_background": "light"
     },
     "output_type": "display_data"
    }
   ],
   "source": [
    "fig, ax = plt.subplots(figsize=(8, 6))\n",
    "plt.scatter(df.iloc[:,0], df.iloc[:,1],  marker = 'o', \n",
    "            c=df['centroid'].astype('category'), \n",
    "            cmap = customcmap, s=80, alpha=0.5)\n",
    "plt.scatter(centroids.iloc[:,0], centroids.iloc[:,1],  \n",
    "            marker = 's', s=200, c=[0, 1, 2], \n",
    "            cmap = customcmap)\n",
    "ax.set_xlabel(r'Estatura (metros)', fontsize=14)\n",
    "ax.set_ylabel(r'Edad(Años)', fontsize=14)\n",
    "plt.xticks(fontsize=12)\n",
    "plt.yticks(fontsize=12)\n",
    "plt.show()"
   ]
  },
  {
   "cell_type": "markdown",
   "id": "820b60df",
   "metadata": {},
   "source": [
    "#### Experimento 1 - K = 4"
   ]
  },
  {
   "cell_type": "code",
   "execution_count": 132,
   "id": "a748f23e",
   "metadata": {},
   "outputs": [
    {
     "data": {
      "text/html": [
       "<div>\n",
       "<style scoped>\n",
       "    .dataframe tbody tr th:only-of-type {\n",
       "        vertical-align: middle;\n",
       "    }\n",
       "\n",
       "    .dataframe tbody tr th {\n",
       "        vertical-align: top;\n",
       "    }\n",
       "\n",
       "    .dataframe thead th {\n",
       "        text-align: right;\n",
       "    }\n",
       "</style>\n",
       "<table border=\"1\" class=\"dataframe\">\n",
       "  <thead>\n",
       "    <tr style=\"text-align: right;\">\n",
       "      <th></th>\n",
       "      <th>Estatura(metros)</th>\n",
       "      <th>Edad(Años)</th>\n",
       "      <th>centroid</th>\n",
       "      <th>error</th>\n",
       "    </tr>\n",
       "  </thead>\n",
       "  <tbody>\n",
       "    <tr>\n",
       "      <th>0</th>\n",
       "      <td>1.77</td>\n",
       "      <td>26</td>\n",
       "      <td>2</td>\n",
       "      <td>3.992586</td>\n",
       "    </tr>\n",
       "    <tr>\n",
       "      <th>1</th>\n",
       "      <td>1.74</td>\n",
       "      <td>31</td>\n",
       "      <td>0</td>\n",
       "      <td>93.690599</td>\n",
       "    </tr>\n",
       "    <tr>\n",
       "      <th>2</th>\n",
       "      <td>1.72</td>\n",
       "      <td>24</td>\n",
       "      <td>3</td>\n",
       "      <td>0.000027</td>\n",
       "    </tr>\n",
       "    <tr>\n",
       "      <th>3</th>\n",
       "      <td>1.78</td>\n",
       "      <td>34</td>\n",
       "      <td>0</td>\n",
       "      <td>0.000252</td>\n",
       "    </tr>\n",
       "    <tr>\n",
       "      <th>4</th>\n",
       "      <td>1.65</td>\n",
       "      <td>32</td>\n",
       "      <td>0</td>\n",
       "      <td>19.907376</td>\n",
       "    </tr>\n",
       "  </tbody>\n",
       "</table>\n",
       "</div>"
      ],
      "text/plain": [
       "   Estatura(metros)  Edad(Años)  centroid      error\n",
       "0              1.77          26         2   3.992586\n",
       "1              1.74          31         0  93.690599\n",
       "2              1.72          24         3   0.000027\n",
       "3              1.78          34         0   0.000252\n",
       "4              1.65          32         0  19.907376"
      ]
     },
     "execution_count": 132,
     "metadata": {},
     "output_type": "execute_result"
    }
   ],
   "source": [
    "np.random.seed(42)\n",
    "df['centroid'], df['error'], centroids =  kmeans(df[['Estatura(metros)','Edad(Años)']], 4)\n",
    "df.head()"
   ]
  },
  {
   "cell_type": "code",
   "execution_count": 133,
   "id": "00b049f1",
   "metadata": {},
   "outputs": [
    {
     "data": {
      "image/png": "[encoded data removed]",
      "text/plain": [
       "<Figure size 576x432 with 1 Axes>"
      ]
     },
     "metadata": {
      "needs_background": "light"
     },
     "output_type": "display_data"
    }
   ],
   "source": [
    "fig, ax = plt.subplots(figsize=(8, 6))\n",
    "plt.scatter(df.iloc[:,0], df.iloc[:,1],  marker = 'o', \n",
    "            c=df['centroid'].astype('category'), \n",
    "            cmap = customcmap, s=80, alpha=0.5)\n",
    "plt.scatter(centroids.iloc[:,0], centroids.iloc[:,1],  \n",
    "            marker = 's', s=200, c=[0, 1, 2, 3], \n",
    "            cmap = customcmap)\n",
    "ax.set_xlabel(r'Estatura (metros)', fontsize=14)\n",
    "ax.set_ylabel(r'Edad(Años)', fontsize=14)\n",
    "plt.xticks(fontsize=12)\n",
    "plt.yticks(fontsize=12)\n",
    "plt.show()"
   ]
  },
  {
   "cell_type": "markdown",
   "id": "a23041d5",
   "metadata": {},
   "source": [
    "#### Experimento 1 - K = 5"
   ]
  },
  {
   "cell_type": "code",
   "execution_count": 134,
   "id": "14b398b8",
   "metadata": {},
   "outputs": [
    {
     "data": {
      "text/html": [
       "<div>\n",
       "<style scoped>\n",
       "    .dataframe tbody tr th:only-of-type {\n",
       "        vertical-align: middle;\n",
       "    }\n",
       "\n",
       "    .dataframe tbody tr th {\n",
       "        vertical-align: top;\n",
       "    }\n",
       "\n",
       "    .dataframe thead th {\n",
       "        text-align: right;\n",
       "    }\n",
       "</style>\n",
       "<table border=\"1\" class=\"dataframe\">\n",
       "  <thead>\n",
       "    <tr style=\"text-align: right;\">\n",
       "      <th></th>\n",
       "      <th>Estatura(metros)</th>\n",
       "      <th>Edad(Años)</th>\n",
       "      <th>centroid</th>\n",
       "      <th>error</th>\n",
       "    </tr>\n",
       "  </thead>\n",
       "  <tbody>\n",
       "    <tr>\n",
       "      <th>0</th>\n",
       "      <td>1.77</td>\n",
       "      <td>26</td>\n",
       "      <td>2</td>\n",
       "      <td>0.001824</td>\n",
       "    </tr>\n",
       "    <tr>\n",
       "      <th>1</th>\n",
       "      <td>1.74</td>\n",
       "      <td>31</td>\n",
       "      <td>0</td>\n",
       "      <td>2.936946</td>\n",
       "    </tr>\n",
       "    <tr>\n",
       "      <th>2</th>\n",
       "      <td>1.72</td>\n",
       "      <td>24</td>\n",
       "      <td>3</td>\n",
       "      <td>0.368981</td>\n",
       "    </tr>\n",
       "    <tr>\n",
       "      <th>3</th>\n",
       "      <td>1.78</td>\n",
       "      <td>34</td>\n",
       "      <td>1</td>\n",
       "      <td>1.778390</td>\n",
       "    </tr>\n",
       "    <tr>\n",
       "      <th>4</th>\n",
       "      <td>1.65</td>\n",
       "      <td>32</td>\n",
       "      <td>0</td>\n",
       "      <td>28.369453</td>\n",
       "    </tr>\n",
       "  </tbody>\n",
       "</table>\n",
       "</div>"
      ],
      "text/plain": [
       "   Estatura(metros)  Edad(Años)  centroid      error\n",
       "0              1.77          26         2   0.001824\n",
       "1              1.74          31         0   2.936946\n",
       "2              1.72          24         3   0.368981\n",
       "3              1.78          34         1   1.778390\n",
       "4              1.65          32         0  28.369453"
      ]
     },
     "execution_count": 134,
     "metadata": {},
     "output_type": "execute_result"
    }
   ],
   "source": [
    "np.random.seed(42)\n",
    "df['centroid'], df['error'], centroids =  kmeans(df[['Estatura(metros)','Edad(Años)']], 5)\n",
    "df.head()"
   ]
  },
  {
   "cell_type": "code",
   "execution_count": 135,
   "id": "c5d2f93d",
   "metadata": {},
   "outputs": [
    {
     "data": {
      "image/png": "[encoded data removed]",
      "text/plain": [
       "<Figure size 576x432 with 1 Axes>"
      ]
     },
     "metadata": {
      "needs_background": "light"
     },
     "output_type": "display_data"
    }
   ],
   "source": [
    "fig, ax = plt.subplots(figsize=(8, 6))\n",
    "plt.scatter(df.iloc[:,0], df.iloc[:,1],  marker = 'o', \n",
    "            c=df['centroid'].astype('category'), \n",
    "            cmap = customcmap, s=80, alpha=0.5)\n",
    "plt.scatter(centroids.iloc[:,0], centroids.iloc[:,1],  \n",
    "            marker = 's', s=200, c=[0, 1, 2, 3, 4], \n",
    "            cmap = customcmap)\n",
    "ax.set_xlabel(r'Estatura (metros)', fontsize=14)\n",
    "ax.set_ylabel(r'Edad(Años)', fontsize=14)\n",
    "plt.xticks(fontsize=12)\n",
    "plt.yticks(fontsize=12)\n",
    "plt.show()"
   ]
  },
  {
   "cell_type": "markdown",
   "id": "008244c6",
   "metadata": {},
   "source": [
    "## GMM"
   ]
  },
  {
   "cell_type": "markdown",
   "id": "a5d6d801",
   "metadata": {},
   "source": [
    "**Librerías Adicionales**"
   ]
  },
  {
   "cell_type": "code",
   "execution_count": 137,
   "id": "516af716",
   "metadata": {},
   "outputs": [],
   "source": [
    "from sklearn.mixture import GaussianMixture\n",
    "from scipy.stats import multivariate_normal"
   ]
  },
  {
   "cell_type": "markdown",
   "id": "94c7a475",
   "metadata": {},
   "source": [
    "#### Experimento 1 - K = 1"
   ]
  },
  {
   "cell_type": "code",
   "execution_count": 149,
   "id": "fe0e11cf",
   "metadata": {},
   "outputs": [
    {
     "name": "stderr",
     "output_type": "stream",
     "text": [
      "C:\\Users\\yuran\\anaconda3\\envs\\UniversidadGalileo2022\\lib\\site-packages\\sklearn\\cluster\\_kmeans.py:1036: UserWarning: KMeans is known to have a memory leak on Windows with MKL, when there are less chunks than available threads. You can avoid it by setting the environment variable OMP_NUM_THREADS=1.\n",
      "  warnings.warn(\n"
     ]
    },
    {
     "data": {
      "image/png": "[encoded data removed]",
      "text/plain": [
       "<Figure size 432x288 with 1 Axes>"
      ]
     },
     "metadata": {
      "needs_background": "light"
     },
     "output_type": "display_data"
    }
   ],
   "source": [
    "gmm = GaussianMixture(n_components=1)\n",
    "gmm.fit(BBDD)\n",
    "\n",
    "labels = gmm.predict(BBDD)\n",
    "frame = pd.DataFrame(BBDD)\n",
    "frame['cluster'] = labels\n",
    "frame.columns = ['Estatura (metros)', 'Edad(Años)', 'cluster']\n",
    "\n",
    "color=['blue','green','cyan', 'black']\n",
    "for k in range(0,4):\n",
    "    data = frame[frame[\"cluster\"]==k]\n",
    "    plt.scatter(data[\"Estatura (metros)\"],data[\"Edad(Años)\"],c=color[k])\n",
    "plt.show()"
   ]
  },
  {
   "cell_type": "markdown",
   "id": "bbc34d4b",
   "metadata": {},
   "source": [
    "#### Experimento 1 - K = 2"
   ]
  },
  {
   "cell_type": "code",
   "execution_count": 150,
   "id": "1490975f",
   "metadata": {},
   "outputs": [
    {
     "data": {
      "image/png": "[encoded data removed]",
      "text/plain": [
       "<Figure size 432x288 with 1 Axes>"
      ]
     },
     "metadata": {
      "needs_background": "light"
     },
     "output_type": "display_data"
    }
   ],
   "source": [
    "gmm = GaussianMixture(n_components=2)\n",
    "gmm.fit(BBDD)\n",
    "\n",
    "labels = gmm.predict(BBDD)\n",
    "frame = pd.DataFrame(BBDD)\n",
    "frame['cluster'] = labels\n",
    "frame.columns = ['Estatura (metros)', 'Edad(Años)', 'cluster']\n",
    "\n",
    "color=['blue','green','cyan', 'black']\n",
    "for k in range(0,4):\n",
    "    data = frame[frame[\"cluster\"]==k]\n",
    "    plt.scatter(data[\"Estatura (metros)\"],data[\"Edad(Años)\"],c=color[k])\n",
    "plt.show()"
   ]
  },
  {
   "cell_type": "markdown",
   "id": "0a838119",
   "metadata": {},
   "source": [
    "#### Experimento 1 - K = 3"
   ]
  },
  {
   "cell_type": "code",
   "execution_count": 151,
   "id": "285ff09b",
   "metadata": {},
   "outputs": [
    {
     "data": {
      "image/png": "[encoded data removed]",
      "text/plain": [
       "<Figure size 432x288 with 1 Axes>"
      ]
     },
     "metadata": {
      "needs_background": "light"
     },
     "output_type": "display_data"
    }
   ],
   "source": [
    "gmm = GaussianMixture(n_components=3)\n",
    "gmm.fit(BBDD)\n",
    "\n",
    "labels = gmm.predict(BBDD)\n",
    "frame = pd.DataFrame(BBDD)\n",
    "frame['cluster'] = labels\n",
    "frame.columns = ['Estatura (metros)', 'Edad(Años)', 'cluster']\n",
    "\n",
    "color=['blue','green','cyan', 'black']\n",
    "for k in range(0,4):\n",
    "    data = frame[frame[\"cluster\"]==k]\n",
    "    plt.scatter(data[\"Estatura (metros)\"],data[\"Edad(Años)\"],c=color[k])\n",
    "plt.show()"
   ]
  },
  {
   "cell_type": "markdown",
   "id": "68a808d5",
   "metadata": {},
   "source": [
    "#### Experimento 1 - K = 4"
   ]
  },
  {
   "cell_type": "code",
   "execution_count": 148,
   "id": "522c05ce",
   "metadata": {},
   "outputs": [
    {
     "data": {
      "image/png": "[encoded data removed]",
      "text/plain": [
       "<Figure size 432x288 with 1 Axes>"
      ]
     },
     "metadata": {
      "needs_background": "light"
     },
     "output_type": "display_data"
    }
   ],
   "source": [
    "gmm = GaussianMixture(n_components=4)\n",
    "gmm.fit(BBDD)\n",
    "\n",
    "labels = gmm.predict(BBDD)\n",
    "frame = pd.DataFrame(BBDD)\n",
    "frame['cluster'] = labels\n",
    "frame.columns = ['Estatura (metros)', 'Edad(Años)', 'cluster']\n",
    "\n",
    "color=['blue','green','cyan', 'black']\n",
    "for k in range(0,4):\n",
    "    data = frame[frame[\"cluster\"]==k]\n",
    "    plt.scatter(data[\"Estatura (metros)\"],data[\"Edad(Años)\"],c=color[k])\n",
    "plt.show()"
   ]
  },
  {
   "cell_type": "markdown",
   "id": "37e01bcf",
   "metadata": {},
   "source": [
    "#### Experimento 1 - K = 5"
   ]
  },
  {
   "cell_type": "code",
   "execution_count": 154,
   "id": "e72b023e",
   "metadata": {},
   "outputs": [
    {
     "data": {
      "image/png": "[encoded data removed]",
      "text/plain": [
       "<Figure size 432x288 with 1 Axes>"
      ]
     },
     "metadata": {
      "needs_background": "light"
     },
     "output_type": "display_data"
    }
   ],
   "source": [
    "gmm = GaussianMixture(n_components=5)\n",
    "gmm.fit(BBDD)\n",
    "\n",
    "labels = gmm.predict(BBDD)\n",
    "frame = pd.DataFrame(BBDD)\n",
    "frame['cluster'] = labels\n",
    "frame.columns = ['Estatura (metros)', 'Edad(Años)', 'cluster']\n",
    "\n",
    "color=['blue','green','cyan', 'black','red']\n",
    "for k in range(0,5):\n",
    "    data = frame[frame[\"cluster\"]==k]\n",
    "    plt.scatter(data[\"Estatura (metros)\"],data[\"Edad(Años)\"],c=color[k])\n",
    "plt.show()"
   ]
  },
  {
   "cell_type": "markdown",
   "id": "9be4de23",
   "metadata": {},
   "source": [
    "Sí es posible asignar una categoría a cada cluster con base en los experimentos realizados, especialmente cuando el valor de K es igual a 3. \n",
    "\n",
    "Es importante denotar que para la creación de estas categorías los límites de cada cluster deben ser establecidos con precisión dado que algunos de los datos en los extremos de clusters diferentes están muy próximos."
   ]
  },
  {
   "cell_type": "markdown",
   "id": "4466d361",
   "metadata": {},
   "source": [
    "## Método de Codo"
   ]
  },
  {
   "cell_type": "code",
   "execution_count": 161,
   "id": "aa8314d7",
   "metadata": {},
   "outputs": [
    {
     "data": {
      "image/png": "[encoded data removed]",
      "text/plain": [
       "<Figure size 576x432 with 1 Axes>"
      ]
     },
     "metadata": {
      "needs_background": "light"
     },
     "output_type": "display_data"
    }
   ],
   "source": [
    "err_total = []\n",
    "n = 10\n",
    "\n",
    "df_elbow = BBDD[['Estatura(metros)','Edad(Años)']]\n",
    "\n",
    "for i in range(n):\n",
    "    _, my_errs, _ = kmeans(df_elbow, i+1)\n",
    "    err_total.append(sum(my_errs))\n",
    "fig, ax = plt.subplots(figsize=(8, 6))\n",
    "plt.plot(range(1,n+1), err_total, linewidth=3, marker='o')\n",
    "ax.set_xlabel(r'Número de Clusters', fontsize=14)\n",
    "ax.set_ylabel(r'Error Total', fontsize=14)\n",
    "plt.xticks(fontsize=12)\n",
    "plt.yticks(fontsize=12)\n",
    "plt.show()"
   ]
  },
  {
   "cell_type": "markdown",
   "id": "ac966185",
   "metadata": {},
   "source": [
    "El método de codo sí es adecuado en este problema, y esta conclusión está respaldada por los experimentos previamente realizados en este documento.\n",
    "\n",
    "En la gráfica se observa que el punto de inflexión o codo se produce entre el número de cluster 2 y 4, por lo que respaldado por la experimentación el valor de K=3 es el más adecuado para esta experimentación."
   ]
  },
  {
   "cell_type": "markdown",
   "id": "6a8e95a3",
   "metadata": {},
   "source": [
    "##  Estimaciones de Datos Normales y Estimación de Monte Carlo"
   ]
  },
  {
   "cell_type": "code",
   "execution_count": 216,
   "id": "62048966",
   "metadata": {},
   "outputs": [],
   "source": [
    "BBDD2 = pd.read_csv(\"Estaturas2.csv\",encoding='latin-1')"
   ]
  },
  {
   "cell_type": "code",
   "execution_count": 217,
   "id": "4c42bcb0",
   "metadata": {},
   "outputs": [
    {
     "data": {
      "text/html": [
       "<div>\n",
       "<style scoped>\n",
       "    .dataframe tbody tr th:only-of-type {\n",
       "        vertical-align: middle;\n",
       "    }\n",
       "\n",
       "    .dataframe tbody tr th {\n",
       "        vertical-align: top;\n",
       "    }\n",
       "\n",
       "    .dataframe thead th {\n",
       "        text-align: right;\n",
       "    }\n",
       "</style>\n",
       "<table border=\"1\" class=\"dataframe\">\n",
       "  <thead>\n",
       "    <tr style=\"text-align: right;\">\n",
       "      <th></th>\n",
       "      <th>Estatura(metros)</th>\n",
       "      <th>Edad(años)</th>\n",
       "    </tr>\n",
       "  </thead>\n",
       "  <tbody>\n",
       "    <tr>\n",
       "      <th>0</th>\n",
       "      <td>1.82</td>\n",
       "      <td>25</td>\n",
       "    </tr>\n",
       "    <tr>\n",
       "      <th>1</th>\n",
       "      <td>1.80</td>\n",
       "      <td>27</td>\n",
       "    </tr>\n",
       "    <tr>\n",
       "      <th>2</th>\n",
       "      <td>1.60</td>\n",
       "      <td>31</td>\n",
       "    </tr>\n",
       "    <tr>\n",
       "      <th>3</th>\n",
       "      <td>1.60</td>\n",
       "      <td>35</td>\n",
       "    </tr>\n",
       "    <tr>\n",
       "      <th>4</th>\n",
       "      <td>1.82</td>\n",
       "      <td>30</td>\n",
       "    </tr>\n",
       "    <tr>\n",
       "      <th>5</th>\n",
       "      <td>1.76</td>\n",
       "      <td>32</td>\n",
       "    </tr>\n",
       "    <tr>\n",
       "      <th>6</th>\n",
       "      <td>1.79</td>\n",
       "      <td>31</td>\n",
       "    </tr>\n",
       "    <tr>\n",
       "      <th>7</th>\n",
       "      <td>1.61</td>\n",
       "      <td>31</td>\n",
       "    </tr>\n",
       "  </tbody>\n",
       "</table>\n",
       "</div>"
      ],
      "text/plain": [
       "   Estatura(metros)  Edad(años)\n",
       "0              1.82          25\n",
       "1              1.80          27\n",
       "2              1.60          31\n",
       "3              1.60          35\n",
       "4              1.82          30\n",
       "5              1.76          32\n",
       "6              1.79          31\n",
       "7              1.61          31"
      ]
     },
     "execution_count": 217,
     "metadata": {},
     "output_type": "execute_result"
    }
   ],
   "source": [
    "BBDD2"
   ]
  },
  {
   "cell_type": "code",
   "execution_count": 257,
   "id": "31c47cff",
   "metadata": {},
   "outputs": [],
   "source": [
    "gm = GaussianMixture(n_components=3, random_state=0).fit(BBDD2)"
   ]
  },
  {
   "cell_type": "code",
   "execution_count": 247,
   "id": "0c36f056",
   "metadata": {},
   "outputs": [],
   "source": [
    "def mixture_pdf(X,gmm):\n",
    "  w = gmm.weights_ #pesos w\n",
    "  means = gmm.means_ #medias de cada componente gaussiano\n",
    "  covs = gmm.covariances_ #matrices de coovarianza de cada componente gaussiano\n",
    "\n",
    "  pdf = (w[0]*multivariate_normal.pdf(BBDD2,mean=means[0],cov=covs[0])) + (w[1]*multivariate_normal.pdf(BBDD2,mean=means[1],cov=covs[1]))\n",
    "\n",
    "  return pdf"
   ]
  },
  {
   "cell_type": "code",
   "execution_count": 250,
   "id": "9bf82b9a",
   "metadata": {},
   "outputs": [
    {
     "name": "stdout",
     "output_type": "stream",
     "text": [
      "Densidad de probabilidad para X:\n",
      "[3.49469409e-20 3.30383807e-09 7.65334738e-01 1.98943679e+04\n",
      " 3.56174965e-01 3.56175446e-01 1.24316973e+00 8.75913811e-01]\n"
     ]
    }
   ],
   "source": [
    "print(\"Densidad de probabilidad para X:\")\n",
    "print(mixture_pdf(BBDD2,gm))"
   ]
  },
  {
   "cell_type": "code",
   "execution_count": 251,
   "id": "8fd8b1c9",
   "metadata": {},
   "outputs": [
    {
     "data": {
      "text/plain": [
       "array([ 3.18353385,  3.18353385, -0.26744198,  9.89819195, -1.03233319,\n",
       "       -1.03233184,  0.21766435, -0.13248758])"
      ]
     },
     "execution_count": 251,
     "metadata": {},
     "output_type": "execute_result"
    }
   ],
   "source": [
    "gm.score_samples(BBDD2)"
   ]
  },
  {
   "cell_type": "code",
   "execution_count": 252,
   "id": "93bfcabb",
   "metadata": {},
   "outputs": [
    {
     "name": "stdout",
     "output_type": "stream",
     "text": [
      "Densidad de probabilidad para X:\n"
     ]
    },
    {
     "data": {
      "text/plain": [
       "array([2.41318816e+01, 2.41318816e+01, 7.65334738e-01, 1.98943679e+04,\n",
       "       3.56174965e-01, 3.56175446e-01, 1.24316973e+00, 8.75913811e-01])"
      ]
     },
     "execution_count": 252,
     "metadata": {},
     "output_type": "execute_result"
    }
   ],
   "source": [
    "print(\"Densidad de probabilidad para X:\")\n",
    "np.exp(gm.score_samples(BBDD2))"
   ]
  },
  {
   "cell_type": "markdown",
   "id": "e0300461",
   "metadata": {},
   "source": [
    "**Estimación de Monte Carlo:**"
   ]
  },
  {
   "cell_type": "code",
   "execution_count": 244,
   "id": "82332ae1",
   "metadata": {},
   "outputs": [],
   "source": [
    "def g(x,y):\n",
    "  Estatura = BBDD2.iloc[:,0]\n",
    "  Edad = BBDD2.iloc[:,1]\n",
    "    \n",
    "  return (Estatura/Edad)"
   ]
  },
  {
   "cell_type": "code",
   "execution_count": 245,
   "id": "67a44087",
   "metadata": {},
   "outputs": [],
   "source": [
    "muestra,cluster = gm.sample(1000)\n",
    "\n",
    "muestra_g = g(BBDD2['Estatura(metros)'],BBDD2['Edad(años)'])\n",
    "valor_esperado_g = np.mean(muestra_g)"
   ]
  },
  {
   "cell_type": "code",
   "execution_count": 256,
   "id": "24ec7562",
   "metadata": {},
   "outputs": [
    {
     "data": {
      "image/png": "[encoded data removed]",
      "text/plain": [
       "<Figure size 432x288 with 1 Axes>"
      ]
     },
     "metadata": {
      "needs_background": "light"
     },
     "output_type": "display_data"
    }
   ],
   "source": [
    "plt.hist(muestra_g, density=True)\n",
    "plt.axvline(valor_esperado_g,color=\"Crimson\",linestyle=\"--\")\n",
    "plt.title(\"El valor esperado de f (Estatura / Edad) es:{}\".format(valor_esperado_g))\n",
    "\n",
    "plt.show()"
   ]
  }
 ],
 "metadata": {
  "kernelspec": {
   "display_name": "Python 3 (ipykernel)",
   "language": "python",
   "name": "python3"
  },
  "language_info": {
   "codemirror_mode": {
    "name": "ipython",
    "version": 3
   },
   "file_extension": ".py",
   "mimetype": "text/x-python",
   "name": "python",
   "nbconvert_exporter": "python",
   "pygments_lexer": "ipython3",
   "version": "3.8.12"
  }
 },
 "nbformat": 4,
 "nbformat_minor": 5
}
