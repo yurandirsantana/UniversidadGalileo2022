{
  "cells": [
    {
      "cell_type": "markdown",
      "source": [
        "# Statistical Learning - Tarea 2\n",
        "\n",
        "\n",
        "### Realizado por Yurandir Santa Maria Santana Sandoval"
      ],
      "metadata": {
        "id": "rxTS5DMRUwXc"
      }
    },
    {
      "cell_type": "markdown",
      "metadata": {
        "id": "nxv301z3vG6R"
      },
      "source": [
        "### Parte 1 - Modelo exponencial de covid-19 usando feature-eng\n",
        "\n",
        "Usando el ejemplo de covid-19 en el notebook de feature-eng (https://colab.research.google.com/drive/1sJV2HG7tQgCGKES3-dIclzHQJ9qAWB3b?usp=sharing) crear un modelo de covid-19 para Guatemala.\n",
        "\n",
        "* Convertir la fecha a un entero \"número de día\", por ejemplo si se usan datos desde el 22 de abril, este es el día 0, el 23 es el día 1.\n",
        "* Aplicar regresión lineal sobre la variable \"Confirmed\" transformada.\n",
        "* Una vez entrenado el modelo usarlo para aproximar la cantidad de casos confirmados para el 30 de mayo. Se debe reportar la cantidad de casos, no la cantidad transformada obtenida."
      ]
    },
    {
      "cell_type": "code",
      "source": [
        ""
      ],
      "metadata": {
        "id": "WUNQ-EXczYqv"
      },
      "execution_count": null,
      "outputs": []
    },
    {
      "cell_type": "markdown",
      "metadata": {
        "id": "1AzF_kJkvG6T"
      },
      "source": [
        "### Parte 2 - Modelo polinomial de calidad de vinos"
      ]
    },
    {
      "cell_type": "markdown",
      "metadata": {
        "id": "GltJ2v3ZvG6U"
      },
      "source": [
        "Es permitido utilizar [sklearn.preprocessing.polynomialfeatures](https://scikit-learn.org/stable/modules/generated/sklearn.preprocessing.PolynomialFeatures.html)\n",
        "\n",
        "\n",
        "### Instrucciones\n",
        "\n",
        "1. Seleccionar y transformar(generando las combinaciones polinomiales para un polinomio de grado dos o tres a elección) las features que considere que son las mejores para predecir la calidad del vino, utilizar como minimo 2 features. Para seleccionar las features, hacer un analisis exploratorio por ejemplo(pero no limitado a ):  graficando y viendo la forma en que se comportan los datos.\n",
        "\n",
        " Por ejemplo, se tienen las features \"a\" y \"b\" y seleccionamos polinomio de grado 2, hacemos feature engineering para obtener :\n",
        " \n",
        " $[a,b,a^{2},b^{2},ab]$\n",
        " \n",
        " No olvidar el \"bias\" (parámetro multiplicado por 1) ,con lo cual el dataset puede quedar con las columnas:\n",
        " \n",
        " $[1,a,b,a^{2},b^{2},ab]$\n",
        "2. Una vez transformada la data aplicar regresion lineal con las features polinomiales usando Tensorflow.\n",
        "\n",
        "Requisitos adicionales:\n",
        "* Se debe agregar al notebook un screenshot del grafo de tensorboard, simplificando(usando  names , y name_scope como visto en clase).\n",
        "\n",
        "* Se debe generar un directorio de logs de tensorboard para cada corrida/experimento , con cada directorio identificando facilmente la configuración del experimento como visto en clase, por ejemplo para un experimento con learning rate = 0.1 , y polinomio grado 2  crear un directorio: lr=0.1_polinomio_grado=2. (Agregar al notebook un screenshot de estas gráficas)\n",
        "\n",
        "* Concluir en markdown cual es el mejor modelo para este caso basado en la comparativa entre curvas de costo/error en tensorboard."
      ]
    },
    {
      "cell_type": "code",
      "execution_count": 1,
      "metadata": {
        "id": "J-ELwzcpvG6V"
      },
      "outputs": [],
      "source": [
        "import numpy as np\n",
        "import pandas as pd\n",
        "import matplotlib.pyplot as plt\n",
        "import sklearn as Sci\n",
        "import seaborn as sns\n",
        "import time as time"
      ]
    },
    {
      "cell_type": "code",
      "source": [
        "import tensorflow.compat.v1 as tf\n",
        "tf.disable_v2_behavior() "
      ],
      "metadata": {
        "colab": {
          "base_uri": "https://localhost:8080/"
        },
        "id": "HGCfG0I8yYcF",
        "outputId": "19fe3308-5466-47f6-d7b3-f25239dead9b"
      },
      "execution_count": 2,
      "outputs": [
        {
          "output_type": "stream",
          "name": "stdout",
          "text": [
            "WARNING:tensorflow:From /usr/local/lib/python3.7/dist-packages/tensorflow/python/compat/v2_compat.py:107: disable_resource_variables (from tensorflow.python.ops.variable_scope) is deprecated and will be removed in a future version.\n",
            "Instructions for updating:\n",
            "non-resource variables are not supported in the long term\n"
          ]
        }
      ]
    },
    {
      "cell_type": "code",
      "source": [
        "from google.colab import drive\n",
        "drive.mount('/content/drive')"
      ],
      "metadata": {
        "colab": {
          "base_uri": "https://localhost:8080/"
        },
        "id": "_r6ZYNyBvujA",
        "outputId": "4d7ebad3-1270-41bc-a1d7-4435195b3918"
      },
      "execution_count": 3,
      "outputs": [
        {
          "output_type": "stream",
          "name": "stdout",
          "text": [
            "Mounted at /content/drive\n"
          ]
        }
      ]
    },
    {
      "cell_type": "code",
      "execution_count": 4,
      "metadata": {
        "id": "4JTcjH8tvG6X"
      },
      "outputs": [],
      "source": [
        "data = pd.read_csv('/content/drive/My Drive/winequality-red.csv')"
      ]
    },
    {
      "cell_type": "markdown",
      "metadata": {
        "id": "wZsSB4M3vG6Y"
      },
      "source": [
        "### Red Wine Quality Data\n",
        "\n",
        "Se aplicará regresión para crear un modelo de la calidad de vino en función de características del mismo, siendo 1 el peor vino y 10 el mejor.\n",
        "\n",
        "Variables de entrada:\n",
        "1. fixed acidity \n",
        "2. volatile acidity \n",
        "3. citric acid \n",
        "4. residual sugar \n",
        "5. chlorides \n",
        "6. free sulfur dioxide \n",
        "7. total sulfur dioxide \n",
        "8. density \n",
        "9. pH \n",
        "10. sulphates \n",
        "11. alcohol \n",
        "\n",
        "Varaible a predecir: \n",
        "12. quality (puntuacion  entre 0 y 10) \n",
        "\n"
      ]
    },
    {
      "cell_type": "code",
      "execution_count": 6,
      "metadata": {
        "colab": {
          "base_uri": "https://localhost:8080/",
          "height": 206
        },
        "id": "bmy8tOkqvG6Z",
        "outputId": "0eefb682-38db-4e13-c8d5-6aa4cc1dd084"
      },
      "outputs": [
        {
          "output_type": "execute_result",
          "data": {
            "text/plain": [
              "   fixed acidity  volatile acidity  citric acid  residual sugar  chlorides  \\\n",
              "0            7.4              0.70         0.00             1.9      0.076   \n",
              "1            7.8              0.88         0.00             2.6      0.098   \n",
              "2            7.8              0.76         0.04             2.3      0.092   \n",
              "3           11.2              0.28         0.56             1.9      0.075   \n",
              "4            7.4              0.70         0.00             1.9      0.076   \n",
              "\n",
              "   free sulfur dioxide  total sulfur dioxide  density    pH  sulphates  \\\n",
              "0                 11.0                  34.0   0.9978  3.51       0.56   \n",
              "1                 25.0                  67.0   0.9968  3.20       0.68   \n",
              "2                 15.0                  54.0   0.9970  3.26       0.65   \n",
              "3                 17.0                  60.0   0.9980  3.16       0.58   \n",
              "4                 11.0                  34.0   0.9978  3.51       0.56   \n",
              "\n",
              "   alcohol  quality  \n",
              "0      9.4        5  \n",
              "1      9.8        5  \n",
              "2      9.8        5  \n",
              "3      9.8        6  \n",
              "4      9.4        5  "
            ],
            "text/html": [
              "\n",
              "  <div id=\"df-6b51b98f-5b42-4ae8-b217-22bb476e8dbb\">\n",
              "    <div class=\"colab-df-container\">\n",
              "      <div>\n",
              "<style scoped>\n",
              "    .dataframe tbody tr th:only-of-type {\n",
              "        vertical-align: middle;\n",
              "    }\n",
              "\n",
              "    .dataframe tbody tr th {\n",
              "        vertical-align: top;\n",
              "    }\n",
              "\n",
              "    .dataframe thead th {\n",
              "        text-align: right;\n",
              "    }\n",
              "</style>\n",
              "<table border=\"1\" class=\"dataframe\">\n",
              "  <thead>\n",
              "    <tr style=\"text-align: right;\">\n",
              "      <th></th>\n",
              "      <th>fixed acidity</th>\n",
              "      <th>volatile acidity</th>\n",
              "      <th>citric acid</th>\n",
              "      <th>residual sugar</th>\n",
              "      <th>chlorides</th>\n",
              "      <th>free sulfur dioxide</th>\n",
              "      <th>total sulfur dioxide</th>\n",
              "      <th>density</th>\n",
              "      <th>pH</th>\n",
              "      <th>sulphates</th>\n",
              "      <th>alcohol</th>\n",
              "      <th>quality</th>\n",
              "    </tr>\n",
              "  </thead>\n",
              "  <tbody>\n",
              "    <tr>\n",
              "      <th>0</th>\n",
              "      <td>7.4</td>\n",
              "      <td>0.70</td>\n",
              "      <td>0.00</td>\n",
              "      <td>1.9</td>\n",
              "      <td>0.076</td>\n",
              "      <td>11.0</td>\n",
              "      <td>34.0</td>\n",
              "      <td>0.9978</td>\n",
              "      <td>3.51</td>\n",
              "      <td>0.56</td>\n",
              "      <td>9.4</td>\n",
              "      <td>5</td>\n",
              "    </tr>\n",
              "    <tr>\n",
              "      <th>1</th>\n",
              "      <td>7.8</td>\n",
              "      <td>0.88</td>\n",
              "      <td>0.00</td>\n",
              "      <td>2.6</td>\n",
              "      <td>0.098</td>\n",
              "      <td>25.0</td>\n",
              "      <td>67.0</td>\n",
              "      <td>0.9968</td>\n",
              "      <td>3.20</td>\n",
              "      <td>0.68</td>\n",
              "      <td>9.8</td>\n",
              "      <td>5</td>\n",
              "    </tr>\n",
              "    <tr>\n",
              "      <th>2</th>\n",
              "      <td>7.8</td>\n",
              "      <td>0.76</td>\n",
              "      <td>0.04</td>\n",
              "      <td>2.3</td>\n",
              "      <td>0.092</td>\n",
              "      <td>15.0</td>\n",
              "      <td>54.0</td>\n",
              "      <td>0.9970</td>\n",
              "      <td>3.26</td>\n",
              "      <td>0.65</td>\n",
              "      <td>9.8</td>\n",
              "      <td>5</td>\n",
              "    </tr>\n",
              "    <tr>\n",
              "      <th>3</th>\n",
              "      <td>11.2</td>\n",
              "      <td>0.28</td>\n",
              "      <td>0.56</td>\n",
              "      <td>1.9</td>\n",
              "      <td>0.075</td>\n",
              "      <td>17.0</td>\n",
              "      <td>60.0</td>\n",
              "      <td>0.9980</td>\n",
              "      <td>3.16</td>\n",
              "      <td>0.58</td>\n",
              "      <td>9.8</td>\n",
              "      <td>6</td>\n",
              "    </tr>\n",
              "    <tr>\n",
              "      <th>4</th>\n",
              "      <td>7.4</td>\n",
              "      <td>0.70</td>\n",
              "      <td>0.00</td>\n",
              "      <td>1.9</td>\n",
              "      <td>0.076</td>\n",
              "      <td>11.0</td>\n",
              "      <td>34.0</td>\n",
              "      <td>0.9978</td>\n",
              "      <td>3.51</td>\n",
              "      <td>0.56</td>\n",
              "      <td>9.4</td>\n",
              "      <td>5</td>\n",
              "    </tr>\n",
              "  </tbody>\n",
              "</table>\n",
              "</div>\n",
              "      <button class=\"colab-df-convert\" onclick=\"convertToInteractive('df-6b51b98f-5b42-4ae8-b217-22bb476e8dbb')\"\n",
              "              title=\"Convert this dataframe to an interactive table.\"\n",
              "              style=\"display:none;\">\n",
              "        \n",
              "  <svg xmlns=\"http://www.w3.org/2000/svg\" height=\"24px\"viewBox=\"0 0 24 24\"\n",
              "       width=\"24px\">\n",
              "    <path d=\"M0 0h24v24H0V0z\" fill=\"none\"/>\n",
              "    <path d=\"M18.56 5.44l.94 2.06.94-2.06 2.06-.94-2.06-.94-.94-2.06-.94 2.06-2.06.94zm-11 1L8.5 8.5l.94-2.06 2.06-.94-2.06-.94L8.5 2.5l-.94 2.06-2.06.94zm10 10l.94 2.06.94-2.06 2.06-.94-2.06-.94-.94-2.06-.94 2.06-2.06.94z\"/><path d=\"M17.41 7.96l-1.37-1.37c-.4-.4-.92-.59-1.43-.59-.52 0-1.04.2-1.43.59L10.3 9.45l-7.72 7.72c-.78.78-.78 2.05 0 2.83L4 21.41c.39.39.9.59 1.41.59.51 0 1.02-.2 1.41-.59l7.78-7.78 2.81-2.81c.8-.78.8-2.07 0-2.86zM5.41 20L4 18.59l7.72-7.72 1.47 1.35L5.41 20z\"/>\n",
              "  </svg>\n",
              "      </button>\n",
              "      \n",
              "  <style>\n",
              "    .colab-df-container {\n",
              "      display:flex;\n",
              "      flex-wrap:wrap;\n",
              "      gap: 12px;\n",
              "    }\n",
              "\n",
              "    .colab-df-convert {\n",
              "      background-color: #E8F0FE;\n",
              "      border: none;\n",
              "      border-radius: 50%;\n",
              "      cursor: pointer;\n",
              "      display: none;\n",
              "      fill: #1967D2;\n",
              "      height: 32px;\n",
              "      padding: 0 0 0 0;\n",
              "      width: 32px;\n",
              "    }\n",
              "\n",
              "    .colab-df-convert:hover {\n",
              "      background-color: #E2EBFA;\n",
              "      box-shadow: 0px 1px 2px rgba(60, 64, 67, 0.3), 0px 1px 3px 1px rgba(60, 64, 67, 0.15);\n",
              "      fill: #174EA6;\n",
              "    }\n",
              "\n",
              "    [theme=dark] .colab-df-convert {\n",
              "      background-color: #3B4455;\n",
              "      fill: #D2E3FC;\n",
              "    }\n",
              "\n",
              "    [theme=dark] .colab-df-convert:hover {\n",
              "      background-color: #434B5C;\n",
              "      box-shadow: 0px 1px 3px 1px rgba(0, 0, 0, 0.15);\n",
              "      filter: drop-shadow(0px 1px 2px rgba(0, 0, 0, 0.3));\n",
              "      fill: #FFFFFF;\n",
              "    }\n",
              "  </style>\n",
              "\n",
              "      <script>\n",
              "        const buttonEl =\n",
              "          document.querySelector('#df-6b51b98f-5b42-4ae8-b217-22bb476e8dbb button.colab-df-convert');\n",
              "        buttonEl.style.display =\n",
              "          google.colab.kernel.accessAllowed ? 'block' : 'none';\n",
              "\n",
              "        async function convertToInteractive(key) {\n",
              "          const element = document.querySelector('#df-6b51b98f-5b42-4ae8-b217-22bb476e8dbb');\n",
              "          const dataTable =\n",
              "            await google.colab.kernel.invokeFunction('convertToInteractive',\n",
              "                                                     [key], {});\n",
              "          if (!dataTable) return;\n",
              "\n",
              "          const docLinkHtml = 'Like what you see? Visit the ' +\n",
              "            '<a target=\"_blank\" href=https://colab.research.google.com/notebooks/data_table.ipynb>data table notebook</a>'\n",
              "            + ' to learn more about interactive tables.';\n",
              "          element.innerHTML = '';\n",
              "          dataTable['output_type'] = 'display_data';\n",
              "          await google.colab.output.renderOutput(dataTable, element);\n",
              "          const docLink = document.createElement('div');\n",
              "          docLink.innerHTML = docLinkHtml;\n",
              "          element.appendChild(docLink);\n",
              "        }\n",
              "      </script>\n",
              "    </div>\n",
              "  </div>\n",
              "  "
            ]
          },
          "metadata": {},
          "execution_count": 6
        }
      ],
      "source": [
        "data.head()"
      ]
    },
    {
      "cell_type": "markdown",
      "source": [
        "### Gráfica - índices de Correlaciones"
      ],
      "metadata": {
        "id": "SYwtIU64w8oS"
      }
    },
    {
      "cell_type": "code",
      "source": [
        "plt.figure(figsize=(10, 8))\n",
        "sns.heatmap(round(data.corr(method=\"pearson\"),2), annot=True)\n",
        "plt.show()"
      ],
      "metadata": {
        "colab": {
          "base_uri": "https://localhost:8080/",
          "height": 571
        },
        "id": "2SojsZkrwbZn",
        "outputId": "b5a15f49-96e8-4b38-e104-726f009b99e3"
      },
      "execution_count": 7,
      "outputs": [
        {
          "output_type": "display_data",
          "data": {
            "text/plain": [
              "<Figure size 720x576 with 2 Axes>"
            ],
            "image/png": "[encoded data removed]"
          },
          "metadata": {
            "needs_background": "light"
          }
        }
      ]
    },
    {
      "cell_type": "markdown",
      "source": [
        "## Elección de Features\n"
      ],
      "metadata": {
        "id": "3rjrccuKxJ0J"
      }
    },
    {
      "cell_type": "markdown",
      "source": [
        "A través de la gráfica es posible identificar los dos features que más se relacionan con la calidad del vino, siendo estas en una relación directamente proporcional el feature de **quality** y en una relación inversamente proporcional el feature de **volatile acidity**."
      ],
      "metadata": {
        "id": "C2nduiJ2JxYT"
      }
    },
    {
      "cell_type": "markdown",
      "source": [
        "## Entrenamiento\n",
        "\n"
      ],
      "metadata": {
        "id": "k4rU7DU7KU87"
      }
    },
    {
      "cell_type": "markdown",
      "source": [
        "Al igual que la Tarea 1 se utilizará el 80% del dataset como observaciones de entrenamiento."
      ],
      "metadata": {
        "id": "guOPjGQnKs53"
      }
    },
    {
      "cell_type": "code",
      "source": [
        "# Obtener número de observaciones para entrenamiento\n",
        "\n",
        "Data = int(data.shape[0] * 0.8)\n",
        "\n",
        "# Muestra de los datos\n",
        "\n",
        "X = data.loc[:Data, ['alcohol', 'volatile acidity']]\n",
        "Y = data.loc[:Data, ['quality']]"
      ],
      "metadata": {
        "id": "THPDpbP7xXx2"
      },
      "execution_count": 12,
      "outputs": []
    },
    {
      "cell_type": "markdown",
      "source": [
        "##Polinomio de grado 2"
      ],
      "metadata": {
        "id": "ayBjEuRhP_zp"
      }
    },
    {
      "cell_type": "code",
      "source": [
        "EntrenamientoY = Y.copy()\n",
        "EntrenamientoX = X.copy()\n",
        "\n",
        "# Propiedades de la regresión polinomial:\n",
        "\n",
        "EntrenamientoX.columns = ['a', 'b']\n",
        "EntrenamientoX['ab'] = EntrenamientoX['a'] * EntrenamientoX['b']\n",
        "EntrenamientoX['a^2'] = EntrenamientoX['a'] * EntrenamientoX['a']\n",
        "EntrenamientoX['b^2'] = EntrenamientoX['b'] * EntrenamientoX['b']\n",
        "\n",
        "# Creación de ntercepto:\n",
        "\n",
        "EntrenamientoX.insert(0, '', 1)\n",
        "\n",
        "# Número de parámetros a estimar:\n",
        "\n",
        "K = EntrenamientoX.shape[1]\n",
        "\n",
        "# Print - Modelo inicial de regresión:\n",
        "\n",
        "EntrenamientoX.head()"
      ],
      "metadata": {
        "colab": {
          "base_uri": "https://localhost:8080/",
          "height": 206
        },
        "id": "ruYhEea1xp8e",
        "outputId": "9e009e66-0ac3-45cd-984c-b813639848d3"
      },
      "execution_count": 15,
      "outputs": [
        {
          "output_type": "execute_result",
          "data": {
            "text/plain": [
              "        a     b     ab    a^2     b^2\n",
              "0  1  9.4  0.70  6.580  88.36  0.4900\n",
              "1  1  9.8  0.88  8.624  96.04  0.7744\n",
              "2  1  9.8  0.76  7.448  96.04  0.5776\n",
              "3  1  9.8  0.28  2.744  96.04  0.0784\n",
              "4  1  9.4  0.70  6.580  88.36  0.4900"
            ],
            "text/html": [
              "\n",
              "  <div id=\"df-e2a4b2d3-d8dc-4e75-8dfe-3213573518d1\">\n",
              "    <div class=\"colab-df-container\">\n",
              "      <div>\n",
              "<style scoped>\n",
              "    .dataframe tbody tr th:only-of-type {\n",
              "        vertical-align: middle;\n",
              "    }\n",
              "\n",
              "    .dataframe tbody tr th {\n",
              "        vertical-align: top;\n",
              "    }\n",
              "\n",
              "    .dataframe thead th {\n",
              "        text-align: right;\n",
              "    }\n",
              "</style>\n",
              "<table border=\"1\" class=\"dataframe\">\n",
              "  <thead>\n",
              "    <tr style=\"text-align: right;\">\n",
              "      <th></th>\n",
              "      <th></th>\n",
              "      <th>a</th>\n",
              "      <th>b</th>\n",
              "      <th>ab</th>\n",
              "      <th>a^2</th>\n",
              "      <th>b^2</th>\n",
              "    </tr>\n",
              "  </thead>\n",
              "  <tbody>\n",
              "    <tr>\n",
              "      <th>0</th>\n",
              "      <td>1</td>\n",
              "      <td>9.4</td>\n",
              "      <td>0.70</td>\n",
              "      <td>6.580</td>\n",
              "      <td>88.36</td>\n",
              "      <td>0.4900</td>\n",
              "    </tr>\n",
              "    <tr>\n",
              "      <th>1</th>\n",
              "      <td>1</td>\n",
              "      <td>9.8</td>\n",
              "      <td>0.88</td>\n",
              "      <td>8.624</td>\n",
              "      <td>96.04</td>\n",
              "      <td>0.7744</td>\n",
              "    </tr>\n",
              "    <tr>\n",
              "      <th>2</th>\n",
              "      <td>1</td>\n",
              "      <td>9.8</td>\n",
              "      <td>0.76</td>\n",
              "      <td>7.448</td>\n",
              "      <td>96.04</td>\n",
              "      <td>0.5776</td>\n",
              "    </tr>\n",
              "    <tr>\n",
              "      <th>3</th>\n",
              "      <td>1</td>\n",
              "      <td>9.8</td>\n",
              "      <td>0.28</td>\n",
              "      <td>2.744</td>\n",
              "      <td>96.04</td>\n",
              "      <td>0.0784</td>\n",
              "    </tr>\n",
              "    <tr>\n",
              "      <th>4</th>\n",
              "      <td>1</td>\n",
              "      <td>9.4</td>\n",
              "      <td>0.70</td>\n",
              "      <td>6.580</td>\n",
              "      <td>88.36</td>\n",
              "      <td>0.4900</td>\n",
              "    </tr>\n",
              "  </tbody>\n",
              "</table>\n",
              "</div>\n",
              "      <button class=\"colab-df-convert\" onclick=\"convertToInteractive('df-e2a4b2d3-d8dc-4e75-8dfe-3213573518d1')\"\n",
              "              title=\"Convert this dataframe to an interactive table.\"\n",
              "              style=\"display:none;\">\n",
              "        \n",
              "  <svg xmlns=\"http://www.w3.org/2000/svg\" height=\"24px\"viewBox=\"0 0 24 24\"\n",
              "       width=\"24px\">\n",
              "    <path d=\"M0 0h24v24H0V0z\" fill=\"none\"/>\n",
              "    <path d=\"M18.56 5.44l.94 2.06.94-2.06 2.06-.94-2.06-.94-.94-2.06-.94 2.06-2.06.94zm-11 1L8.5 8.5l.94-2.06 2.06-.94-2.06-.94L8.5 2.5l-.94 2.06-2.06.94zm10 10l.94 2.06.94-2.06 2.06-.94-2.06-.94-.94-2.06-.94 2.06-2.06.94z\"/><path d=\"M17.41 7.96l-1.37-1.37c-.4-.4-.92-.59-1.43-.59-.52 0-1.04.2-1.43.59L10.3 9.45l-7.72 7.72c-.78.78-.78 2.05 0 2.83L4 21.41c.39.39.9.59 1.41.59.51 0 1.02-.2 1.41-.59l7.78-7.78 2.81-2.81c.8-.78.8-2.07 0-2.86zM5.41 20L4 18.59l7.72-7.72 1.47 1.35L5.41 20z\"/>\n",
              "  </svg>\n",
              "      </button>\n",
              "      \n",
              "  <style>\n",
              "    .colab-df-container {\n",
              "      display:flex;\n",
              "      flex-wrap:wrap;\n",
              "      gap: 12px;\n",
              "    }\n",
              "\n",
              "    .colab-df-convert {\n",
              "      background-color: #E8F0FE;\n",
              "      border: none;\n",
              "      border-radius: 50%;\n",
              "      cursor: pointer;\n",
              "      display: none;\n",
              "      fill: #1967D2;\n",
              "      height: 32px;\n",
              "      padding: 0 0 0 0;\n",
              "      width: 32px;\n",
              "    }\n",
              "\n",
              "    .colab-df-convert:hover {\n",
              "      background-color: #E2EBFA;\n",
              "      box-shadow: 0px 1px 2px rgba(60, 64, 67, 0.3), 0px 1px 3px 1px rgba(60, 64, 67, 0.15);\n",
              "      fill: #174EA6;\n",
              "    }\n",
              "\n",
              "    [theme=dark] .colab-df-convert {\n",
              "      background-color: #3B4455;\n",
              "      fill: #D2E3FC;\n",
              "    }\n",
              "\n",
              "    [theme=dark] .colab-df-convert:hover {\n",
              "      background-color: #434B5C;\n",
              "      box-shadow: 0px 1px 3px 1px rgba(0, 0, 0, 0.15);\n",
              "      filter: drop-shadow(0px 1px 2px rgba(0, 0, 0, 0.3));\n",
              "      fill: #FFFFFF;\n",
              "    }\n",
              "  </style>\n",
              "\n",
              "      <script>\n",
              "        const buttonEl =\n",
              "          document.querySelector('#df-e2a4b2d3-d8dc-4e75-8dfe-3213573518d1 button.colab-df-convert');\n",
              "        buttonEl.style.display =\n",
              "          google.colab.kernel.accessAllowed ? 'block' : 'none';\n",
              "\n",
              "        async function convertToInteractive(key) {\n",
              "          const element = document.querySelector('#df-e2a4b2d3-d8dc-4e75-8dfe-3213573518d1');\n",
              "          const dataTable =\n",
              "            await google.colab.kernel.invokeFunction('convertToInteractive',\n",
              "                                                     [key], {});\n",
              "          if (!dataTable) return;\n",
              "\n",
              "          const docLinkHtml = 'Like what you see? Visit the ' +\n",
              "            '<a target=\"_blank\" href=https://colab.research.google.com/notebooks/data_table.ipynb>data table notebook</a>'\n",
              "            + ' to learn more about interactive tables.';\n",
              "          element.innerHTML = '';\n",
              "          dataTable['output_type'] = 'display_data';\n",
              "          await google.colab.output.renderOutput(dataTable, element);\n",
              "          const docLink = document.createElement('div');\n",
              "          docLink.innerHTML = docLinkHtml;\n",
              "          element.appendChild(docLink);\n",
              "        }\n",
              "      </script>\n",
              "    </div>\n",
              "  </div>\n",
              "  "
            ]
          },
          "metadata": {},
          "execution_count": 15
        }
      ]
    },
    {
      "cell_type": "markdown",
      "source": [
        "### Modelo en TensorFlow\n",
        "\n"
      ],
      "metadata": {
        "id": "2L57fBahMLyL"
      }
    },
    {
      "cell_type": "code",
      "source": [
        "# Grafo:\n",
        "\n",
        "tf.reset_default_graph()\n",
        "Grafo = tf.Graph()\n",
        "\n",
        "with Grafo.as_default():\n",
        "\n",
        "    # Placeholders:\n",
        "\n",
        "    X = tf.placeholder(tf.float32, shape = (None, K), name = \"X\")\n",
        "    Y = tf.placeholder(tf.float32, shape = (None, 1), name = \"Y\")\n",
        "\n",
        "    # Hiperparámetros:\n",
        "\n",
        "    lr = tf.placeholder(tf.float32, name = \"lr\")\n",
        "\n",
        "    # Coeficientes de regresión\n",
        "\n",
        "    W = tf.Variable(tf.zeros([K, 1], tf.float32), name = \"W\")\n",
        "\n",
        "    # Hipótesis de regresión múltiple:\n",
        "\n",
        "    with tf.name_scope(\"Hipotesis\"):\n",
        "        Yhat = tf.matmul(X, W, name = \"Yhat\") \n",
        "\n",
        "    # Función de costo:\n",
        "\n",
        "    with tf.name_scope(\"Costo\"):\n",
        "        cost = tf.divide( tf.reduce_mean(tf.pow(Yhat-Y, 2)), 2., name=\"Funcion_de_Costo\")\n",
        "\n",
        "    # Gradient Descent Optimizer \n",
        "\n",
        "    with tf.name_scope(\"GradientDes.Optimizer\"):\n",
        "        optimizer = tf.train.GradientDescentOptimizer(lr).minimize(cost) \n",
        "\n",
        "        # Summary:\n",
        "\n",
        "        costSummary = tf.summary.scalar(name=\"Funcion_de_Costo\", tensor = cost)\n",
        "\n",
        "    # Global Variables Initializer:\n",
        "\n",
        "    init = tf.global_variables_initializer() "
      ],
      "metadata": {
        "id": "ddCDSi17x92o"
      },
      "execution_count": 20,
      "outputs": []
    },
    {
      "cell_type": "markdown",
      "source": [
        "### Entrenamiento y Aplicación del modelo"
      ],
      "metadata": {
        "id": "H8M4b3gdNa34"
      }
    },
    {
      "cell_type": "code",
      "source": [
        "def TrainingModeloLineal(x, y, epochs, learning_rate):\n",
        "\n",
        "    start = time.time()\n",
        "    with tf.Session(graph = Grafo) as sess: \n",
        "\n",
        "        writer = tf.summary.FileWriter('./multipleReg/K=%d, lr=%f' % (K, learning_rate), sess.graph)\n",
        "\n",
        "        sess.run(init) \n",
        "\n",
        "        # Iteración del batch\n",
        "\n",
        "        for epoch in range(epochs): \n",
        "\n",
        "            _, summary = sess.run([optimizer, costSummary], feed_dict = {X : x, Y : y, lr : learning_rate})\n",
        "            \n",
        "            writer.add_summary(summary, epoch+1)\n",
        "\n",
        "            c, Modelo = sess.run([cost, W], feed_dict = {X : x, Y : y}) \n",
        "            print(\"Número de Epoch:\", (epoch + 1),\"\\tCosto =\", c) \n",
        "\n",
        "        writer.close()\n",
        "        \n",
        "        CostoFinal = sess.run(cost, feed_dict ={X: x, Y: y}) \n",
        "        Modelo = sess.run(W)\n",
        "        \n",
        "    return (Modelo)"
      ],
      "metadata": {
        "id": "3Wqlhuj9yolU"
      },
      "execution_count": 36,
      "outputs": []
    },
    {
      "cell_type": "code",
      "source": [
        "Modelo = TrainingModeloLineal(EntrenamientoX, EntrenamientoY, 10, 0.0001)"
      ],
      "metadata": {
        "colab": {
          "base_uri": "https://localhost:8080/"
        },
        "id": "XyBDdNHByw-Q",
        "outputId": "526f57e4-7ac3-4df3-89e5-9503bf614d37"
      },
      "execution_count": 37,
      "outputs": [
        {
          "output_type": "stream",
          "name": "stdout",
          "text": [
            "Número de Epoch: 1 \tCosto = 1.7039692\n",
            "Número de Epoch: 2 \tCosto = 0.65730226\n",
            "Número de Epoch: 3 \tCosto = 0.5825411\n",
            "Número de Epoch: 4 \tCosto = 0.5771097\n",
            "Número de Epoch: 5 \tCosto = 0.57662404\n",
            "Número de Epoch: 6 \tCosto = 0.57649106\n",
            "Número de Epoch: 7 \tCosto = 0.5763834\n",
            "Número de Epoch: 8 \tCosto = 0.5762776\n",
            "Número de Epoch: 9 \tCosto = 0.57617193\n",
            "Número de Epoch: 10 \tCosto = 0.5760664\n"
          ]
        }
      ]
    },
    {
      "cell_type": "markdown",
      "source": [
        "##Polinomio de grado 3"
      ],
      "metadata": {
        "id": "Z3brVTUtSr06"
      }
    },
    {
      "cell_type": "code",
      "source": [
        "EntrenamientoX2 = EntrenamientoX.copy()\n",
        "\n",
        "# Agregamos las características a X\n",
        "\n",
        "EntrenamientoX2['ab^2'] = EntrenamientoX2['a'] * EntrenamientoX2['b^2']\n",
        "EntrenamientoX2['ba^2'] = EntrenamientoX2['b'] * EntrenamientoX2['a^2']\n",
        "EntrenamientoX2['a^3'] = EntrenamientoX2['a'] ** 3\n",
        "EntrenamientoX2['b^3'] = EntrenamientoX2['b'] ** 3\n",
        "\n",
        "# Obtenemos el número de parámetros a estimar: K\n",
        "K = EntrenamientoX2.shape[1]\n",
        "\n",
        "EntrenamientoX2.head()\n"
      ],
      "metadata": {
        "colab": {
          "base_uri": "https://localhost:8080/",
          "height": 206
        },
        "id": "0kS484mLQcjc",
        "outputId": "bb143c7e-9193-44b4-ee57-db08646fa318"
      },
      "execution_count": 40,
      "outputs": [
        {
          "output_type": "execute_result",
          "data": {
            "text/plain": [
              "        a     b     ab    a^2     b^2     ab^2     ba^2      a^3       b^3\n",
              "0  1  9.4  0.70  6.580  88.36  0.4900  4.60600  61.8520  830.584  0.343000\n",
              "1  1  9.8  0.88  8.624  96.04  0.7744  7.58912  84.5152  941.192  0.681472\n",
              "2  1  9.8  0.76  7.448  96.04  0.5776  5.66048  72.9904  941.192  0.438976\n",
              "3  1  9.8  0.28  2.744  96.04  0.0784  0.76832  26.8912  941.192  0.021952\n",
              "4  1  9.4  0.70  6.580  88.36  0.4900  4.60600  61.8520  830.584  0.343000"
            ],
            "text/html": [
              "\n",
              "  <div id=\"df-b400f62c-1bfe-4adb-8c12-2369aef5d723\">\n",
              "    <div class=\"colab-df-container\">\n",
              "      <div>\n",
              "<style scoped>\n",
              "    .dataframe tbody tr th:only-of-type {\n",
              "        vertical-align: middle;\n",
              "    }\n",
              "\n",
              "    .dataframe tbody tr th {\n",
              "        vertical-align: top;\n",
              "    }\n",
              "\n",
              "    .dataframe thead th {\n",
              "        text-align: right;\n",
              "    }\n",
              "</style>\n",
              "<table border=\"1\" class=\"dataframe\">\n",
              "  <thead>\n",
              "    <tr style=\"text-align: right;\">\n",
              "      <th></th>\n",
              "      <th></th>\n",
              "      <th>a</th>\n",
              "      <th>b</th>\n",
              "      <th>ab</th>\n",
              "      <th>a^2</th>\n",
              "      <th>b^2</th>\n",
              "      <th>ab^2</th>\n",
              "      <th>ba^2</th>\n",
              "      <th>a^3</th>\n",
              "      <th>b^3</th>\n",
              "    </tr>\n",
              "  </thead>\n",
              "  <tbody>\n",
              "    <tr>\n",
              "      <th>0</th>\n",
              "      <td>1</td>\n",
              "      <td>9.4</td>\n",
              "      <td>0.70</td>\n",
              "      <td>6.580</td>\n",
              "      <td>88.36</td>\n",
              "      <td>0.4900</td>\n",
              "      <td>4.60600</td>\n",
              "      <td>61.8520</td>\n",
              "      <td>830.584</td>\n",
              "      <td>0.343000</td>\n",
              "    </tr>\n",
              "    <tr>\n",
              "      <th>1</th>\n",
              "      <td>1</td>\n",
              "      <td>9.8</td>\n",
              "      <td>0.88</td>\n",
              "      <td>8.624</td>\n",
              "      <td>96.04</td>\n",
              "      <td>0.7744</td>\n",
              "      <td>7.58912</td>\n",
              "      <td>84.5152</td>\n",
              "      <td>941.192</td>\n",
              "      <td>0.681472</td>\n",
              "    </tr>\n",
              "    <tr>\n",
              "      <th>2</th>\n",
              "      <td>1</td>\n",
              "      <td>9.8</td>\n",
              "      <td>0.76</td>\n",
              "      <td>7.448</td>\n",
              "      <td>96.04</td>\n",
              "      <td>0.5776</td>\n",
              "      <td>5.66048</td>\n",
              "      <td>72.9904</td>\n",
              "      <td>941.192</td>\n",
              "      <td>0.438976</td>\n",
              "    </tr>\n",
              "    <tr>\n",
              "      <th>3</th>\n",
              "      <td>1</td>\n",
              "      <td>9.8</td>\n",
              "      <td>0.28</td>\n",
              "      <td>2.744</td>\n",
              "      <td>96.04</td>\n",
              "      <td>0.0784</td>\n",
              "      <td>0.76832</td>\n",
              "      <td>26.8912</td>\n",
              "      <td>941.192</td>\n",
              "      <td>0.021952</td>\n",
              "    </tr>\n",
              "    <tr>\n",
              "      <th>4</th>\n",
              "      <td>1</td>\n",
              "      <td>9.4</td>\n",
              "      <td>0.70</td>\n",
              "      <td>6.580</td>\n",
              "      <td>88.36</td>\n",
              "      <td>0.4900</td>\n",
              "      <td>4.60600</td>\n",
              "      <td>61.8520</td>\n",
              "      <td>830.584</td>\n",
              "      <td>0.343000</td>\n",
              "    </tr>\n",
              "  </tbody>\n",
              "</table>\n",
              "</div>\n",
              "      <button class=\"colab-df-convert\" onclick=\"convertToInteractive('df-b400f62c-1bfe-4adb-8c12-2369aef5d723')\"\n",
              "              title=\"Convert this dataframe to an interactive table.\"\n",
              "              style=\"display:none;\">\n",
              "        \n",
              "  <svg xmlns=\"http://www.w3.org/2000/svg\" height=\"24px\"viewBox=\"0 0 24 24\"\n",
              "       width=\"24px\">\n",
              "    <path d=\"M0 0h24v24H0V0z\" fill=\"none\"/>\n",
              "    <path d=\"M18.56 5.44l.94 2.06.94-2.06 2.06-.94-2.06-.94-.94-2.06-.94 2.06-2.06.94zm-11 1L8.5 8.5l.94-2.06 2.06-.94-2.06-.94L8.5 2.5l-.94 2.06-2.06.94zm10 10l.94 2.06.94-2.06 2.06-.94-2.06-.94-.94-2.06-.94 2.06-2.06.94z\"/><path d=\"M17.41 7.96l-1.37-1.37c-.4-.4-.92-.59-1.43-.59-.52 0-1.04.2-1.43.59L10.3 9.45l-7.72 7.72c-.78.78-.78 2.05 0 2.83L4 21.41c.39.39.9.59 1.41.59.51 0 1.02-.2 1.41-.59l7.78-7.78 2.81-2.81c.8-.78.8-2.07 0-2.86zM5.41 20L4 18.59l7.72-7.72 1.47 1.35L5.41 20z\"/>\n",
              "  </svg>\n",
              "      </button>\n",
              "      \n",
              "  <style>\n",
              "    .colab-df-container {\n",
              "      display:flex;\n",
              "      flex-wrap:wrap;\n",
              "      gap: 12px;\n",
              "    }\n",
              "\n",
              "    .colab-df-convert {\n",
              "      background-color: #E8F0FE;\n",
              "      border: none;\n",
              "      border-radius: 50%;\n",
              "      cursor: pointer;\n",
              "      display: none;\n",
              "      fill: #1967D2;\n",
              "      height: 32px;\n",
              "      padding: 0 0 0 0;\n",
              "      width: 32px;\n",
              "    }\n",
              "\n",
              "    .colab-df-convert:hover {\n",
              "      background-color: #E2EBFA;\n",
              "      box-shadow: 0px 1px 2px rgba(60, 64, 67, 0.3), 0px 1px 3px 1px rgba(60, 64, 67, 0.15);\n",
              "      fill: #174EA6;\n",
              "    }\n",
              "\n",
              "    [theme=dark] .colab-df-convert {\n",
              "      background-color: #3B4455;\n",
              "      fill: #D2E3FC;\n",
              "    }\n",
              "\n",
              "    [theme=dark] .colab-df-convert:hover {\n",
              "      background-color: #434B5C;\n",
              "      box-shadow: 0px 1px 3px 1px rgba(0, 0, 0, 0.15);\n",
              "      filter: drop-shadow(0px 1px 2px rgba(0, 0, 0, 0.3));\n",
              "      fill: #FFFFFF;\n",
              "    }\n",
              "  </style>\n",
              "\n",
              "      <script>\n",
              "        const buttonEl =\n",
              "          document.querySelector('#df-b400f62c-1bfe-4adb-8c12-2369aef5d723 button.colab-df-convert');\n",
              "        buttonEl.style.display =\n",
              "          google.colab.kernel.accessAllowed ? 'block' : 'none';\n",
              "\n",
              "        async function convertToInteractive(key) {\n",
              "          const element = document.querySelector('#df-b400f62c-1bfe-4adb-8c12-2369aef5d723');\n",
              "          const dataTable =\n",
              "            await google.colab.kernel.invokeFunction('convertToInteractive',\n",
              "                                                     [key], {});\n",
              "          if (!dataTable) return;\n",
              "\n",
              "          const docLinkHtml = 'Like what you see? Visit the ' +\n",
              "            '<a target=\"_blank\" href=https://colab.research.google.com/notebooks/data_table.ipynb>data table notebook</a>'\n",
              "            + ' to learn more about interactive tables.';\n",
              "          element.innerHTML = '';\n",
              "          dataTable['output_type'] = 'display_data';\n",
              "          await google.colab.output.renderOutput(dataTable, element);\n",
              "          const docLink = document.createElement('div');\n",
              "          docLink.innerHTML = docLinkHtml;\n",
              "          element.appendChild(docLink);\n",
              "        }\n",
              "      </script>\n",
              "    </div>\n",
              "  </div>\n",
              "  "
            ]
          },
          "metadata": {},
          "execution_count": 40
        }
      ]
    },
    {
      "cell_type": "markdown",
      "source": [
        "### Modelo en TensorFlow\n"
      ],
      "metadata": {
        "id": "TEVmui8GTWI9"
      }
    },
    {
      "cell_type": "code",
      "source": [
        "# Grafo:\n",
        "\n",
        "tf.reset_default_graph()\n",
        "Grafo = tf.Graph()\n",
        "\n",
        "with Grafo.as_default():\n",
        "\n",
        "    # Placeholders:\n",
        "\n",
        "    X = tf.placeholder(tf.float32, shape = (None, K), name = \"X\")\n",
        "    Y = tf.placeholder(tf.float32, shape = (None, 1), name = \"Y\")\n",
        "\n",
        "    # Hiperparámetros:\n",
        "\n",
        "    lr = tf.placeholder(tf.float32, name = \"lr\")\n",
        "\n",
        "    # Coeficientes de regresión\n",
        "\n",
        "    W = tf.Variable(tf.zeros([K, 1], tf.float32), name = \"W\")\n",
        "\n",
        "    # Hipótesis de regresión múltiple:\n",
        "\n",
        "    with tf.name_scope(\"Hipotesis\"):\n",
        "        Yhat = tf.matmul(X, W, name = \"Yhat\") \n",
        "\n",
        "    # Función de costo:\n",
        "\n",
        "    with tf.name_scope(\"Costo\"):\n",
        "        cost = tf.divide( tf.reduce_mean(tf.pow(Yhat-Y, 2)), 2., name=\"Funcion_de_Costo\")\n",
        "\n",
        "    # Gradient Descent Optimizer \n",
        "\n",
        "    with tf.name_scope(\"GradientDes.Optimizer\"):\n",
        "        optimizer = tf.train.GradientDescentOptimizer(lr).minimize(cost) \n",
        "\n",
        "        # Summary:\n",
        "\n",
        "        costSummary = tf.summary.scalar(name=\"Funcion_de_Costo\", tensor = cost)\n",
        "\n",
        "    # Global Variables Initializer:\n",
        "\n",
        "    init = tf.global_variables_initializer() "
      ],
      "metadata": {
        "id": "GGMe-9xgTW2w"
      },
      "execution_count": 42,
      "outputs": []
    },
    {
      "cell_type": "markdown",
      "source": [
        "### Entrenamiento y Aplicación del modelo"
      ],
      "metadata": {
        "id": "cuwg1yjITfXx"
      }
    },
    {
      "cell_type": "code",
      "source": [
        "def TrainingModeloLineal(x, y, epochs, learning_rate):\n",
        "\n",
        "    start = time.time()\n",
        "    with tf.Session(graph = Grafo) as sess: \n",
        "\n",
        "        writer = tf.summary.FileWriter('./multipleReg/K=%d, lr=%f' % (K, learning_rate), sess.graph)\n",
        "\n",
        "        sess.run(init) \n",
        "\n",
        "        # Iteración del batch\n",
        "\n",
        "        for epoch in range(epochs): \n",
        "\n",
        "            _, summary = sess.run([optimizer, costSummary], feed_dict = {X : x, Y : y, lr : learning_rate})\n",
        "            \n",
        "            writer.add_summary(summary, epoch+1)\n",
        "\n",
        "            c, Modelo = sess.run([cost, W], feed_dict = {X : x, Y : y}) \n",
        "            print(\"Número de Epoch:\", (epoch + 1),\"\\tCosto =\", c) \n",
        "\n",
        "        writer.close()\n",
        "        \n",
        "        CostoFinal = sess.run(cost, feed_dict ={X: x, Y: y}) \n",
        "        Modelo = sess.run(W)\n",
        "        \n",
        "    return (Modelo)"
      ],
      "metadata": {
        "id": "x4IaxX-qTcy1"
      },
      "execution_count": 43,
      "outputs": []
    },
    {
      "cell_type": "code",
      "source": [
        "Modelo = TrainingModeloLineal(EntrenamientoX2, EntrenamientoY, 10, 0.00001)"
      ],
      "metadata": {
        "colab": {
          "base_uri": "https://localhost:8080/"
        },
        "id": "PofOwJxITlTz",
        "outputId": "23fe262b-b82c-417e-8474-d6ee47460619"
      },
      "execution_count": 48,
      "outputs": [
        {
          "output_type": "stream",
          "name": "stdout",
          "text": [
            "Número de Epoch: 1 \tCosto = 3072.3308\n",
            "Número de Epoch: 2 \tCosto = 625385.1\n",
            "Número de Epoch: 3 \tCosto = 127352470.0\n",
            "Número de Epoch: 4 \tCosto = 25933943000.0\n",
            "Número de Epoch: 5 \tCosto = 5281164600000.0\n",
            "Número de Epoch: 6 \tCosto = 1075451360000000.0\n",
            "Número de Epoch: 7 \tCosto = 2.1900392e+17\n",
            "Número de Epoch: 8 \tCosto = 4.459774e+19\n",
            "Número de Epoch: 9 \tCosto = 9.081842e+21\n",
            "Número de Epoch: 10 \tCosto = 1.8494171e+24\n"
          ]
        }
      ]
    },
    {
      "cell_type": "markdown",
      "source": [
        "## Resultados"
      ],
      "metadata": {
        "id": "vsXkLd_MT0j0"
      }
    },
    {
      "cell_type": "markdown",
      "source": [
        "Al analizar los valores de los costos y los learning rates utilizados es notorio que el modelo para el polinomio de grado 2 es más preciso ya que posee una reducción del costo menor cuando es comparada a los resultados obtenidos en el polinomio de grado 3."
      ],
      "metadata": {
        "id": "1TbnzxHYT2yP"
      }
    }
  ],
  "metadata": {
    "kernelspec": {
      "display_name": "Python 3",
      "language": "python",
      "name": "python3"
    },
    "language_info": {
      "codemirror_mode": {
        "name": "ipython",
        "version": 3
      },
      "file_extension": ".py",
      "mimetype": "text/x-python",
      "name": "python",
      "nbconvert_exporter": "python",
      "pygments_lexer": "ipython3",
      "version": "3.7.6"
    },
    "colab": {
      "name": "Statistical_Learning_Tarea_2.ipynb",
      "provenance": []
    }
  },
  "nbformat": 4,
  "nbformat_minor": 0
}