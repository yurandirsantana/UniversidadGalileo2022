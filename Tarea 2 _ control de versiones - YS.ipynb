{
 "cells": [
  {
   "cell_type": "markdown",
   "metadata": {},
   "source": [
    "# Version Control (Git)\n",
    "\n",
    "Los sistemas de control de versiones son como su nombre implica la herramienta utilizada principalmente por miembros de un proyecto que desean colaborar con otros miembros, así como poseer un registro virtual de los avances y modificaciones de dicho proyecto.\n",
    "\n",
    "Partiendo de las premisas previas es importante denotar que un miembro único de un proyecto también puede beneficiarse de un sistema de control de versiones en el que puede volver a snapshots (copia instantánea) antiguos para evaluar posibles deficiencias, retomar soluciones o documentar porque los cambios fueron hechos.\n",
    "\n",
    "El poder auditar los cambios en un proyecto es esencial en orden de resolver posibles conflictos. Muchos de los VCSs actuales permiten tener un registro de quién, cuándo y porqué el proyecto fue modificado.\n",
    "\n",
    "## Git\n",
    "\n",
    "Es por default el estándar de los sistemas de control de versiones; es un sistema muy complejo de entender, con una interfaz que no está optimizada visualmente y que muchas veces es utilizada de manera subjetiva, es decir, aplicando comandos que hacen algo sin saber cómo realmente lo hacen.\n",
    "\n",
    "A continuación una breve explicación de dos de los términos más importantes del entorno de Git:\n",
    "\n",
    "__Snapshots__: \n",
    "    \n",
    "Es la manera en la que folders o documentos son registrados como parte un proyecto.\n",
    "\n",
    "__Repositories__: \n",
    "    \n",
    "Son todos los objetos (folders o documentos) o referencias que en conjunto conforman un contenedor de información llamado repositorio.\n",
    "\n",
    "__Línea de comandos de Git__\n",
    "\n",
    "Algunos de los comandos más utilizados en Git son los siguientes:\n",
    "\n",
    "* __git init:__ crea un nuevo repositorio.\n",
    "* __git add <nombre del archivo>:__ Agrega archivos al proyecto.\n",
    "* __git commit:__ Permite registrar un cambio en el proyecto teniendo la posibilidad de documentar porque el cambio fue realizado.\n",
    "* __git branch <nombre del branch>:__ Crea un branch. El branch es una manera de aislar el trabajo propio del de otros creando una nueva versión de ese repositorio.\n",
    "\n",
    "De manera adicinal hay muchos otros comandos que permiten tener más opciones de utilizar la herramienta de maneras diferentes obteniendo todo su potencial.\n",
    "\n",
    "__Conclusiones__\n",
    "\n",
    "Git y los sistemas de control de versiones son un imsprescindible para la gestión de cualquier proyecto por las prestaciones que otorga. A pesar de que es un sistema complejo el rango de funciones a utilizar suele ser el mismo, por lo que la adaptación es más sencilla de lo que a primera vista pueda parecer.\n",
    "\n",
    "__Recomendaciones__\n",
    "\n",
    "La principal recomendación es siempre tener un backup de los documentos o folders que se han subido o que se modifican en un sistema de control der versiones, especialmente cuando el usuario está en una fase de conocimiento inicial con estas herramientas ya que como se ha mencionado previamente Git puede llegar a comprometer el uso correcto por la complejidad intrínseca que posee.\n",
    "\n",
    "\n",
    "\n"
   ]
  }
 ],
 "metadata": {
  "interpreter": {
   "hash": "427133ded76929ffc07cfd6086002fc4ac763dcdc925ffb1bc8266322684c75a"
  },
  "kernelspec": {
   "display_name": "Python 3.9.7 ('UniversidadGalileo2022')",
   "language": "python",
   "name": "python3"
  },
  "language_info": {
   "codemirror_mode": {
    "name": "ipython",
    "version": 3
   },
   "file_extension": ".py",
   "mimetype": "text/x-python",
   "name": "python",
   "nbconvert_exporter": "python",
   "pygments_lexer": "ipython3",
   "version": "3.9.7"
  },
  "orig_nbformat": 4
 },
 "nbformat": 4,
 "nbformat_minor": 2
}
