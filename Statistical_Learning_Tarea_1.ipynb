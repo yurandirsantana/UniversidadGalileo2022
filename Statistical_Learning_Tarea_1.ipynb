{
  "metadata": {
    "language_info": {
      "name": "python",
      "version": "3.7.12",
      "mimetype": "text/x-python",
      "codemirror_mode": {
        "name": "ipython",
        "version": 3
      },
      "pygments_lexer": "ipython3",
      "nbconvert_exporter": "python",
      "file_extension": ".py"
    },
    "colab": {
      "name": "Statistical_Learning_Tarea_1.ipynb",
      "provenance": [],
      "collapsed_sections": [
        "VpsXXq_XEyqe",
        "Vz-v3BL2KTE_",
        "mesI3TFDKYHO",
        "N1gZS8oaY9lL",
        "L4HSm15DZ823",
        "judO0OlmaqCv",
        "_euCfNy6bWRq",
        "ZA8nH3_flApM",
        "ZcJKJPB-JWxT",
        "DMDN5-mKKEqH",
        "KdOwqg5pM9kZ",
        "eMqfpFDINnO3",
        "xiNAto13N8fh"
      ]
    },
    "kernelspec": {
      "name": "python3",
      "display_name": "Python 3 (ipykernel)",
      "language": "python"
    }
  },
  "nbformat_minor": 0,
  "nbformat": 4,
  "cells": [
    {
      "cell_type": "markdown",
      "source": [
        "# Statistical Learning - Tarea 1\n",
        "\n",
        "\n",
        "### Realizado por Yurandir Santa Maria Santana Sandoval"
      ],
      "metadata": {
        "id": "ZmJgN8Rn5S-H"
      }
    },
    {
      "cell_type": "markdown",
      "source": [
        "### Instrucciones"
      ],
      "metadata": {
        "id": "kKmxerfnN7GX"
      }
    },
    {
      "cell_type": "markdown",
      "source": [
        "El proyecto consiste en implementar gradient descent aplicado a regresión con base en el proyecto realizado en el cursos anterior de Ciencia de datos en Python, por lo que la primera parte será replicar dicho proyecto.\n",
        "\n"
      ],
      "metadata": {
        "id": "Lv_92R_q5S-J"
      }
    },
    {
      "cell_type": "code",
      "source": [
        "# En este paso se importan todas las librerías que van a ser de utilidad durante la elaboración del proyecto.\n",
        "\n",
        "\n",
        "import numpy as np\n",
        "import pandas as pd\n",
        "import matplotlib.pyplot as plt\n",
        "import sklearn as Sci\n",
        "import seaborn as sns"
      ],
      "metadata": {
        "id": "dXnTxCau5S-K"
      },
      "execution_count": 1,
      "outputs": []
    },
    {
      "cell_type": "code",
      "source": [
        "# Autorización de acceso de Google Colab a Google Drive\n",
        "\n",
        "from google.colab import drive\n",
        "drive.mount('/content/drive')"
      ],
      "metadata": {
        "colab": {
          "base_uri": "https://localhost:8080/"
        },
        "id": "vHxKlagz-wjR",
        "outputId": "29dc5d5e-5433-4682-9edc-96ffd15defba"
      },
      "execution_count": 2,
      "outputs": [
        {
          "output_type": "stream",
          "name": "stdout",
          "text": [
            "Mounted at /content/drive\n"
          ]
        }
      ]
    },
    {
      "cell_type": "code",
      "source": [
        "\"\"\"\n",
        "Carga del archivo que contiene los datos en formato binario de Numpy (.npy). \n",
        "\n",
        "Este archivo estaba guardado en el Google Drive asociado a mi cuenta, por lo que si alguien ajeno a mi desea compilar el código deberá modificar\n",
        "la ruta de acceso. El archivo origial está disponible para descarga en el repositorio del proyecto en mi cuenta de Github.\n",
        "\n",
        "\"\"\"\n",
        "\n",
        "Database = np.load(\"/content/drive/My Drive/training_data.npy\")"
      ],
      "metadata": {
        "id": "ItffcWFe_JiT"
      },
      "execution_count": 3,
      "outputs": []
    },
    {
      "cell_type": "markdown",
      "source": [
        "\n",
        "\n",
        "En este proyecto el 80% del dataset (rows) se usará para todo el proceso (análisis exploratorio, selección de variables a usar, crear modelos predictivos). A estos datos se les llamará \"datos de entrenamiento\"\n",
        "\n",
        "El 20% restante del dataset (rows) se usará para probar ,validar y evaluar los modelos resultantes. A estos datos se les llamará “datos de validación y pruebas”\n",
        "\n",
        "Este proyecto está basado en **La predicción de precios de casas** que suele ser utilizado como método de enseñanza de Python, por lo que las variables pueden ser definidas de las siguiente manera:\n",
        "\n",
        "**y** = El precio de venta real de cierta casa.\n",
        "\n",
        "**x** = Cierta característica de cierta casa.\n",
        "\n",
        "**yhat** = f(x) = Precio estimado o predicción del precio de venta para una casa con cierta característica x.\n",
        "\n",
        "**m** = pendiente de la recta que usamos para aproximar el precio de la casa yhat.\n",
        "\n",
        "**b** = intercepto de la recta que usamos para aproximar el precio de la casa yhat.\n",
        "\n",
        "\n"
      ],
      "metadata": {
        "id": "jbo1LafTAhpf"
      }
    },
    {
      "cell_type": "markdown",
      "source": [
        "### Slicing"
      ],
      "metadata": {
        "id": "rXqktJBvNi13"
      }
    },
    {
      "cell_type": "markdown",
      "source": [
        "\n",
        "* Entrenamiento - 80%.\n",
        "\n",
        "* Validación y Pruebas - 20%.\n",
        "\n",
        "\n",
        "**Atributos de database:**\n",
        "\n",
        "* SalePrice\n",
        "* overallQual\n",
        "* 1stFlrSF\n",
        "* TotRmsAbvGrd\n",
        "* YearBuilt\n",
        "* LotFrontage\n"
      ],
      "metadata": {
        "id": "50hHykjvN-V6"
      }
    },
    {
      "cell_type": "code",
      "source": [
        "lenght = len(Database)\n",
        "Trainlenght = int(lenght*0.8)\n",
        "\n",
        "train = np.nan_to_num(Database[:Trainlenght])\n",
        "test = Database[Trainlenght:]\n",
        "attribute_names = ['SalesPrice','OverallQual','FstFlrSF','TotRmsAbvGrd','YearBuilt','LotFrontage']\n",
        "\n",
        "Table1 = pd.DataFrame(train,columns=attribute_names)\n",
        "\n",
        "print(Table1)\n",
        "\n",
        "Ytrain = Database[:Trainlenght, 0]\n",
        "Xtrain = Database[:Trainlenght, 1]\n",
        "print(\"Entrenamiento: \", Ytrain.shape, Xtrain.shape)"
      ],
      "metadata": {
        "colab": {
          "base_uri": "https://localhost:8080/"
        },
        "id": "AtRH155qBKvM",
        "outputId": "1553c3b4-fc8c-4747-a47b-a6fcfeec9077"
      },
      "execution_count": 4,
      "outputs": [
        {
          "output_type": "stream",
          "name": "stdout",
          "text": [
            "      SalesPrice  OverallQual  FstFlrSF  TotRmsAbvGrd  YearBuilt  LotFrontage\n",
            "0       208500.0          7.0     856.0           8.0     2003.0         65.0\n",
            "1       181500.0          6.0    1262.0           6.0     1976.0         80.0\n",
            "2       223500.0          7.0     920.0           6.0     2001.0         68.0\n",
            "3       140000.0          7.0     961.0           7.0     1915.0         60.0\n",
            "4       250000.0          8.0    1145.0           9.0     2000.0         84.0\n",
            "...          ...          ...       ...           ...        ...          ...\n",
            "1163    108959.0          4.0    1258.0           6.0     1969.0         60.0\n",
            "1164    194000.0          5.0    1432.0           5.0     1978.0          0.0\n",
            "1165    233170.0          7.0    1502.0           7.0     2009.0         79.0\n",
            "1166    245350.0          8.0    1694.0           7.0     2008.0         64.0\n",
            "1167    173000.0          6.0     959.0           7.0     2000.0         58.0\n",
            "\n",
            "[1168 rows x 6 columns]\n",
            "Entrenamiento:  (1168,) (1168,)\n"
          ]
        }
      ]
    },
    {
      "cell_type": "markdown",
      "source": [
        "### Correlación Lineal"
      ],
      "metadata": {
        "id": "s_U4tkRxkoMP"
      }
    },
    {
      "cell_type": "markdown",
      "source": [
        "#### Coeficientes de correlación"
      ],
      "metadata": {
        "id": "ZA8nH3_flApM"
      }
    },
    {
      "cell_type": "code",
      "source": [
        "round(Table1.corr(method=\"pearson\"),2)"
      ],
      "metadata": {
        "colab": {
          "base_uri": "https://localhost:8080/"
        },
        "id": "X3o0hC72nbFR",
        "outputId": "3962ca5a-baa5-4a5c-8878-b2eae1ae9663"
      },
      "execution_count": null,
      "outputs": [
        {
          "output_type": "execute_result",
          "data": {
            "text/plain": [
              "              SalesPrice  OverallQual  FstFlrSF  TotRmsAbvGrd  YearBuilt  \\\n",
              "SalesPrice          1.00         0.79      0.62          0.56       0.53   \n",
              "OverallQual         0.79         1.00      0.47          0.44       0.57   \n",
              "FstFlrSF            0.62         0.47      1.00          0.41       0.29   \n",
              "TotRmsAbvGrd        0.56         0.44      0.41          1.00       0.12   \n",
              "YearBuilt           0.53         0.57      0.29          0.12       1.00   \n",
              "LotFrontage         0.23         0.17      0.23          0.21       0.03   \n",
              "\n",
              "              LotFrontage  \n",
              "SalesPrice           0.23  \n",
              "OverallQual          0.17  \n",
              "FstFlrSF             0.23  \n",
              "TotRmsAbvGrd         0.21  \n",
              "YearBuilt            0.03  \n",
              "LotFrontage          1.00  "
            ],
            "text/html": [
              "\n",
              "  <div id=\"df-7ca13adb-4ba3-4779-946d-91b7f0c7eefc\">\n",
              "    <div class=\"colab-df-container\">\n",
              "      <div>\n",
              "<style scoped>\n",
              "    .dataframe tbody tr th:only-of-type {\n",
              "        vertical-align: middle;\n",
              "    }\n",
              "\n",
              "    .dataframe tbody tr th {\n",
              "        vertical-align: top;\n",
              "    }\n",
              "\n",
              "    .dataframe thead th {\n",
              "        text-align: right;\n",
              "    }\n",
              "</style>\n",
              "<table border=\"1\" class=\"dataframe\">\n",
              "  <thead>\n",
              "    <tr style=\"text-align: right;\">\n",
              "      <th></th>\n",
              "      <th>SalesPrice</th>\n",
              "      <th>OverallQual</th>\n",
              "      <th>FstFlrSF</th>\n",
              "      <th>TotRmsAbvGrd</th>\n",
              "      <th>YearBuilt</th>\n",
              "      <th>LotFrontage</th>\n",
              "    </tr>\n",
              "  </thead>\n",
              "  <tbody>\n",
              "    <tr>\n",
              "      <th>SalesPrice</th>\n",
              "      <td>1.00</td>\n",
              "      <td>0.79</td>\n",
              "      <td>0.62</td>\n",
              "      <td>0.56</td>\n",
              "      <td>0.53</td>\n",
              "      <td>0.23</td>\n",
              "    </tr>\n",
              "    <tr>\n",
              "      <th>OverallQual</th>\n",
              "      <td>0.79</td>\n",
              "      <td>1.00</td>\n",
              "      <td>0.47</td>\n",
              "      <td>0.44</td>\n",
              "      <td>0.57</td>\n",
              "      <td>0.17</td>\n",
              "    </tr>\n",
              "    <tr>\n",
              "      <th>FstFlrSF</th>\n",
              "      <td>0.62</td>\n",
              "      <td>0.47</td>\n",
              "      <td>1.00</td>\n",
              "      <td>0.41</td>\n",
              "      <td>0.29</td>\n",
              "      <td>0.23</td>\n",
              "    </tr>\n",
              "    <tr>\n",
              "      <th>TotRmsAbvGrd</th>\n",
              "      <td>0.56</td>\n",
              "      <td>0.44</td>\n",
              "      <td>0.41</td>\n",
              "      <td>1.00</td>\n",
              "      <td>0.12</td>\n",
              "      <td>0.21</td>\n",
              "    </tr>\n",
              "    <tr>\n",
              "      <th>YearBuilt</th>\n",
              "      <td>0.53</td>\n",
              "      <td>0.57</td>\n",
              "      <td>0.29</td>\n",
              "      <td>0.12</td>\n",
              "      <td>1.00</td>\n",
              "      <td>0.03</td>\n",
              "    </tr>\n",
              "    <tr>\n",
              "      <th>LotFrontage</th>\n",
              "      <td>0.23</td>\n",
              "      <td>0.17</td>\n",
              "      <td>0.23</td>\n",
              "      <td>0.21</td>\n",
              "      <td>0.03</td>\n",
              "      <td>1.00</td>\n",
              "    </tr>\n",
              "  </tbody>\n",
              "</table>\n",
              "</div>\n",
              "      <button class=\"colab-df-convert\" onclick=\"convertToInteractive('df-7ca13adb-4ba3-4779-946d-91b7f0c7eefc')\"\n",
              "              title=\"Convert this dataframe to an interactive table.\"\n",
              "              style=\"display:none;\">\n",
              "        \n",
              "  <svg xmlns=\"http://www.w3.org/2000/svg\" height=\"24px\"viewBox=\"0 0 24 24\"\n",
              "       width=\"24px\">\n",
              "    <path d=\"M0 0h24v24H0V0z\" fill=\"none\"/>\n",
              "    <path d=\"M18.56 5.44l.94 2.06.94-2.06 2.06-.94-2.06-.94-.94-2.06-.94 2.06-2.06.94zm-11 1L8.5 8.5l.94-2.06 2.06-.94-2.06-.94L8.5 2.5l-.94 2.06-2.06.94zm10 10l.94 2.06.94-2.06 2.06-.94-2.06-.94-.94-2.06-.94 2.06-2.06.94z\"/><path d=\"M17.41 7.96l-1.37-1.37c-.4-.4-.92-.59-1.43-.59-.52 0-1.04.2-1.43.59L10.3 9.45l-7.72 7.72c-.78.78-.78 2.05 0 2.83L4 21.41c.39.39.9.59 1.41.59.51 0 1.02-.2 1.41-.59l7.78-7.78 2.81-2.81c.8-.78.8-2.07 0-2.86zM5.41 20L4 18.59l7.72-7.72 1.47 1.35L5.41 20z\"/>\n",
              "  </svg>\n",
              "      </button>\n",
              "      \n",
              "  <style>\n",
              "    .colab-df-container {\n",
              "      display:flex;\n",
              "      flex-wrap:wrap;\n",
              "      gap: 12px;\n",
              "    }\n",
              "\n",
              "    .colab-df-convert {\n",
              "      background-color: #E8F0FE;\n",
              "      border: none;\n",
              "      border-radius: 50%;\n",
              "      cursor: pointer;\n",
              "      display: none;\n",
              "      fill: #1967D2;\n",
              "      height: 32px;\n",
              "      padding: 0 0 0 0;\n",
              "      width: 32px;\n",
              "    }\n",
              "\n",
              "    .colab-df-convert:hover {\n",
              "      background-color: #E2EBFA;\n",
              "      box-shadow: 0px 1px 2px rgba(60, 64, 67, 0.3), 0px 1px 3px 1px rgba(60, 64, 67, 0.15);\n",
              "      fill: #174EA6;\n",
              "    }\n",
              "\n",
              "    [theme=dark] .colab-df-convert {\n",
              "      background-color: #3B4455;\n",
              "      fill: #D2E3FC;\n",
              "    }\n",
              "\n",
              "    [theme=dark] .colab-df-convert:hover {\n",
              "      background-color: #434B5C;\n",
              "      box-shadow: 0px 1px 3px 1px rgba(0, 0, 0, 0.15);\n",
              "      filter: drop-shadow(0px 1px 2px rgba(0, 0, 0, 0.3));\n",
              "      fill: #FFFFFF;\n",
              "    }\n",
              "  </style>\n",
              "\n",
              "      <script>\n",
              "        const buttonEl =\n",
              "          document.querySelector('#df-7ca13adb-4ba3-4779-946d-91b7f0c7eefc button.colab-df-convert');\n",
              "        buttonEl.style.display =\n",
              "          google.colab.kernel.accessAllowed ? 'block' : 'none';\n",
              "\n",
              "        async function convertToInteractive(key) {\n",
              "          const element = document.querySelector('#df-7ca13adb-4ba3-4779-946d-91b7f0c7eefc');\n",
              "          const dataTable =\n",
              "            await google.colab.kernel.invokeFunction('convertToInteractive',\n",
              "                                                     [key], {});\n",
              "          if (!dataTable) return;\n",
              "\n",
              "          const docLinkHtml = 'Like what you see? Visit the ' +\n",
              "            '<a target=\"_blank\" href=https://colab.research.google.com/notebooks/data_table.ipynb>data table notebook</a>'\n",
              "            + ' to learn more about interactive tables.';\n",
              "          element.innerHTML = '';\n",
              "          dataTable['output_type'] = 'display_data';\n",
              "          await google.colab.output.renderOutput(dataTable, element);\n",
              "          const docLink = document.createElement('div');\n",
              "          docLink.innerHTML = docLinkHtml;\n",
              "          element.appendChild(docLink);\n",
              "        }\n",
              "      </script>\n",
              "    </div>\n",
              "  </div>\n",
              "  "
            ]
          },
          "metadata": {},
          "execution_count": 19
        }
      ]
    },
    {
      "cell_type": "code",
      "source": [
        "plt.figure(figsize=(10, 8))\n",
        "sns.heatmap(round(Table1.corr(method=\"pearson\"),2), annot=True)\n",
        "plt.show()"
      ],
      "metadata": {
        "colab": {
          "base_uri": "https://localhost:8080/"
        },
        "id": "dkCSs4EJn9Bl",
        "outputId": "c51bdbd4-284b-4f4e-d55a-8ed998667f61"
      },
      "execution_count": null,
      "outputs": [
        {
          "output_type": "display_data",
          "data": {
            "text/plain": [
              "<Figure size 720x576 with 2 Axes>"
            ],
            "image/png": "[encoded data removed]"
          },
          "metadata": {
            "needs_background": "light"
          }
        }
      ]
    },
    {
      "cell_type": "markdown",
      "source": [
        "#### Elección de variables\n",
        "\n",
        "La variable que con base en las gráficas de dispersión y el coeficiente de relación que se relaciona de manera más directa con la variable X (SalesPrice) es **OverallQual**."
      ],
      "metadata": {
        "id": "Vf1spGeBOgZI"
      }
    },
    {
      "cell_type": "markdown",
      "source": [
        "#### Gráfica de correlación"
      ],
      "metadata": {
        "id": "KJT5l239p_zW"
      }
    },
    {
      "cell_type": "markdown",
      "source": [
        "#### Correlación entre Sales Price and Overall Qual\n",
        "\n",
        "**Coeficiente de correlación: 0.79** - La relación es positiva, por lo que podemos inferir que las variables se relacionan directamente al tener un coeficiente mayor a 0."
      ],
      "metadata": {
        "id": "ZcJKJPB-JWxT"
      }
    },
    {
      "cell_type": "code",
      "source": [
        "plt.title(\"Coeficiente de Correlación - Sales Price y OverallQual: \"+ str(round(Table1[\"OverallQual\"].corr(Table1['SalesPrice']),2)))\n",
        "\n",
        "plt.scatter(data = Table1, x = \"SalesPrice\", y =\"OverallQual\")\n",
        "\n",
        "plt.xlabel(\"SalesPrice\")\n",
        "plt.ylabel(\"OverallQual\")"
      ],
      "metadata": {
        "colab": {
          "base_uri": "https://localhost:8080/",
          "height": 312
        },
        "id": "34Xw3bghFHrB",
        "outputId": "a78adff9-3583-4b18-c0b3-74608b2b7600"
      },
      "execution_count": 59,
      "outputs": [
        {
          "output_type": "execute_result",
          "data": {
            "text/plain": [
              "Text(0, 0.5, 'OverallQual')"
            ]
          },
          "metadata": {},
          "execution_count": 59
        },
        {
          "output_type": "display_data",
          "data": {
            "text/plain": [
              "<Figure size 432x288 with 1 Axes>"
            ],
            "image/png": "[encoded data removed]"
          },
          "metadata": {
            "needs_background": "light"
          }
        }
      ]
    },
    {
      "cell_type": "markdown",
      "source": [
        "## Mini-batch gradient descent"
      ],
      "metadata": {
        "id": "v4tNhdUBupRn"
      }
    },
    {
      "cell_type": "code",
      "source": [
        "import tensorflow as tf\n",
        "\n",
        "print(tf.__version__)"
      ],
      "metadata": {
        "colab": {
          "base_uri": "https://localhost:8080/"
        },
        "id": "xqgPFsSJ3Uhm",
        "outputId": "36852f5c-3c5c-414e-dcf2-e07bc49f7c6b"
      },
      "execution_count": 61,
      "outputs": [
        {
          "output_type": "stream",
          "name": "stdout",
          "text": [
            "2.8.2\n"
          ]
        }
      ]
    },
    {
      "cell_type": "code",
      "source": [
        "pip install tensorflow --upgrade"
      ],
      "metadata": {
        "id": "ekwWjQ5z-z7C"
      },
      "execution_count": null,
      "outputs": []
    },
    {
      "cell_type": "code",
      "source": [
        "def h(m,b,x):\n",
        "\n",
        "  \"\"\"\n",
        "  Modelo/hipotesis\n",
        "  \n",
        "  \"\"\"\n",
        "\n",
        "  y = m*x + b\n",
        "\n",
        "  return y\n",
        "\n",
        "def costo(y_real,y_aprox):\n",
        "\n",
        "  \"\"\"\n",
        "  Funcion de costo/perdida/error\n",
        "\n",
        "  Aplicando en esta ocasión: mean squared error(MSE)\n",
        "\n",
        "  \"\"\"\n",
        "  return 1/2*tf.reduce_mean(tf.math.square(y_real - y_aprox) )"
      ],
      "metadata": {
        "id": "hu0QECFA5JI-"
      },
      "execution_count": 62,
      "outputs": []
    },
    {
      "cell_type": "code",
      "source": [
        "def ENTRModeloFinal(x, y, lr, epochs, batch_size):\n",
        "\n",
        "  # Parámetros entrenables:\n",
        "\n",
        "  m = tf.Variable(0.0)\n",
        "  b = tf.Variable(0.0)\n",
        "\n",
        "  #Almacenamiento del error de cada iteración:\n",
        "\n",
        "  errores = []\n",
        "\n",
        "  total_iteraciones = int(Trainlenght/batch_size)\n",
        "  for epoch in range(epochs):\n",
        "\n",
        "      # Numerosas iteraciones por epoch\n",
        "      \n",
        "      for i in range(total_iteraciones):\n",
        "        muestra_inicio = i*batch_size\n",
        "        muestra_fin = muestra_inicio + batch_size\n",
        "        x_mb =  np.array(Xtrain[muestra_inicio:muestra_fin]).reshape([-1,1])\n",
        "        y_mb = np.array(Ytrain[muestra_inicio:muestra_fin]).reshape([-1,1])\n",
        "\n",
        "        with tf.GradientTape() as grad_tape:\n",
        "\n",
        "          grad_tape.watch(b)\n",
        "          grad_tape.watch(m)\n",
        "\n",
        "          y_pred = h(m,b,x_mb)\n",
        "          error = costo(y_mb,y_pred)\n",
        "\n",
        "        # Cálculo del gradiente de la funcion de costo respecto de los parámetros:\n",
        "        \n",
        "        grad_m,grad_b = grad_tape.gradient(error,[m,b])\n",
        "\n",
        "        # Actualización de los parametros dando un paso en direccion contraria al gradiente:\n",
        "\n",
        "        m.assign(m - lr*grad_m)\n",
        "        b.assign(b - lr*grad_b)\n",
        "\n",
        "        # Almacenamiento o procesamiento de cualquier informacion relevante:\n",
        "\n",
        "        errores.append(error.numpy())\n",
        "    \n",
        "    \n",
        "        print(\"Iteración: {}, Error: {}\".format(i,error))\n",
        "        print(\"    Modelo:y={}x+{}\".format(m.numpy(),b.numpy()))\n",
        "\n",
        "  print(\"Modelo\")"
      ],
      "metadata": {
        "id": "f4n6EVhntKhB"
      },
      "execution_count": 94,
      "outputs": []
    },
    {
      "cell_type": "code",
      "source": [
        "plt.plot(Xtrain, Ytrain, 'ro', label ='Original data')\n",
        "plt.plot(Xtrain, y_pred, label ='Fitted line')\n",
        "plt.title('Linear Regression Result')\n",
        "plt.legend()\n",
        "plt.show()"
      ],
      "metadata": {
        "colab": {
          "base_uri": "https://localhost:8080/",
          "height": 281
        },
        "id": "N16xK-YMHGfP",
        "outputId": "adf5cb4f-66c5-4c0c-d897-e73b44986e4a"
      },
      "execution_count": 106,
      "outputs": [
        {
          "output_type": "display_data",
          "data": {
            "text/plain": [
              "<Figure size 432x288 with 1 Axes>"
            ],
            "image/png": "[encoded data removed]"
          },
          "metadata": {
            "needs_background": "light"
          }
        }
      ]
    },
    {
      "cell_type": "markdown",
      "source": [
        "## Hipótesis con base en la modificación de parámetros"
      ],
      "metadata": {
        "id": "Kmf8zwt6-5i4"
      }
    },
    {
      "cell_type": "markdown",
      "source": [
        "Se realizarán 10 experimentos realizando cambios en la variable de learning rate.\n",
        "\n",
        "*   1\n",
        "*   0.1\n",
        "*   0.01\n",
        "*   0.001\n",
        "*   0.0001\n",
        "\n",
        "La hipótesis planteada contempla que los valores grandes del learning rate perjudicarían los cálculos, especialmente del error al tener saltos muy grandes. El caso contrario se esperaría de los valores más pequeños que necesitarían muchas más iteraciones para reflejar un resultado significativo."
      ],
      "metadata": {
        "id": "lr8xnoKf_AjF"
      }
    },
    {
      "cell_type": "markdown",
      "source": [
        "### Learning Rate = 1"
      ],
      "metadata": {
        "id": "eCHMaRtXAt8Z"
      }
    },
    {
      "cell_type": "code",
      "source": [
        "ModeloFinal= ENTRModeloFinal(Xtrain, Ytrain, lr=1, epochs=5, batch_size=1168)"
      ],
      "metadata": {
        "colab": {
          "base_uri": "https://localhost:8080/"
        },
        "id": "M6JSn0_P4R_k",
        "outputId": "f2364a5e-c099-4efe-80e0-645c0de961f5"
      },
      "execution_count": 96,
      "outputs": [
        {
          "output_type": "stream",
          "name": "stdout",
          "text": [
            "Iteración: 0, Error: 19409719296.0\n",
            "    Modelo:y=1187947.625x+180590.28125\n",
            "Iteración: 0, Error: 27504106536960.0\n",
            "    Modelo:y=-45198240.0x+-7067110.5\n",
            "Iteración: 0, Error: 4.198736835746202e+16\n",
            "    Modelo:y=1767255296.0x+275936288.0\n",
            "Iteración: 0, Error: 6.41004987564572e+19\n",
            "    Modelo:y=-69049835520.0x+-10781892608.0\n",
            "Iteración: 0, Error: 9.785974312384855e+22\n",
            "    Modelo:y=2697951444992.0x+421275074560.0\n",
            "Modelo\n"
          ]
        }
      ]
    },
    {
      "cell_type": "markdown",
      "source": [
        "### Learning Rate = 0.1"
      ],
      "metadata": {
        "id": "bclbiPn6EAO7"
      }
    },
    {
      "cell_type": "code",
      "source": [
        "ModeloFinal= ENTRModeloFinal(Xtrain, Ytrain, lr=0.1, epochs=5, batch_size=1168)"
      ],
      "metadata": {
        "colab": {
          "base_uri": "https://localhost:8080/"
        },
        "id": "TTvSIqAGECv0",
        "outputId": "209db0e6-61c4-465c-d995-c011486b1b20"
      },
      "execution_count": 95,
      "outputs": [
        {
          "output_type": "stream",
          "name": "stdout",
          "text": [
            "Iteración: 0, Error: 19409719296.0\n",
            "    Modelo:y=118794.765625x+18059.029296875\n",
            "Iteración: 0, Error: 164311760896.0\n",
            "    Modelo:y=-238151.828125x+-38164.859375\n",
            "Iteración: 0, Error: 1474761326592.0\n",
            "    Modelo:y=835574.1875x+129007.75\n",
            "Iteración: 0, Error: 13325915127808.0\n",
            "    Modelo:y=-2393093.75x+-375620.09375\n",
            "Iteración: 0, Error: 120502555246592.0\n",
            "    Modelo:y=7316618.0x+1140034.0\n",
            "Modelo\n"
          ]
        }
      ]
    },
    {
      "cell_type": "markdown",
      "source": [
        "### Learning Rate = 0.01"
      ],
      "metadata": {
        "id": "1-SBahvIESY3"
      }
    },
    {
      "cell_type": "code",
      "source": [
        "ModeloFinal= ENTRModeloFinal(Xtrain, Ytrain, lr=0.01, epochs=5, batch_size=1168)"
      ],
      "metadata": {
        "colab": {
          "base_uri": "https://localhost:8080/"
        },
        "id": "4ufmOUA9EPVR",
        "outputId": "dc31fdf0-deac-41bf-ed6a-f44d93ca924f"
      },
      "execution_count": 97,
      "outputs": [
        {
          "output_type": "stream",
          "name": "stdout",
          "text": [
            "Iteración: 0, Error: 19409719296.0\n",
            "    Modelo:y=11879.4755859375x+1805.90283203125\n",
            "Iteración: 0, Error: 7864249856.0\n",
            "    Modelo:y=19001.5390625x+2868.9765625\n",
            "Iteración: 0, Error: 3717770752.0\n",
            "    Modelo:y=23272.6015625x+3486.900390625\n",
            "Iteración: 0, Error: 2228494336.0\n",
            "    Modelo:y=25835.130859375x+3838.06640625\n",
            "Iteración: 0, Error: 1693499904.0\n",
            "    Modelo:y=27373.779296875x+4029.380126953125\n",
            "Modelo\n"
          ]
        }
      ]
    },
    {
      "cell_type": "markdown",
      "source": [
        "### Learning Rate = 0.001"
      ],
      "metadata": {
        "id": "ToteOTn_EUfa"
      }
    },
    {
      "cell_type": "code",
      "source": [
        "ModeloFinal= ENTRModeloFinal(Xtrain, Ytrain, lr=0.001, epochs=5, batch_size=1168)"
      ],
      "metadata": {
        "colab": {
          "base_uri": "https://localhost:8080/"
        },
        "id": "opg5ZnzoEVqR",
        "outputId": "dff5a807-e0b1-4657-fb6e-ff4a94e34e1f"
      },
      "execution_count": 98,
      "outputs": [
        {
          "output_type": "stream",
          "name": "stdout",
          "text": [
            "Iteración: 0, Error: 19409719296.0\n",
            "    Modelo:y=11879.4755859375x+1805.90283203125\n",
            "Iteración: 0, Error: 7864249856.0\n",
            "    Modelo:y=19001.5390625x+2868.9765625\n",
            "Iteración: 0, Error: 3717770752.0\n",
            "    Modelo:y=23272.6015625x+3486.900390625\n",
            "Iteración: 0, Error: 2228494336.0\n",
            "    Modelo:y=25835.130859375x+3838.06640625\n",
            "Iteración: 0, Error: 1693499904.0\n",
            "    Modelo:y=27373.779296875x+4029.380126953125\n",
            "Modelo\n"
          ]
        }
      ]
    },
    {
      "cell_type": "markdown",
      "source": [
        "### Learning Rate = 0.0001"
      ],
      "metadata": {
        "id": "0L8CQP--EZ1A"
      }
    },
    {
      "cell_type": "code",
      "source": [
        "ModeloFinal= ENTRModeloFinal(Xtrain, Ytrain, lr=0.0001, epochs=5, batch_size=1168)"
      ],
      "metadata": {
        "colab": {
          "base_uri": "https://localhost:8080/"
        },
        "id": "41SrHfH7EcMh",
        "outputId": "8cb4b81d-f3c7-4a6a-d1ae-e3f0b753d8dd"
      },
      "execution_count": 104,
      "outputs": [
        {
          "output_type": "stream",
          "name": "stdout",
          "text": [
            "Iteración: 0, Error: 19409719296.0\n",
            "    Modelo:y=118.79476165771484x+18.05902671813965\n",
            "Iteración: 0, Error: 19265628160.0\n",
            "    Modelo:y=237.11378479003906x+36.04376983642578\n",
            "Iteración: 0, Error: 19122688000.0\n",
            "    Modelo:y=354.958984375x+53.95452880859375\n",
            "Iteración: 0, Error: 18980888576.0\n",
            "    Modelo:y=472.33221435546875x+71.7916030883789\n",
            "Iteración: 0, Error: 18840223744.0\n",
            "    Modelo:y=589.2354125976562x+89.55528259277344\n",
            "Modelo\n"
          ]
        }
      ]
    },
    {
      "cell_type": "markdown",
      "source": [
        "## Conclusiones"
      ],
      "metadata": {
        "id": "WBCR2GsHFBcw"
      }
    },
    {
      "cell_type": "markdown",
      "source": [
        "La evidencia de los cálculos de la función **Y = Mx + b** indican que según el valor del learning rate fue disminuyendo los valores fueron convergiendo de una mejor manera, pero sin representar grandes avances."
      ],
      "metadata": {
        "id": "_kyzz6bFFDaC"
      }
    }
  ]
}