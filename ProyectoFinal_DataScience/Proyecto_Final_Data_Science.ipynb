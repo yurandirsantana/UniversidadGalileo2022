{
  "cells": [
    {
      "cell_type": "markdown",
      "metadata": {
        "id": "ZmJgN8Rn5S-H"
      },
      "source": [
        "# Proyecto del curso de Ciencia de datos en Python\n",
        "\n",
        "\n",
        "### Realizado por Yurandir Santa Maria Santana Sandoval"
      ]
    },
    {
      "cell_type": "markdown",
      "source": [
        "### Instrucciones"
      ],
      "metadata": {
        "id": "kKmxerfnN7GX"
      }
    },
    {
      "cell_type": "markdown",
      "metadata": {
        "id": "Lv_92R_q5S-J"
      },
      "source": [
        "El proyecto consiste en aplicar los conocimientos aprendidos en clase (y apoyandose de referencias adicionales utiles) para crear modelos predictivos de regresion lineal uni-variable sencillos de la forma:\n",
        "\n",
        "__y = f(x) =  mx +b__\n",
        "\n",
        "Donde:\n",
        "\n",
        "y = la variable dependiente\n",
        "\n",
        "\n",
        "x = variable independiente  \n",
        "\n",
        "\n",
        "m = pendiente de la recta(parametro del modelo)  \n",
        "\n",
        "\n",
        "b = intercepto(parametro del modelo)  "
      ]
    },
    {
      "cell_type": "code",
      "execution_count": 3,
      "metadata": {
        "id": "dXnTxCau5S-K"
      },
      "outputs": [],
      "source": [
        "# En este paso se importan todas las librerías que van a ser de utilidad durante la elaboración del proyecto.\n",
        "\n",
        "\n",
        "import numpy as np\n",
        "import pandas as pd\n",
        "import matplotlib.pyplot as plt\n",
        "import sklearn as Sci\n",
        "import seaborn as sns"
      ]
    },
    {
      "cell_type": "code",
      "source": [
        "# Autorización de acceso de Google Colab a Google Drive\n",
        "\n",
        "from google.colab import drive\n",
        "drive.mount('/content/drive')"
      ],
      "metadata": {
        "colab": {
          "base_uri": "https://localhost:8080/"
        },
        "id": "vHxKlagz-wjR",
        "outputId": "1add7c12-595e-47e0-feb4-3779f1eafd4d"
      },
      "execution_count": 4,
      "outputs": [
        {
          "output_type": "stream",
          "name": "stdout",
          "text": [
            "Drive already mounted at /content/drive; to attempt to forcibly remount, call drive.mount(\"/content/drive\", force_remount=True).\n"
          ]
        }
      ]
    },
    {
      "cell_type": "code",
      "source": [
        "\"\"\"\n",
        "Carga del archivo que contiene los datos en formato binario de Numpy (.npy). \n",
        "\n",
        "Este archivo estaba guardado en el Google Drive asociado a mi cuenta, por lo que si alguien ajeno a mi desea compilar el código deberá modificar\n",
        "la ruta de acceso. El archivo origial está disponible para descarga en el repositorio del proyecto en mi cuenta de Github.\n",
        "\n",
        "\"\"\"\n",
        "\n",
        "Database = np.load('/content/drive/MyDrive/proyecto_training_data.npy')"
      ],
      "metadata": {
        "id": "ItffcWFe_JiT"
      },
      "execution_count": 5,
      "outputs": []
    },
    {
      "cell_type": "markdown",
      "source": [
        "\n",
        "\n",
        "En este proyecto el 80% del dataset (rows) se usará para todo el proceso (análisis exploratorio, selección de variables a usar, crear modelos predictivos). A estos datos se les llamará \"datos de entrenamiento\"\n",
        "\n",
        "El 20% restante del dataset (rows) se usará para probar ,validar y evaluar los modelos resultantes. A estos datos se les llamará “datos de validación y pruebas”\n",
        "\n",
        "Este proyecto está basado en **La predicción de precios de casas** que suele ser utilizado como método de enseñanza de Python, por lo que las variables pueden ser definidas de las siguiente manera:\n",
        "\n",
        "**y** = El precio de venta real de cierta casa.\n",
        "\n",
        "**x** = Cierta característica de cierta casa.\n",
        "\n",
        "**yhat** = f(x) = Precio estimado o predicción del precio de venta para una casa con cierta característica x.\n",
        "\n",
        "**m** = pendiente de la recta que usamos para aproximar el precio de la casa yhat.\n",
        "\n",
        "**b** = intercepto de la recta que usamos para aproximar el precio de la casa yhat.\n",
        "\n",
        "\n"
      ],
      "metadata": {
        "id": "jbo1LafTAhpf"
      }
    },
    {
      "cell_type": "markdown",
      "source": [
        "### Slicing"
      ],
      "metadata": {
        "id": "rXqktJBvNi13"
      }
    },
    {
      "cell_type": "markdown",
      "source": [
        "\n",
        "* Entrenamiento - 80%.\n",
        "\n",
        "* Validación y Pruebas - 20%.\n",
        "\n",
        "\n",
        "**Atributos de database:**\n",
        "\n",
        "* SalePrice\n",
        "* overallQual\n",
        "* 1stFlrSF\n",
        "* TotRmsAbvGrd\n",
        "* YearBuilt\n",
        "* LotFrontage\n"
      ],
      "metadata": {
        "id": "50hHykjvN-V6"
      }
    },
    {
      "cell_type": "code",
      "source": [
        "lenght = len(Database)\n",
        "Trainlenght = int(lenght*0.8)\n",
        "\n",
        "train = np.nan_to_num(Database[:Trainlenght])\n",
        "test = Database[Trainlenght:]\n",
        "attribute_names = ['SalesPrice','OverallQual','FstFlrSF','TotRmsAbvGrd','YearBuilt','LotFrontage']\n",
        "\n",
        "Table1 = pd.DataFrame(train,columns=attribute_names)\n",
        "\n",
        "print(Table1)"
      ],
      "metadata": {
        "colab": {
          "base_uri": "https://localhost:8080/"
        },
        "id": "AtRH155qBKvM",
        "outputId": "87229b94-5f4c-427e-967c-91822bdc31a4"
      },
      "execution_count": 6,
      "outputs": [
        {
          "output_type": "stream",
          "name": "stdout",
          "text": [
            "      SalesPrice  OverallQual  FstFlrSF  TotRmsAbvGrd  YearBuilt  LotFrontage\n",
            "0       208500.0          7.0     856.0           8.0     2003.0         65.0\n",
            "1       181500.0          6.0    1262.0           6.0     1976.0         80.0\n",
            "2       223500.0          7.0     920.0           6.0     2001.0         68.0\n",
            "3       140000.0          7.0     961.0           7.0     1915.0         60.0\n",
            "4       250000.0          8.0    1145.0           9.0     2000.0         84.0\n",
            "...          ...          ...       ...           ...        ...          ...\n",
            "1163    108959.0          4.0    1258.0           6.0     1969.0         60.0\n",
            "1164    194000.0          5.0    1432.0           5.0     1978.0          0.0\n",
            "1165    233170.0          7.0    1502.0           7.0     2009.0         79.0\n",
            "1166    245350.0          8.0    1694.0           7.0     2008.0         64.0\n",
            "1167    173000.0          6.0     959.0           7.0     2000.0         58.0\n",
            "\n",
            "[1168 rows x 6 columns]\n"
          ]
        }
      ]
    },
    {
      "cell_type": "markdown",
      "source": [
        "### Estadística Descriptiva"
      ],
      "metadata": {
        "id": "VpsXXq_XEyqe"
      }
    },
    {
      "cell_type": "markdown",
      "source": [
        "#### Sales Price\n",
        "\n",
        "El precio de venta de la propiedad en dólares."
      ],
      "metadata": {
        "id": "Vz-v3BL2KTE_"
      }
    },
    {
      "cell_type": "code",
      "source": [
        "# SALES PRICE - Media, valor máximo, valor mínimo, Rango y desviación estándar.\n",
        "\n",
        "print(\"\\nMedia de Sales Price\")\n",
        "mSalesPrice = round(Table1['SalesPrice'].mean(),2)\n",
        "print(mSalesPrice)\n",
        "\n",
        "print(\"\\nValor Máximo de Sales Price\")\n",
        "MaxSalesPrice = round(Table1['SalesPrice'].max(),2)\n",
        "print(MaxSalesPrice)\n",
        "\n",
        "print(\"\\nValor Mínimo de Sales Price\")\n",
        "MinSalesPrice = round(Table1['SalesPrice'].min(),2)\n",
        "print(MinSalesPrice)\n",
        "\n",
        "print(\"\\nRango de Sales Price\")\n",
        "RangoSalesPrice = round(MaxSalesPrice - MinSalesPrice,2)\n",
        "print(RangoSalesPrice)\n",
        "\n",
        "print(\"\\nDesviación Estándar de Sales Price\")\n",
        "StdSalesPrice = round(Table1['SalesPrice'].std(),2)\n",
        "print(StdSalesPrice)"
      ],
      "metadata": {
        "colab": {
          "base_uri": "https://localhost:8080/"
        },
        "id": "6IMEaYxjFRmY",
        "outputId": "092e71d3-9271-4e02-e5a3-7535bca92132"
      },
      "execution_count": 7,
      "outputs": [
        {
          "output_type": "stream",
          "name": "stdout",
          "text": [
            "\n",
            "Media de Sales Price\n",
            "180590.28\n",
            "\n",
            "Valor Máximo de Sales Price\n",
            "755000.0\n",
            "\n",
            "Valor Mínimo de Sales Price\n",
            "34900.0\n",
            "\n",
            "Rango de Sales Price\n",
            "720100.0\n",
            "\n",
            "Desviación Estándar de Sales Price\n",
            "78815.7\n"
          ]
        }
      ]
    },
    {
      "cell_type": "code",
      "source": [
        "sns.histplot(data = Table1 , x = 'SalesPrice', color = 'navy', kde = True)"
      ],
      "metadata": {
        "colab": {
          "base_uri": "https://localhost:8080/",
          "height": 296
        },
        "id": "Wmi5cKjqiC5i",
        "outputId": "110a403d-e760-4f73-c61e-725a861e2160"
      },
      "execution_count": 8,
      "outputs": [
        {
          "output_type": "execute_result",
          "data": {
            "text/plain": [
              "<matplotlib.axes._subplots.AxesSubplot at 0x7fcdd8815110>"
            ]
          },
          "metadata": {},
          "execution_count": 8
        },
        {
          "output_type": "display_data",
          "data": {
            "text/plain": [
              "<Figure size 432x288 with 1 Axes>"
            ],
            "image/png": "[encoded data removed]"
          },
          "metadata": {
            "needs_background": "light"
          }
        }
      ]
    },
    {
      "cell_type": "markdown",
      "source": [
        "#### Overral Qual\n",
        "\n",
        "Calidad general del material y acabado, califica el material general y el acabado de la casa. La califación se define con uno de los números de la siguiente lista que mejor identifiquen a la casa con base en el resultado:\n",
        "\n",
        "\n",
        "1. Very Poor\n",
        "2. Poor\n",
        "3. Fair\n",
        "4. Below Average\n",
        "5. Average\n",
        "6. Above Average\n",
        "7. Good\n",
        "8. Very good\n",
        "9. Excellent\n",
        "10. Very Excellent\n",
        "\n"
      ],
      "metadata": {
        "id": "mesI3TFDKYHO"
      }
    },
    {
      "cell_type": "code",
      "source": [
        "# Overral Qual - Media, valor máximo, valor mínimo, Rango y desviación estándar.\n",
        "\n",
        "print(\"\\nMedia de Overral Qual\")\n",
        "mOverallQual = round(Table1['OverallQual'].mean(),2)\n",
        "print(mOverallQual)\n",
        "\n",
        "print(\"\\nValor Máximo de Overral Qual\")\n",
        "MaxOverallQual = round(Table1['OverallQual'].max(),2)\n",
        "print(MaxOverallQual)\n",
        "\n",
        "print(\"\\nValor Mínimo de Overral Qual\")\n",
        "MinOverallQual = round(Table1['OverallQual'].min(),2)\n",
        "print(MinOverallQual)\n",
        "\n",
        "print(\"\\nRango de Overral Qual\")\n",
        "RangoOverallQual = round(MaxOverallQual - MinOverallQual,2)\n",
        "print(RangoOverallQual)\n",
        "\n",
        "print(\"\\nDesviación Estándar de Overral Qual\")\n",
        "StdOverallQual = round(Table1['OverallQual'].std(),2)\n",
        "print(StdOverallQual)"
      ],
      "metadata": {
        "colab": {
          "base_uri": "https://localhost:8080/"
        },
        "id": "Ul9GcNK7Lalw",
        "outputId": "af9ca58e-83a6-4f4d-ddc9-4ac0221d36a3"
      },
      "execution_count": 9,
      "outputs": [
        {
          "output_type": "stream",
          "name": "stdout",
          "text": [
            "\n",
            "Media de Overral Qual\n",
            "6.1\n",
            "\n",
            "Valor Máximo de Overral Qual\n",
            "10.0\n",
            "\n",
            "Valor Mínimo de Overral Qual\n",
            "1.0\n",
            "\n",
            "Rango de Overral Qual\n",
            "9.0\n",
            "\n",
            "Desviación Estándar de Overral Qual\n",
            "1.38\n"
          ]
        }
      ]
    },
    {
      "cell_type": "code",
      "source": [
        "sns.histplot(data = Table1 , x = 'OverallQual', color = 'navy', kde = True , binwidth = 1)"
      ],
      "metadata": {
        "colab": {
          "base_uri": "https://localhost:8080/",
          "height": 298
        },
        "id": "5oLSdGK9h6Jl",
        "outputId": "c134b95c-aec3-4039-edcc-755b58686d74"
      },
      "execution_count": 10,
      "outputs": [
        {
          "output_type": "execute_result",
          "data": {
            "text/plain": [
              "<matplotlib.axes._subplots.AxesSubplot at 0x7ff0da5a38d0>"
            ]
          },
          "metadata": {},
          "execution_count": 10
        },
        {
          "output_type": "display_data",
          "data": {
            "text/plain": [
              "<Figure size 432x288 with 1 Axes>"
            ],
            "image/png": "[encoded data removed]"
          },
          "metadata": {
            "needs_background": "light"
          }
        }
      ]
    },
    {
      "cell_type": "markdown",
      "source": [
        "#### 1stFlrSF - First Floor square feet\n",
        "\n",
        "Área del primer piso en pies cuadrados."
      ],
      "metadata": {
        "id": "N1gZS8oaY9lL"
      }
    },
    {
      "cell_type": "code",
      "source": [
        "# 1stFlrSF - Media, valor máximo, valor mínimo, Rango y desviación estándar.\n",
        "\n",
        "print(\"\\nMedia de FstFlrSF\")\n",
        "mFstFlrSF = round(Table1['FstFlrSF'].mean(),2)\n",
        "print(mFstFlrSF)\n",
        "\n",
        "print(\"\\nValor Máximo de FstFlrSF\")\n",
        "MaxFstFlrSF = round(Table1['FstFlrSF'].max(),2)\n",
        "print(MaxFstFlrSF)\n",
        "\n",
        "print(\"\\nValor Mínimo de FstFlrSF\")\n",
        "MinFstFlrSF = round(Table1['FstFlrSF'].min(),2)\n",
        "print(MinFstFlrSF)\n",
        "\n",
        "print(\"\\nRango de FstFlrSF\")\n",
        "RangoFstFlrSF = round(MaxFstFlrSF - MinFstFlrSF,2)\n",
        "print(RangoFstFlrSF)\n",
        "\n",
        "print(\"\\nDesviación Estándar de FstFlrSF\")\n",
        "StdFstFlrSF = round(Table1['FstFlrSF'].std(),2)\n",
        "print(StdFstFlrSF)"
      ],
      "metadata": {
        "colab": {
          "base_uri": "https://localhost:8080/"
        },
        "id": "OYbPE1UtZUe4",
        "outputId": "68f0d9ea-1ba0-43a4-cdb5-5ec5998335d7"
      },
      "execution_count": 11,
      "outputs": [
        {
          "output_type": "stream",
          "name": "stdout",
          "text": [
            "\n",
            "Media de FstFlrSF\n",
            "1156.32\n",
            "\n",
            "Valor Máximo de FstFlrSF\n",
            "3228.0\n",
            "\n",
            "Valor Mínimo de FstFlrSF\n",
            "334.0\n",
            "\n",
            "Rango de FstFlrSF\n",
            "2894.0\n",
            "\n",
            "Desviación Estándar de FstFlrSF\n",
            "373.78\n"
          ]
        }
      ]
    },
    {
      "cell_type": "code",
      "source": [
        "sns.histplot(data = Table1 , x = 'FstFlrSF', color = 'navy', kde = True , binwidth = 15)"
      ],
      "metadata": {
        "colab": {
          "base_uri": "https://localhost:8080/",
          "height": 296
        },
        "id": "3e0QHcnLhrMR",
        "outputId": "4f804ae6-c0b1-4b3c-a83e-03edbda6dc2b"
      },
      "execution_count": 12,
      "outputs": [
        {
          "output_type": "execute_result",
          "data": {
            "text/plain": [
              "<matplotlib.axes._subplots.AxesSubplot at 0x7ff0da106290>"
            ]
          },
          "metadata": {},
          "execution_count": 12
        },
        {
          "output_type": "display_data",
          "data": {
            "text/plain": [
              "<Figure size 432x288 with 1 Axes>"
            ],
            "image/png": "[encoded data removed]"
          },
          "metadata": {
            "needs_background": "light"
          }
        }
      ]
    },
    {
      "cell_type": "markdown",
      "source": [
        "#### TotRmsAbvGrd\n",
        "\n",
        "Total de habitaciones por encima de grado exceptuando baños."
      ],
      "metadata": {
        "id": "L4HSm15DZ823"
      }
    },
    {
      "cell_type": "code",
      "source": [
        "# TotRmsAbvGrd - Media, valor máximo, valor mínimo, Rango y desviación estándar.\n",
        "\n",
        "print(\"\\nMedia de TotRmsAbvGrd\")\n",
        "mTotRmsAbvGrd = round(Table1['TotRmsAbvGrd'].mean(),2)\n",
        "print(mTotRmsAbvGrd)\n",
        "\n",
        "print(\"\\nValor Máximo de TotRmsAbvGrd\")\n",
        "MaxTotRmsAbvGrd = round(Table1['TotRmsAbvGrd'].max(),2)\n",
        "print(MaxTotRmsAbvGrd)\n",
        "\n",
        "print(\"\\nValor Mínimo de TotRmsAbvGrd\")\n",
        "MinTotRmsAbvGrd = round(Table1['TotRmsAbvGrd'].min(),2)\n",
        "print(MinTotRmsAbvGrd)\n",
        "\n",
        "print(\"\\nRango de FstFlrSF\")\n",
        "RangoTotRmsAbvGrd = round(MaxTotRmsAbvGrd - MinTotRmsAbvGrd,2)\n",
        "print(RangoTotRmsAbvGrd)\n",
        "\n",
        "print(\"\\nDesviación Estándar de TotRmsAbvGrd\")\n",
        "StdTotRmsAbvGrd = round(Table1['TotRmsAbvGrd'].std(),2)\n",
        "print(StdTotRmsAbvGrd)"
      ],
      "metadata": {
        "colab": {
          "base_uri": "https://localhost:8080/"
        },
        "id": "ePOt_QkuaNsN",
        "outputId": "9e75262b-3036-4abf-97d7-10f9d3f49c41"
      },
      "execution_count": 13,
      "outputs": [
        {
          "output_type": "stream",
          "name": "stdout",
          "text": [
            "\n",
            "Media de TotRmsAbvGrd\n",
            "6.49\n",
            "\n",
            "Valor Máximo de TotRmsAbvGrd\n",
            "14.0\n",
            "\n",
            "Valor Mínimo de TotRmsAbvGrd\n",
            "2.0\n",
            "\n",
            "Rango de FstFlrSF\n",
            "12.0\n",
            "\n",
            "Desviación Estándar de TotRmsAbvGrd\n",
            "1.61\n"
          ]
        }
      ]
    },
    {
      "cell_type": "code",
      "source": [
        "sns.histplot(data = Table1 , x = 'TotRmsAbvGrd', color = 'navy', kde = True , binwidth = 1)"
      ],
      "metadata": {
        "colab": {
          "base_uri": "https://localhost:8080/",
          "height": 296
        },
        "id": "2UTAs8jQheTQ",
        "outputId": "28ae9dde-03e3-4d40-f572-f0af76afc0c7"
      },
      "execution_count": 14,
      "outputs": [
        {
          "output_type": "execute_result",
          "data": {
            "text/plain": [
              "<matplotlib.axes._subplots.AxesSubplot at 0x7ff0d9de4450>"
            ]
          },
          "metadata": {},
          "execution_count": 14
        },
        {
          "output_type": "display_data",
          "data": {
            "text/plain": [
              "<Figure size 432x288 with 1 Axes>"
            ],
            "image/png": "[encoded data removed]"
          },
          "metadata": {
            "needs_background": "light"
          }
        }
      ]
    },
    {
      "cell_type": "markdown",
      "source": [
        "#### YearBuilt\n",
        "\n",
        "Fecha original de construcción."
      ],
      "metadata": {
        "id": "judO0OlmaqCv"
      }
    },
    {
      "cell_type": "code",
      "source": [
        "# YearBuilt - Media, valor máximo, valor mínimo, Rango y desviación estándar.\n",
        "\n",
        "print(\"\\nMedia de YearBuilt\")\n",
        "mYearBuilt = round(Table1['YearBuilt'].mean(),2)\n",
        "print(mYearBuilt)\n",
        "\n",
        "print(\"\\nValor Máximo de YearBuilt\")\n",
        "MaxYearBuilt = round(Table1['YearBuilt'].max(),2)\n",
        "print(MaxYearBuilt)\n",
        "\n",
        "print(\"\\nValor Mínimo de YearBuilt\")\n",
        "MinYearBuilt = round(Table1['YearBuilt'].min(),2)\n",
        "print(MinYearBuilt)\n",
        "\n",
        "print(\"\\nRango de YearBuilt\")\n",
        "RangoYearBuilt = round(MaxYearBuilt - MinYearBuilt,2)\n",
        "print(RangoYearBuilt)\n",
        "\n",
        "print(\"\\nDesviación Estándar de YearBuilt\")\n",
        "StdYearBuilt = round(Table1['YearBuilt'].std(),2)\n",
        "print(StdYearBuilt)"
      ],
      "metadata": {
        "colab": {
          "base_uri": "https://localhost:8080/"
        },
        "id": "ZJay_BUaa5d1",
        "outputId": "543e6219-fdfc-4be8-d1a1-072021c5449a"
      },
      "execution_count": 15,
      "outputs": [
        {
          "output_type": "stream",
          "name": "stdout",
          "text": [
            "\n",
            "Media de YearBuilt\n",
            "1971.45\n",
            "\n",
            "Valor Máximo de YearBuilt\n",
            "2010.0\n",
            "\n",
            "Valor Mínimo de YearBuilt\n",
            "1875.0\n",
            "\n",
            "Rango de YearBuilt\n",
            "135.0\n",
            "\n",
            "Desviación Estándar de YearBuilt\n",
            "29.95\n"
          ]
        }
      ]
    },
    {
      "cell_type": "code",
      "source": [
        "sns.histplot(data = Table1 , x = 'YearBuilt', color = 'navy', kde = True , binwidth = 12)"
      ],
      "metadata": {
        "colab": {
          "base_uri": "https://localhost:8080/",
          "height": 296
        },
        "id": "Nl0ML5hIhG1_",
        "outputId": "19b1da53-da27-4589-bd69-32215faa3349"
      },
      "execution_count": 16,
      "outputs": [
        {
          "output_type": "execute_result",
          "data": {
            "text/plain": [
              "<matplotlib.axes._subplots.AxesSubplot at 0x7ff0d9d62810>"
            ]
          },
          "metadata": {},
          "execution_count": 16
        },
        {
          "output_type": "display_data",
          "data": {
            "text/plain": [
              "<Figure size 432x288 with 1 Axes>"
            ],
            "image/png": "[encoded data removed]"
          },
          "metadata": {
            "needs_background": "light"
          }
        }
      ]
    },
    {
      "cell_type": "markdown",
      "source": [
        "#### LotFrontage\n",
        "\n",
        "Pies lineales de calle conectados a la propiedad."
      ],
      "metadata": {
        "id": "_euCfNy6bWRq"
      }
    },
    {
      "cell_type": "code",
      "source": [
        "# LotFrontage - Media, valor máximo, valor mínimo, Rango y desviación estándar.\n",
        "\n",
        "print(\"\\nMedia de LotFrontage\")\n",
        "mLotFrontage = round(Table1['LotFrontage'].mean(),2)\n",
        "print(mLotFrontage)\n",
        "\n",
        "print(\"\\nValor Máximo de LotFrontage\")\n",
        "MaxLotFrontage = round(Table1['LotFrontage'].max(),2)\n",
        "print(MaxLotFrontage)\n",
        "\n",
        "print(\"\\nValor Mínimo de LotFrontage\")\n",
        "MinLotFrontage = round(Table1['LotFrontage'].min(),2)\n",
        "print(MinLotFrontage)\n",
        "\n",
        "print(\"\\nRango de LotFrontage\")\n",
        "RangoLotFrontage = round(MaxLotFrontage - MinLotFrontage,2)\n",
        "print(RangoLotFrontage)\n",
        "\n",
        "print(\"\\nDesviación Estándar de LotFrontage\")\n",
        "StdLotFrontage = round(Table1['LotFrontage'].std(),2)\n",
        "print(StdLotFrontage)"
      ],
      "metadata": {
        "colab": {
          "base_uri": "https://localhost:8080/"
        },
        "id": "sP3uH1QJbeS9",
        "outputId": "97c8d5af-a653-4710-ff5b-7a925a2b085f"
      },
      "execution_count": 17,
      "outputs": [
        {
          "output_type": "stream",
          "name": "stdout",
          "text": [
            "\n",
            "Media de LotFrontage\n",
            "57.61\n",
            "\n",
            "Valor Máximo de LotFrontage\n",
            "313.0\n",
            "\n",
            "Valor Mínimo de LotFrontage\n",
            "0.0\n",
            "\n",
            "Rango de LotFrontage\n",
            "313.0\n",
            "\n",
            "Desviación Estándar de LotFrontage\n",
            "34.14\n"
          ]
        }
      ]
    },
    {
      "cell_type": "code",
      "source": [
        "sns.histplot(data = Table1 , x = 'LotFrontage', color = 'navy', kde = True , binwidth = 30)"
      ],
      "metadata": {
        "colab": {
          "base_uri": "https://localhost:8080/",
          "height": 299
        },
        "id": "f-c9MWLJdCNZ",
        "outputId": "6589258e-7e26-4f7f-efcd-9f84b73b0a41"
      },
      "execution_count": 18,
      "outputs": [
        {
          "output_type": "execute_result",
          "data": {
            "text/plain": [
              "<matplotlib.axes._subplots.AxesSubplot at 0x7ff0d9cfd190>"
            ]
          },
          "metadata": {},
          "execution_count": 18
        },
        {
          "output_type": "display_data",
          "data": {
            "text/plain": [
              "<Figure size 432x288 with 1 Axes>"
            ],
            "image/png": "[encoded data removed]"
          },
          "metadata": {
            "needs_background": "light"
          }
        }
      ]
    }
  ],
  "metadata": {
    "language_info": {
      "name": "python"
    },
    "orig_nbformat": 4,
    "colab": {
      "name": "Proyecto Final - Data Science.ipynb",
      "provenance": [],
      "collapsed_sections": []
    },
    "kernelspec": {
      "name": "python3",
      "display_name": "Python 3"
    }
  },
  "nbformat": 4,
  "nbformat_minor": 0
}