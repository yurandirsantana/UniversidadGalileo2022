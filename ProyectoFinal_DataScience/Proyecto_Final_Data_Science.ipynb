{
  "cells": [
    {
      "cell_type": "markdown",
      "metadata": {
        "id": "ZmJgN8Rn5S-H"
      },
      "source": [
        "# Proyecto del curso de Ciencia de datos en Python\n",
        "\n",
        "\n",
        "### Realizado por Yurandir Santa Maria Santana Sandoval"
      ]
    },
    {
      "cell_type": "markdown",
      "metadata": {
        "id": "Lv_92R_q5S-J"
      },
      "source": [
        "### Instrucciones\n",
        "\n",
        "\n",
        "El proyecto consiste en aplicar los conocimientos aprendidos en clase (y apoyandose de referencias adicionales utiles) para crear modelos predictivos de regresion lineal uni-variable sencillos de la forma:\n",
        "\n",
        "__y = f(x) =  mx +b__\n",
        "\n",
        "Donde:\n",
        "\n",
        "y = la variable dependiente\n",
        "\n",
        "\n",
        "x = variable independiente  \n",
        "\n",
        "\n",
        "m = pendiente de la recta(parametro del modelo)  \n",
        "\n",
        "\n",
        "b = intercepto(parametro del modelo)  "
      ]
    },
    {
      "cell_type": "code",
      "execution_count": 19,
      "metadata": {
        "id": "dXnTxCau5S-K"
      },
      "outputs": [],
      "source": [
        "# En este paso se importan todas las librerías que van a ser de utilidad durante la elaboración del proyecto.\n",
        "\n",
        "\n",
        "import numpy as np\n",
        "import pandas as pd\n",
        "import matplotlib.pyplot as plt\n",
        "import sklearn as Sci\n",
        "import seaborn as sns"
      ]
    },
    {
      "cell_type": "code",
      "source": [
        "# Autorización de acceso de Google Colab a Google Drive\n",
        "\n",
        "from google.colab import drive\n",
        "drive.mount('/content/drive')"
      ],
      "metadata": {
        "colab": {
          "base_uri": "https://localhost:8080/"
        },
        "id": "vHxKlagz-wjR",
        "outputId": "9b6568bc-3ee4-4028-a33c-cf1dfbddc14a"
      },
      "execution_count": 24,
      "outputs": [
        {
          "output_type": "stream",
          "name": "stdout",
          "text": [
            "Mounted at /content/drive\n"
          ]
        }
      ]
    },
    {
      "cell_type": "code",
      "source": [
        "\"\"\"\n",
        "Carga del archivo que contiene los datos en formato binario de Numpy (.npy). \n",
        "\n",
        "Este archivo estaba guardado en el Google Drive asociado a mi cuenta, por lo que si alguien ajeno a mi desea compilar el código deberá modificar\n",
        "la ruta de acceso. El archivo origial está disponible para descarga en el repositorio del proyecto en mi cuenta de Github.\n",
        "\n",
        "\"\"\"\n",
        "\n",
        "np.load('/content/drive/MyDrive/proyecto_training_data.npy')"
      ],
      "metadata": {
        "colab": {
          "base_uri": "https://localhost:8080/"
        },
        "id": "ItffcWFe_JiT",
        "outputId": "77efc2c1-94fe-4e25-9835-02d874548b5f"
      },
      "execution_count": 28,
      "outputs": [
        {
          "output_type": "execute_result",
          "data": {
            "text/plain": [
              "array([[2.08500e+05, 7.00000e+00, 8.56000e+02, 8.00000e+00, 2.00300e+03,\n",
              "        6.50000e+01],\n",
              "       [1.81500e+05, 6.00000e+00, 1.26200e+03, 6.00000e+00, 1.97600e+03,\n",
              "        8.00000e+01],\n",
              "       [2.23500e+05, 7.00000e+00, 9.20000e+02, 6.00000e+00, 2.00100e+03,\n",
              "        6.80000e+01],\n",
              "       ...,\n",
              "       [2.66500e+05, 7.00000e+00, 1.18800e+03, 9.00000e+00, 1.94100e+03,\n",
              "        6.60000e+01],\n",
              "       [1.42125e+05, 5.00000e+00, 1.07800e+03, 5.00000e+00, 1.95000e+03,\n",
              "        6.80000e+01],\n",
              "       [1.47500e+05, 5.00000e+00, 1.25600e+03, 6.00000e+00, 1.96500e+03,\n",
              "        7.50000e+01]])"
            ]
          },
          "metadata": {},
          "execution_count": 28
        }
      ]
    },
    {
      "cell_type": "markdown",
      "source": [
        "En este proyecto el 80% del dataset (rows) se usará para todo el proceso (análisis exploratorio, selección de variables a usar, crear modelos predictivos). A estos datos se les llamará \"datos de entrenamiento\"\n",
        "\n",
        "El 20% restante del dataset (rows) se usará para probar ,validar y evaluar los modelos resultantes. A estos datos se les llamará “datos de validación y pruebas”\n",
        "\n",
        "Este proyecto está basado en **La predicción de precios de casas** que suele ser utilizado como método de enseñanza de Python, por lo que las variables pueden ser definidas de las siguiente manera:\n",
        "\n",
        "**y** = El precio de venta real de cierta casa.\n",
        "\n",
        "**x** = Cierta característica de cierta casa.\n",
        "\n",
        "**yhat** = f(x) = Precio estimado o predicción del precio de venta para una casa con cierta característica x.\n",
        "\n",
        "**m** = pendiente de la recta que usamos para aproximar el precio de la casa yhat.\n",
        "\n",
        "**b** = intercepto de la recta que usamos para aproximar el precio de la casa yhat.\n",
        "\n",
        "\n"
      ],
      "metadata": {
        "id": "jbo1LafTAhpf"
      }
    }
  ],
  "metadata": {
    "language_info": {
      "name": "python"
    },
    "orig_nbformat": 4,
    "colab": {
      "name": "Proyecto Final - Data Science.ipynb",
      "provenance": [],
      "collapsed_sections": []
    },
    "kernelspec": {
      "name": "python3",
      "display_name": "Python 3"
    }
  },
  "nbformat": 4,
  "nbformat_minor": 0
}